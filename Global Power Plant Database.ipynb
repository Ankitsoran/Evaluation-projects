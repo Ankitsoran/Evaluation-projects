{
 "cells": [
  {
   "cell_type": "markdown",
   "id": "bc213aae",
   "metadata": {},
   "source": [
    "The Global Power Plant Database is a comprehensive, open source database of power plants around the world. It centralizes power plant data to make it easier to navigate, compare and draw insights for one’s own analysis. The database covers approximately 35,000 power plants from 167 countries and includes thermal plants (e.g. coal, gas, oil, nuclear, biomass, waste, geothermal) and renewables (e.g. hydro, wind, solar). Each power plant is geolocated and entries contain information on plant capacity, generation, ownership, and fuel type. It will be continuously updated as data becomes available.\n",
    "\n",
    "\n",
    "We define the \"Fuel Type\" attribute of our database based on common fuel categories. \n",
    "\n",
    "Prediction :   Make two prediction  1) Primary Fuel    2) capacity_mw "
   ]
  },
  {
   "cell_type": "code",
   "execution_count": 132,
   "id": "c6bc7d0e",
   "metadata": {},
   "outputs": [],
   "source": [
    "import pandas as pd\n",
    "import numpy as np\n",
    "import matplotlib.pyplot as plt\n",
    "import seaborn as sns\n",
    "from sklearn.preprocessing import LabelEncoder\n",
    "from scipy.stats import zscore\n",
    "from sklearn.preprocessing import power_transform\n",
    "from sklearn.preprocessing import MinMaxScaler\n",
    "from sklearn.metrics import mean_squared_error,mean_absolute_error\n",
    "from sklearn.metrics import r2_score\n",
    "from sklearn.model_selection import train_test_split\n",
    "from sklearn.model_selection import cross_val_score,GridSearchCV\n",
    "from sklearn.linear_model import LinearRegression,Ridge,LogisticRegression\n",
    "from sklearn.svm import SVR\n",
    "from sklearn.ensemble import RandomForestRegressor,RandomForestClassifier,AdaBoostClassifier,BaggingClassifier,GradientBoostingClassifier,GradientBoostingRegressor\n",
    "\n",
    "from sklearn.tree import DecisionTreeRegressor,DecisionTreeClassifier\n",
    "from sklearn.neighbors import KNeighborsClassifier\n",
    "from sklearn.metrics import accuracy_score,confusion_matrix,classification_report,precision_score,recall_score,f1_score,roc_auc_score\n",
    "\n",
    "\n",
    "\n",
    "import warnings\n",
    "warnings.filterwarnings('ignore')"
   ]
  },
  {
   "cell_type": "code",
   "execution_count": 4,
   "id": "efed7353",
   "metadata": {},
   "outputs": [
    {
     "data": {
      "text/html": [
       "<div>\n",
       "<style scoped>\n",
       "    .dataframe tbody tr th:only-of-type {\n",
       "        vertical-align: middle;\n",
       "    }\n",
       "\n",
       "    .dataframe tbody tr th {\n",
       "        vertical-align: top;\n",
       "    }\n",
       "\n",
       "    .dataframe thead th {\n",
       "        text-align: right;\n",
       "    }\n",
       "</style>\n",
       "<table border=\"1\" class=\"dataframe\">\n",
       "  <thead>\n",
       "    <tr style=\"text-align: right;\">\n",
       "      <th></th>\n",
       "      <th>country</th>\n",
       "      <th>country_long</th>\n",
       "      <th>name</th>\n",
       "      <th>gppd_idnr</th>\n",
       "      <th>capacity_mw</th>\n",
       "      <th>latitude</th>\n",
       "      <th>longitude</th>\n",
       "      <th>primary_fuel</th>\n",
       "      <th>other_fuel1</th>\n",
       "      <th>other_fuel2</th>\n",
       "      <th>...</th>\n",
       "      <th>geolocation_source</th>\n",
       "      <th>wepp_id</th>\n",
       "      <th>year_of_capacity_data</th>\n",
       "      <th>generation_gwh_2013</th>\n",
       "      <th>generation_gwh_2014</th>\n",
       "      <th>generation_gwh_2015</th>\n",
       "      <th>generation_gwh_2016</th>\n",
       "      <th>generation_gwh_2017</th>\n",
       "      <th>generation_data_source</th>\n",
       "      <th>estimated_generation_gwh</th>\n",
       "    </tr>\n",
       "  </thead>\n",
       "  <tbody>\n",
       "    <tr>\n",
       "      <th>805</th>\n",
       "      <td>IND</td>\n",
       "      <td>India</td>\n",
       "      <td>THANE PLANT</td>\n",
       "      <td>WRI1019990</td>\n",
       "      <td>22.5</td>\n",
       "      <td>19.0875</td>\n",
       "      <td>73.0258</td>\n",
       "      <td>Oil</td>\n",
       "      <td>NaN</td>\n",
       "      <td>NaN</td>\n",
       "      <td>...</td>\n",
       "      <td>WRI</td>\n",
       "      <td>NaN</td>\n",
       "      <td>NaN</td>\n",
       "      <td>NaN</td>\n",
       "      <td>NaN</td>\n",
       "      <td>NaN</td>\n",
       "      <td>NaN</td>\n",
       "      <td>NaN</td>\n",
       "      <td>NaN</td>\n",
       "      <td>NaN</td>\n",
       "    </tr>\n",
       "    <tr>\n",
       "      <th>248</th>\n",
       "      <td>IND</td>\n",
       "      <td>India</td>\n",
       "      <td>Gondri Solar Power Plant</td>\n",
       "      <td>WRI1026142</td>\n",
       "      <td>5.0</td>\n",
       "      <td>18.3055</td>\n",
       "      <td>76.6551</td>\n",
       "      <td>Solar</td>\n",
       "      <td>NaN</td>\n",
       "      <td>NaN</td>\n",
       "      <td>...</td>\n",
       "      <td>Industry About</td>\n",
       "      <td>NaN</td>\n",
       "      <td>NaN</td>\n",
       "      <td>NaN</td>\n",
       "      <td>NaN</td>\n",
       "      <td>NaN</td>\n",
       "      <td>NaN</td>\n",
       "      <td>NaN</td>\n",
       "      <td>NaN</td>\n",
       "      <td>NaN</td>\n",
       "    </tr>\n",
       "    <tr>\n",
       "      <th>394</th>\n",
       "      <td>IND</td>\n",
       "      <td>India</td>\n",
       "      <td>Kamuthi Solar Power Plant</td>\n",
       "      <td>WRI1026151</td>\n",
       "      <td>648.0</td>\n",
       "      <td>9.3381</td>\n",
       "      <td>78.3917</td>\n",
       "      <td>Solar</td>\n",
       "      <td>NaN</td>\n",
       "      <td>NaN</td>\n",
       "      <td>...</td>\n",
       "      <td>Industry About</td>\n",
       "      <td>NaN</td>\n",
       "      <td>NaN</td>\n",
       "      <td>NaN</td>\n",
       "      <td>NaN</td>\n",
       "      <td>NaN</td>\n",
       "      <td>NaN</td>\n",
       "      <td>NaN</td>\n",
       "      <td>NaN</td>\n",
       "      <td>NaN</td>\n",
       "    </tr>\n",
       "    <tr>\n",
       "      <th>688</th>\n",
       "      <td>IND</td>\n",
       "      <td>India</td>\n",
       "      <td>SANGLI KRANTI</td>\n",
       "      <td>WRI1019981</td>\n",
       "      <td>19.7</td>\n",
       "      <td>17.1354</td>\n",
       "      <td>74.4272</td>\n",
       "      <td>Biomass</td>\n",
       "      <td>NaN</td>\n",
       "      <td>NaN</td>\n",
       "      <td>...</td>\n",
       "      <td>WRI</td>\n",
       "      <td>NaN</td>\n",
       "      <td>NaN</td>\n",
       "      <td>NaN</td>\n",
       "      <td>NaN</td>\n",
       "      <td>NaN</td>\n",
       "      <td>NaN</td>\n",
       "      <td>NaN</td>\n",
       "      <td>NaN</td>\n",
       "      <td>NaN</td>\n",
       "    </tr>\n",
       "    <tr>\n",
       "      <th>29</th>\n",
       "      <td>IND</td>\n",
       "      <td>India</td>\n",
       "      <td>Andrha Lake Wind Farm</td>\n",
       "      <td>WRI1026768</td>\n",
       "      <td>113.6</td>\n",
       "      <td>18.8580</td>\n",
       "      <td>73.6396</td>\n",
       "      <td>Wind</td>\n",
       "      <td>NaN</td>\n",
       "      <td>NaN</td>\n",
       "      <td>...</td>\n",
       "      <td>WRI</td>\n",
       "      <td>NaN</td>\n",
       "      <td>NaN</td>\n",
       "      <td>NaN</td>\n",
       "      <td>NaN</td>\n",
       "      <td>NaN</td>\n",
       "      <td>NaN</td>\n",
       "      <td>NaN</td>\n",
       "      <td>NaN</td>\n",
       "      <td>NaN</td>\n",
       "    </tr>\n",
       "    <tr>\n",
       "      <th>292</th>\n",
       "      <td>IND</td>\n",
       "      <td>India</td>\n",
       "      <td>JAYPEE REWA CEMENT</td>\n",
       "      <td>WRI1020000</td>\n",
       "      <td>54.5</td>\n",
       "      <td>24.5650</td>\n",
       "      <td>81.1748</td>\n",
       "      <td>Coal</td>\n",
       "      <td>NaN</td>\n",
       "      <td>NaN</td>\n",
       "      <td>...</td>\n",
       "      <td>WRI</td>\n",
       "      <td>NaN</td>\n",
       "      <td>NaN</td>\n",
       "      <td>NaN</td>\n",
       "      <td>NaN</td>\n",
       "      <td>NaN</td>\n",
       "      <td>NaN</td>\n",
       "      <td>NaN</td>\n",
       "      <td>NaN</td>\n",
       "      <td>NaN</td>\n",
       "    </tr>\n",
       "    <tr>\n",
       "      <th>544</th>\n",
       "      <td>IND</td>\n",
       "      <td>India</td>\n",
       "      <td>NORTH CHENNAI</td>\n",
       "      <td>IND0000307</td>\n",
       "      <td>630.0</td>\n",
       "      <td>13.2450</td>\n",
       "      <td>80.3257</td>\n",
       "      <td>Coal</td>\n",
       "      <td>Oil</td>\n",
       "      <td>NaN</td>\n",
       "      <td>...</td>\n",
       "      <td>WRI</td>\n",
       "      <td>NaN</td>\n",
       "      <td>2018.0</td>\n",
       "      <td>3720.0640</td>\n",
       "      <td>3864.4340</td>\n",
       "      <td>4046.394</td>\n",
       "      <td>3365.7460</td>\n",
       "      <td>3824.13900</td>\n",
       "      <td>Central Electricity Authority</td>\n",
       "      <td>NaN</td>\n",
       "    </tr>\n",
       "    <tr>\n",
       "      <th>246</th>\n",
       "      <td>IND</td>\n",
       "      <td>India</td>\n",
       "      <td>Godawari</td>\n",
       "      <td>WRI1020242</td>\n",
       "      <td>50.0</td>\n",
       "      <td>27.6003</td>\n",
       "      <td>72.2241</td>\n",
       "      <td>Solar</td>\n",
       "      <td>NaN</td>\n",
       "      <td>NaN</td>\n",
       "      <td>...</td>\n",
       "      <td>National Renewable Energy Laboratory</td>\n",
       "      <td>NaN</td>\n",
       "      <td>NaN</td>\n",
       "      <td>NaN</td>\n",
       "      <td>NaN</td>\n",
       "      <td>NaN</td>\n",
       "      <td>NaN</td>\n",
       "      <td>NaN</td>\n",
       "      <td>NaN</td>\n",
       "      <td>NaN</td>\n",
       "    </tr>\n",
       "    <tr>\n",
       "      <th>577</th>\n",
       "      <td>IND</td>\n",
       "      <td>India</td>\n",
       "      <td>PARBATI-III</td>\n",
       "      <td>IND0000326</td>\n",
       "      <td>520.0</td>\n",
       "      <td>31.7398</td>\n",
       "      <td>77.2576</td>\n",
       "      <td>Hydro</td>\n",
       "      <td>NaN</td>\n",
       "      <td>NaN</td>\n",
       "      <td>...</td>\n",
       "      <td>WRI</td>\n",
       "      <td>NaN</td>\n",
       "      <td>2018.0</td>\n",
       "      <td>4.7561</td>\n",
       "      <td>657.4761</td>\n",
       "      <td>639.785</td>\n",
       "      <td>679.0676</td>\n",
       "      <td>706.97735</td>\n",
       "      <td>Central Electricity Authority</td>\n",
       "      <td>NaN</td>\n",
       "    </tr>\n",
       "    <tr>\n",
       "      <th>468</th>\n",
       "      <td>IND</td>\n",
       "      <td>India</td>\n",
       "      <td>MARATHA CEMENT PLANT</td>\n",
       "      <td>WRI1019969</td>\n",
       "      <td>45.0</td>\n",
       "      <td>19.7030</td>\n",
       "      <td>79.2206</td>\n",
       "      <td>Coal</td>\n",
       "      <td>NaN</td>\n",
       "      <td>NaN</td>\n",
       "      <td>...</td>\n",
       "      <td>WRI</td>\n",
       "      <td>NaN</td>\n",
       "      <td>NaN</td>\n",
       "      <td>NaN</td>\n",
       "      <td>NaN</td>\n",
       "      <td>NaN</td>\n",
       "      <td>NaN</td>\n",
       "      <td>NaN</td>\n",
       "      <td>NaN</td>\n",
       "      <td>NaN</td>\n",
       "    </tr>\n",
       "  </tbody>\n",
       "</table>\n",
       "<p>10 rows × 25 columns</p>\n",
       "</div>"
      ],
      "text/plain": [
       "    country country_long                       name   gppd_idnr  capacity_mw  \\\n",
       "805     IND        India                THANE PLANT  WRI1019990         22.5   \n",
       "248     IND        India   Gondri Solar Power Plant  WRI1026142          5.0   \n",
       "394     IND        India  Kamuthi Solar Power Plant  WRI1026151        648.0   \n",
       "688     IND        India              SANGLI KRANTI  WRI1019981         19.7   \n",
       "29      IND        India      Andrha Lake Wind Farm  WRI1026768        113.6   \n",
       "292     IND        India         JAYPEE REWA CEMENT  WRI1020000         54.5   \n",
       "544     IND        India              NORTH CHENNAI  IND0000307        630.0   \n",
       "246     IND        India                   Godawari  WRI1020242         50.0   \n",
       "577     IND        India                PARBATI-III  IND0000326        520.0   \n",
       "468     IND        India       MARATHA CEMENT PLANT  WRI1019969         45.0   \n",
       "\n",
       "     latitude  longitude primary_fuel other_fuel1 other_fuel2  ...  \\\n",
       "805   19.0875    73.0258          Oil         NaN         NaN  ...   \n",
       "248   18.3055    76.6551        Solar         NaN         NaN  ...   \n",
       "394    9.3381    78.3917        Solar         NaN         NaN  ...   \n",
       "688   17.1354    74.4272      Biomass         NaN         NaN  ...   \n",
       "29    18.8580    73.6396         Wind         NaN         NaN  ...   \n",
       "292   24.5650    81.1748         Coal         NaN         NaN  ...   \n",
       "544   13.2450    80.3257         Coal         Oil         NaN  ...   \n",
       "246   27.6003    72.2241        Solar         NaN         NaN  ...   \n",
       "577   31.7398    77.2576        Hydro         NaN         NaN  ...   \n",
       "468   19.7030    79.2206         Coal         NaN         NaN  ...   \n",
       "\n",
       "                       geolocation_source  wepp_id year_of_capacity_data  \\\n",
       "805                                   WRI      NaN                   NaN   \n",
       "248                        Industry About      NaN                   NaN   \n",
       "394                        Industry About      NaN                   NaN   \n",
       "688                                   WRI      NaN                   NaN   \n",
       "29                                    WRI      NaN                   NaN   \n",
       "292                                   WRI      NaN                   NaN   \n",
       "544                                   WRI      NaN                2018.0   \n",
       "246  National Renewable Energy Laboratory      NaN                   NaN   \n",
       "577                                   WRI      NaN                2018.0   \n",
       "468                                   WRI      NaN                   NaN   \n",
       "\n",
       "    generation_gwh_2013 generation_gwh_2014 generation_gwh_2015  \\\n",
       "805                 NaN                 NaN                 NaN   \n",
       "248                 NaN                 NaN                 NaN   \n",
       "394                 NaN                 NaN                 NaN   \n",
       "688                 NaN                 NaN                 NaN   \n",
       "29                  NaN                 NaN                 NaN   \n",
       "292                 NaN                 NaN                 NaN   \n",
       "544           3720.0640           3864.4340            4046.394   \n",
       "246                 NaN                 NaN                 NaN   \n",
       "577              4.7561            657.4761             639.785   \n",
       "468                 NaN                 NaN                 NaN   \n",
       "\n",
       "     generation_gwh_2016  generation_gwh_2017         generation_data_source  \\\n",
       "805                  NaN                  NaN                            NaN   \n",
       "248                  NaN                  NaN                            NaN   \n",
       "394                  NaN                  NaN                            NaN   \n",
       "688                  NaN                  NaN                            NaN   \n",
       "29                   NaN                  NaN                            NaN   \n",
       "292                  NaN                  NaN                            NaN   \n",
       "544            3365.7460           3824.13900  Central Electricity Authority   \n",
       "246                  NaN                  NaN                            NaN   \n",
       "577             679.0676            706.97735  Central Electricity Authority   \n",
       "468                  NaN                  NaN                            NaN   \n",
       "\n",
       "     estimated_generation_gwh  \n",
       "805                       NaN  \n",
       "248                       NaN  \n",
       "394                       NaN  \n",
       "688                       NaN  \n",
       "29                        NaN  \n",
       "292                       NaN  \n",
       "544                       NaN  \n",
       "246                       NaN  \n",
       "577                       NaN  \n",
       "468                       NaN  \n",
       "\n",
       "[10 rows x 25 columns]"
      ]
     },
     "execution_count": 4,
     "metadata": {},
     "output_type": "execute_result"
    }
   ],
   "source": [
    "df=pd.read_csv('https://raw.githubusercontent.com/wri/global-power-plant-database/master/source_databases_csv/database_IND.csv')\n",
    "df.sample(10)"
   ]
  },
  {
   "cell_type": "code",
   "execution_count": 5,
   "id": "88ffbf4a",
   "metadata": {},
   "outputs": [
    {
     "data": {
      "text/plain": [
       "(908, 25)"
      ]
     },
     "execution_count": 5,
     "metadata": {},
     "output_type": "execute_result"
    }
   ],
   "source": [
    "df.shape\n"
   ]
  },
  {
   "cell_type": "code",
   "execution_count": 6,
   "id": "a123a3c3",
   "metadata": {},
   "outputs": [
    {
     "data": {
      "text/plain": [
       "country                       0\n",
       "country_long                  0\n",
       "name                          0\n",
       "gppd_idnr                     0\n",
       "capacity_mw                   0\n",
       "latitude                     46\n",
       "longitude                    46\n",
       "primary_fuel                  0\n",
       "other_fuel1                 709\n",
       "other_fuel2                 907\n",
       "other_fuel3                 908\n",
       "commissioning_year          380\n",
       "owner                       566\n",
       "source                        0\n",
       "url                           0\n",
       "geolocation_source           19\n",
       "wepp_id                     908\n",
       "year_of_capacity_data       388\n",
       "generation_gwh_2013         524\n",
       "generation_gwh_2014         507\n",
       "generation_gwh_2015         483\n",
       "generation_gwh_2016         471\n",
       "generation_gwh_2017         465\n",
       "generation_data_source      458\n",
       "estimated_generation_gwh    908\n",
       "dtype: int64"
      ]
     },
     "execution_count": 6,
     "metadata": {},
     "output_type": "execute_result"
    }
   ],
   "source": [
    "df.isnull().sum()\n"
   ]
  },
  {
   "cell_type": "code",
   "execution_count": 7,
   "id": "2c49b1c8",
   "metadata": {},
   "outputs": [
    {
     "name": "stdout",
     "output_type": "stream",
     "text": [
      "<class 'pandas.core.frame.DataFrame'>\n",
      "RangeIndex: 908 entries, 0 to 907\n",
      "Data columns (total 25 columns):\n",
      " #   Column                    Non-Null Count  Dtype  \n",
      "---  ------                    --------------  -----  \n",
      " 0   country                   908 non-null    object \n",
      " 1   country_long              908 non-null    object \n",
      " 2   name                      908 non-null    object \n",
      " 3   gppd_idnr                 908 non-null    object \n",
      " 4   capacity_mw               908 non-null    float64\n",
      " 5   latitude                  862 non-null    float64\n",
      " 6   longitude                 862 non-null    float64\n",
      " 7   primary_fuel              908 non-null    object \n",
      " 8   other_fuel1               199 non-null    object \n",
      " 9   other_fuel2               1 non-null      object \n",
      " 10  other_fuel3               0 non-null      float64\n",
      " 11  commissioning_year        528 non-null    float64\n",
      " 12  owner                     342 non-null    object \n",
      " 13  source                    908 non-null    object \n",
      " 14  url                       908 non-null    object \n",
      " 15  geolocation_source        889 non-null    object \n",
      " 16  wepp_id                   0 non-null      float64\n",
      " 17  year_of_capacity_data     520 non-null    float64\n",
      " 18  generation_gwh_2013       384 non-null    float64\n",
      " 19  generation_gwh_2014       401 non-null    float64\n",
      " 20  generation_gwh_2015       425 non-null    float64\n",
      " 21  generation_gwh_2016       437 non-null    float64\n",
      " 22  generation_gwh_2017       443 non-null    float64\n",
      " 23  generation_data_source    450 non-null    object \n",
      " 24  estimated_generation_gwh  0 non-null      float64\n",
      "dtypes: float64(13), object(12)\n",
      "memory usage: 177.5+ KB\n"
     ]
    }
   ],
   "source": [
    "df.info()\n"
   ]
  },
  {
   "cell_type": "code",
   "execution_count": 8,
   "id": "5a55d19c",
   "metadata": {},
   "outputs": [
    {
     "data": {
      "text/plain": [
       "country                       0\n",
       "country_long                  0\n",
       "name                          0\n",
       "gppd_idnr                     0\n",
       "capacity_mw                   0\n",
       "latitude                     46\n",
       "longitude                    46\n",
       "primary_fuel                  0\n",
       "other_fuel1                 709\n",
       "other_fuel2                 907\n",
       "other_fuel3                 908\n",
       "commissioning_year          380\n",
       "owner                       566\n",
       "source                        0\n",
       "url                           0\n",
       "geolocation_source           19\n",
       "wepp_id                     908\n",
       "year_of_capacity_data       388\n",
       "generation_gwh_2013         524\n",
       "generation_gwh_2014         507\n",
       "generation_gwh_2015         483\n",
       "generation_gwh_2016         471\n",
       "generation_gwh_2017         465\n",
       "generation_data_source      458\n",
       "estimated_generation_gwh    908\n",
       "dtype: int64"
      ]
     },
     "execution_count": 8,
     "metadata": {},
     "output_type": "execute_result"
    }
   ],
   "source": [
    "df.isnull().sum()\n"
   ]
  },
  {
   "cell_type": "markdown",
   "id": "4a678e73",
   "metadata": {},
   "source": [
    "we are going to remove some columns those having maximum no of null values and also some unwamted columns because if we fill those values prediction will not be correct"
   ]
  },
  {
   "cell_type": "code",
   "execution_count": 9,
   "id": "dcc68adb",
   "metadata": {},
   "outputs": [],
   "source": [
    "df.drop(['estimated_generation_gwh','wepp_id','other_fuel3','other_fuel1','other_fuel2','gppd_idnr','owner','generation_data_source'],axis=1,inplace=True)\n"
   ]
  },
  {
   "cell_type": "code",
   "execution_count": 10,
   "id": "f54ca4b6",
   "metadata": {},
   "outputs": [
    {
     "data": {
      "text/plain": [
       "country                    0\n",
       "country_long               0\n",
       "name                       0\n",
       "capacity_mw                0\n",
       "latitude                  46\n",
       "longitude                 46\n",
       "primary_fuel               0\n",
       "commissioning_year       380\n",
       "source                     0\n",
       "url                        0\n",
       "geolocation_source        19\n",
       "year_of_capacity_data    388\n",
       "generation_gwh_2013      524\n",
       "generation_gwh_2014      507\n",
       "generation_gwh_2015      483\n",
       "generation_gwh_2016      471\n",
       "generation_gwh_2017      465\n",
       "dtype: int64"
      ]
     },
     "execution_count": 10,
     "metadata": {},
     "output_type": "execute_result"
    }
   ],
   "source": [
    "df.isnull().sum()\n"
   ]
  },
  {
   "cell_type": "code",
   "execution_count": 11,
   "id": "bb9799f5",
   "metadata": {},
   "outputs": [
    {
     "data": {
      "text/html": [
       "<div>\n",
       "<style scoped>\n",
       "    .dataframe tbody tr th:only-of-type {\n",
       "        vertical-align: middle;\n",
       "    }\n",
       "\n",
       "    .dataframe tbody tr th {\n",
       "        vertical-align: top;\n",
       "    }\n",
       "\n",
       "    .dataframe thead th {\n",
       "        text-align: right;\n",
       "    }\n",
       "</style>\n",
       "<table border=\"1\" class=\"dataframe\">\n",
       "  <thead>\n",
       "    <tr style=\"text-align: right;\">\n",
       "      <th></th>\n",
       "      <th>capacity_mw</th>\n",
       "      <th>latitude</th>\n",
       "      <th>longitude</th>\n",
       "      <th>commissioning_year</th>\n",
       "      <th>year_of_capacity_data</th>\n",
       "      <th>generation_gwh_2013</th>\n",
       "      <th>generation_gwh_2014</th>\n",
       "      <th>generation_gwh_2015</th>\n",
       "      <th>generation_gwh_2016</th>\n",
       "      <th>generation_gwh_2017</th>\n",
       "    </tr>\n",
       "  </thead>\n",
       "  <tbody>\n",
       "    <tr>\n",
       "      <th>count</th>\n",
       "      <td>908.000000</td>\n",
       "      <td>862.000000</td>\n",
       "      <td>862.000000</td>\n",
       "      <td>528.000000</td>\n",
       "      <td>520.0</td>\n",
       "      <td>384.000000</td>\n",
       "      <td>401.000000</td>\n",
       "      <td>425.000000</td>\n",
       "      <td>437.000000</td>\n",
       "      <td>443.000000</td>\n",
       "    </tr>\n",
       "    <tr>\n",
       "      <th>mean</th>\n",
       "      <td>321.046378</td>\n",
       "      <td>21.196189</td>\n",
       "      <td>77.447848</td>\n",
       "      <td>1996.876894</td>\n",
       "      <td>2018.0</td>\n",
       "      <td>2304.059202</td>\n",
       "      <td>2420.393316</td>\n",
       "      <td>2414.072373</td>\n",
       "      <td>2453.936292</td>\n",
       "      <td>2531.754458</td>\n",
       "    </tr>\n",
       "    <tr>\n",
       "      <th>std</th>\n",
       "      <td>580.221767</td>\n",
       "      <td>6.248627</td>\n",
       "      <td>4.907260</td>\n",
       "      <td>17.047817</td>\n",
       "      <td>0.0</td>\n",
       "      <td>3794.767492</td>\n",
       "      <td>4013.558173</td>\n",
       "      <td>4183.203199</td>\n",
       "      <td>4152.038216</td>\n",
       "      <td>4187.236364</td>\n",
       "    </tr>\n",
       "    <tr>\n",
       "      <th>min</th>\n",
       "      <td>0.000000</td>\n",
       "      <td>8.168900</td>\n",
       "      <td>68.644700</td>\n",
       "      <td>1927.000000</td>\n",
       "      <td>2018.0</td>\n",
       "      <td>0.000000</td>\n",
       "      <td>0.000000</td>\n",
       "      <td>0.000000</td>\n",
       "      <td>0.000000</td>\n",
       "      <td>0.000000</td>\n",
       "    </tr>\n",
       "    <tr>\n",
       "      <th>25%</th>\n",
       "      <td>16.837500</td>\n",
       "      <td>16.771575</td>\n",
       "      <td>74.258975</td>\n",
       "      <td>1988.000000</td>\n",
       "      <td>2018.0</td>\n",
       "      <td>244.458088</td>\n",
       "      <td>223.650436</td>\n",
       "      <td>174.174750</td>\n",
       "      <td>187.193669</td>\n",
       "      <td>177.643170</td>\n",
       "    </tr>\n",
       "    <tr>\n",
       "      <th>50%</th>\n",
       "      <td>60.000000</td>\n",
       "      <td>21.778300</td>\n",
       "      <td>76.719250</td>\n",
       "      <td>2000.000000</td>\n",
       "      <td>2018.0</td>\n",
       "      <td>797.063475</td>\n",
       "      <td>805.760000</td>\n",
       "      <td>701.027250</td>\n",
       "      <td>716.728350</td>\n",
       "      <td>807.601700</td>\n",
       "    </tr>\n",
       "    <tr>\n",
       "      <th>75%</th>\n",
       "      <td>388.125000</td>\n",
       "      <td>25.516375</td>\n",
       "      <td>79.441475</td>\n",
       "      <td>2011.250000</td>\n",
       "      <td>2018.0</td>\n",
       "      <td>2795.021500</td>\n",
       "      <td>3034.575000</td>\n",
       "      <td>3080.000000</td>\n",
       "      <td>3263.483000</td>\n",
       "      <td>3258.785000</td>\n",
       "    </tr>\n",
       "    <tr>\n",
       "      <th>max</th>\n",
       "      <td>4760.000000</td>\n",
       "      <td>34.649000</td>\n",
       "      <td>95.408000</td>\n",
       "      <td>2018.000000</td>\n",
       "      <td>2018.0</td>\n",
       "      <td>27586.200000</td>\n",
       "      <td>28127.000000</td>\n",
       "      <td>30539.000000</td>\n",
       "      <td>30015.000000</td>\n",
       "      <td>35116.000000</td>\n",
       "    </tr>\n",
       "  </tbody>\n",
       "</table>\n",
       "</div>"
      ],
      "text/plain": [
       "       capacity_mw    latitude   longitude  commissioning_year  \\\n",
       "count   908.000000  862.000000  862.000000          528.000000   \n",
       "mean    321.046378   21.196189   77.447848         1996.876894   \n",
       "std     580.221767    6.248627    4.907260           17.047817   \n",
       "min       0.000000    8.168900   68.644700         1927.000000   \n",
       "25%      16.837500   16.771575   74.258975         1988.000000   \n",
       "50%      60.000000   21.778300   76.719250         2000.000000   \n",
       "75%     388.125000   25.516375   79.441475         2011.250000   \n",
       "max    4760.000000   34.649000   95.408000         2018.000000   \n",
       "\n",
       "       year_of_capacity_data  generation_gwh_2013  generation_gwh_2014  \\\n",
       "count                  520.0           384.000000           401.000000   \n",
       "mean                  2018.0          2304.059202          2420.393316   \n",
       "std                      0.0          3794.767492          4013.558173   \n",
       "min                   2018.0             0.000000             0.000000   \n",
       "25%                   2018.0           244.458088           223.650436   \n",
       "50%                   2018.0           797.063475           805.760000   \n",
       "75%                   2018.0          2795.021500          3034.575000   \n",
       "max                   2018.0         27586.200000         28127.000000   \n",
       "\n",
       "       generation_gwh_2015  generation_gwh_2016  generation_gwh_2017  \n",
       "count           425.000000           437.000000           443.000000  \n",
       "mean           2414.072373          2453.936292          2531.754458  \n",
       "std            4183.203199          4152.038216          4187.236364  \n",
       "min               0.000000             0.000000             0.000000  \n",
       "25%             174.174750           187.193669           177.643170  \n",
       "50%             701.027250           716.728350           807.601700  \n",
       "75%            3080.000000          3263.483000          3258.785000  \n",
       "max           30539.000000         30015.000000         35116.000000  "
      ]
     },
     "execution_count": 11,
     "metadata": {},
     "output_type": "execute_result"
    }
   ],
   "source": [
    "df.describe()\n"
   ]
  },
  {
   "cell_type": "code",
   "execution_count": 12,
   "id": "fd914656",
   "metadata": {},
   "outputs": [
    {
     "data": {
      "text/plain": [
       "1"
      ]
     },
     "execution_count": 12,
     "metadata": {},
     "output_type": "execute_result"
    }
   ],
   "source": [
    "# checking for unique values\n",
    "df['year_of_capacity_data'].nunique()\n"
   ]
  },
  {
   "cell_type": "code",
   "execution_count": 13,
   "id": "ba9fefb1",
   "metadata": {},
   "outputs": [],
   "source": [
    "# removing 'year_of_capacity_data' column\n",
    "df.drop('year_of_capacity_data',axis=1,inplace=True)"
   ]
  },
  {
   "cell_type": "code",
   "execution_count": 14,
   "id": "04e2c86f",
   "metadata": {},
   "outputs": [],
   "source": [
    "# removing 'name ' column\n",
    "df.drop(['name','url'],axis=1,inplace=True)"
   ]
  },
  {
   "cell_type": "code",
   "execution_count": 15,
   "id": "611202cc",
   "metadata": {},
   "outputs": [
    {
     "data": {
      "text/plain": [
       "array(['National Renewable Energy Laboratory', 'WRI', nan,\n",
       "       'Industry About'], dtype=object)"
      ]
     },
     "execution_count": 15,
     "metadata": {},
     "output_type": "execute_result"
    }
   ],
   "source": [
    "#checking for unique values\n",
    "df['geolocation_source'].unique()"
   ]
  },
  {
   "cell_type": "code",
   "execution_count": 16,
   "id": "39fc4e61",
   "metadata": {},
   "outputs": [],
   "source": [
    "# filling geolocation_source with mode because category data\n",
    "df['geolocation_source'].fillna(df['geolocation_source'].mode()[0], inplace=True)"
   ]
  },
  {
   "cell_type": "code",
   "execution_count": 17,
   "id": "af9cf7d1",
   "metadata": {},
   "outputs": [],
   "source": [
    "# filling null values with median in numerical columns\n",
    "df.fillna(df.median()[0], inplace=True)"
   ]
  },
  {
   "cell_type": "code",
   "execution_count": 18,
   "id": "a5494b83",
   "metadata": {},
   "outputs": [
    {
     "data": {
      "text/plain": [
       "country                0\n",
       "country_long           0\n",
       "capacity_mw            0\n",
       "latitude               0\n",
       "longitude              0\n",
       "primary_fuel           0\n",
       "commissioning_year     0\n",
       "source                 0\n",
       "geolocation_source     0\n",
       "generation_gwh_2013    0\n",
       "generation_gwh_2014    0\n",
       "generation_gwh_2015    0\n",
       "generation_gwh_2016    0\n",
       "generation_gwh_2017    0\n",
       "dtype: int64"
      ]
     },
     "execution_count": 18,
     "metadata": {},
     "output_type": "execute_result"
    }
   ],
   "source": [
    "df.isnull().sum()\n"
   ]
  },
  {
   "cell_type": "markdown",
   "id": "0def2dbb",
   "metadata": {},
   "source": [
    "succesfully removed the null values "
   ]
  },
  {
   "cell_type": "code",
   "execution_count": 19,
   "id": "675e3505",
   "metadata": {},
   "outputs": [
    {
     "data": {
      "text/plain": [
       "191"
      ]
     },
     "execution_count": 19,
     "metadata": {},
     "output_type": "execute_result"
    }
   ],
   "source": [
    "df['source'].nunique()\n"
   ]
  },
  {
   "cell_type": "code",
   "execution_count": 20,
   "id": "0851d6e2",
   "metadata": {},
   "outputs": [
    {
     "data": {
      "text/plain": [
       "3"
      ]
     },
     "execution_count": 20,
     "metadata": {},
     "output_type": "execute_result"
    }
   ],
   "source": [
    "df['geolocation_source'].nunique()\n"
   ]
  },
  {
   "cell_type": "code",
   "execution_count": 21,
   "id": "fe66aa6b",
   "metadata": {},
   "outputs": [
    {
     "data": {
      "text/plain": [
       "1"
      ]
     },
     "execution_count": 21,
     "metadata": {},
     "output_type": "execute_result"
    }
   ],
   "source": [
    "df['country'].nunique()\n"
   ]
  },
  {
   "cell_type": "markdown",
   "id": "32ac82ff",
   "metadata": {},
   "source": [
    "dropping columns'country' and 'country_long' because having one country name only,it will not help for any prediction"
   ]
  },
  {
   "cell_type": "code",
   "execution_count": 22,
   "id": "c5fc8270",
   "metadata": {},
   "outputs": [],
   "source": [
    "df.drop(['country','country_long'],axis=1,inplace=True)\n"
   ]
  },
  {
   "cell_type": "code",
   "execution_count": 23,
   "id": "23b2eb75",
   "metadata": {},
   "outputs": [
    {
     "name": "stdout",
     "output_type": "stream",
     "text": [
      "<class 'pandas.core.frame.DataFrame'>\n",
      "RangeIndex: 908 entries, 0 to 907\n",
      "Data columns (total 12 columns):\n",
      " #   Column               Non-Null Count  Dtype  \n",
      "---  ------               --------------  -----  \n",
      " 0   capacity_mw          908 non-null    float64\n",
      " 1   latitude             908 non-null    float64\n",
      " 2   longitude            908 non-null    float64\n",
      " 3   primary_fuel         908 non-null    object \n",
      " 4   commissioning_year   908 non-null    float64\n",
      " 5   source               908 non-null    object \n",
      " 6   geolocation_source   908 non-null    object \n",
      " 7   generation_gwh_2013  908 non-null    float64\n",
      " 8   generation_gwh_2014  908 non-null    float64\n",
      " 9   generation_gwh_2015  908 non-null    float64\n",
      " 10  generation_gwh_2016  908 non-null    float64\n",
      " 11  generation_gwh_2017  908 non-null    float64\n",
      "dtypes: float64(9), object(3)\n",
      "memory usage: 85.2+ KB\n"
     ]
    }
   ],
   "source": [
    "df.info()"
   ]
  },
  {
   "cell_type": "code",
   "execution_count": 24,
   "id": "eb493ca7",
   "metadata": {},
   "outputs": [
    {
     "data": {
      "text/plain": [
       "<AxesSubplot:xlabel='primary_fuel', ylabel='count'>"
      ]
     },
     "execution_count": 24,
     "metadata": {},
     "output_type": "execute_result"
    },
    {
     "data": {
      "image/png": "[encoded data removed]",
      "text/plain": [
       "<Figure size 432x288 with 1 Axes>"
      ]
     },
     "metadata": {},
     "output_type": "display_data"
    }
   ],
   "source": [
    "#count plot\n",
    "sns.set_style(\"darkgrid\")\n",
    "sns.countplot(x=\"primary_fuel\", data=df)"
   ]
  },
  {
   "cell_type": "markdown",
   "id": "64c24b07",
   "metadata": {},
   "source": [
    "# EDA"
   ]
  },
  {
   "cell_type": "code",
   "execution_count": 25,
   "id": "5f101b17",
   "metadata": {},
   "outputs": [
    {
     "data": {
      "text/html": [
       "<div>\n",
       "<style scoped>\n",
       "    .dataframe tbody tr th:only-of-type {\n",
       "        vertical-align: middle;\n",
       "    }\n",
       "\n",
       "    .dataframe tbody tr th {\n",
       "        vertical-align: top;\n",
       "    }\n",
       "\n",
       "    .dataframe thead th {\n",
       "        text-align: right;\n",
       "    }\n",
       "</style>\n",
       "<table border=\"1\" class=\"dataframe\">\n",
       "  <thead>\n",
       "    <tr style=\"text-align: right;\">\n",
       "      <th></th>\n",
       "      <th>capacity_mw</th>\n",
       "      <th>latitude</th>\n",
       "      <th>longitude</th>\n",
       "      <th>primary_fuel</th>\n",
       "      <th>commissioning_year</th>\n",
       "      <th>source</th>\n",
       "      <th>geolocation_source</th>\n",
       "      <th>generation_gwh_2013</th>\n",
       "      <th>generation_gwh_2014</th>\n",
       "      <th>generation_gwh_2015</th>\n",
       "      <th>generation_gwh_2016</th>\n",
       "      <th>generation_gwh_2017</th>\n",
       "    </tr>\n",
       "  </thead>\n",
       "  <tbody>\n",
       "    <tr>\n",
       "      <th>0</th>\n",
       "      <td>2.5</td>\n",
       "      <td>28.1839</td>\n",
       "      <td>73.2407</td>\n",
       "      <td>Solar</td>\n",
       "      <td>2011.0</td>\n",
       "      <td>National Renewable Energy Laboratory</td>\n",
       "      <td>National Renewable Energy Laboratory</td>\n",
       "      <td>60.000000</td>\n",
       "      <td>60.000000</td>\n",
       "      <td>60.000</td>\n",
       "      <td>60.000000</td>\n",
       "      <td>60.000000</td>\n",
       "    </tr>\n",
       "    <tr>\n",
       "      <th>1</th>\n",
       "      <td>98.0</td>\n",
       "      <td>24.7663</td>\n",
       "      <td>74.6090</td>\n",
       "      <td>Coal</td>\n",
       "      <td>60.0</td>\n",
       "      <td>Ultratech Cement ltd</td>\n",
       "      <td>WRI</td>\n",
       "      <td>60.000000</td>\n",
       "      <td>60.000000</td>\n",
       "      <td>60.000</td>\n",
       "      <td>60.000000</td>\n",
       "      <td>60.000000</td>\n",
       "    </tr>\n",
       "    <tr>\n",
       "      <th>2</th>\n",
       "      <td>39.2</td>\n",
       "      <td>21.9038</td>\n",
       "      <td>69.3732</td>\n",
       "      <td>Wind</td>\n",
       "      <td>60.0</td>\n",
       "      <td>CDM</td>\n",
       "      <td>WRI</td>\n",
       "      <td>60.000000</td>\n",
       "      <td>60.000000</td>\n",
       "      <td>60.000</td>\n",
       "      <td>60.000000</td>\n",
       "      <td>60.000000</td>\n",
       "    </tr>\n",
       "    <tr>\n",
       "      <th>3</th>\n",
       "      <td>135.0</td>\n",
       "      <td>23.8712</td>\n",
       "      <td>91.3602</td>\n",
       "      <td>Gas</td>\n",
       "      <td>2004.0</td>\n",
       "      <td>Central Electricity Authority</td>\n",
       "      <td>WRI</td>\n",
       "      <td>631.777928</td>\n",
       "      <td>617.789264</td>\n",
       "      <td>843.747</td>\n",
       "      <td>886.004428</td>\n",
       "      <td>663.774500</td>\n",
       "    </tr>\n",
       "    <tr>\n",
       "      <th>4</th>\n",
       "      <td>1800.0</td>\n",
       "      <td>21.9603</td>\n",
       "      <td>82.4091</td>\n",
       "      <td>Coal</td>\n",
       "      <td>2015.0</td>\n",
       "      <td>Central Electricity Authority</td>\n",
       "      <td>WRI</td>\n",
       "      <td>1668.290000</td>\n",
       "      <td>3035.550000</td>\n",
       "      <td>5916.370</td>\n",
       "      <td>6243.000000</td>\n",
       "      <td>5385.579736</td>\n",
       "    </tr>\n",
       "  </tbody>\n",
       "</table>\n",
       "</div>"
      ],
      "text/plain": [
       "   capacity_mw  latitude  longitude primary_fuel  commissioning_year  \\\n",
       "0          2.5   28.1839    73.2407        Solar              2011.0   \n",
       "1         98.0   24.7663    74.6090         Coal                60.0   \n",
       "2         39.2   21.9038    69.3732         Wind                60.0   \n",
       "3        135.0   23.8712    91.3602          Gas              2004.0   \n",
       "4       1800.0   21.9603    82.4091         Coal              2015.0   \n",
       "\n",
       "                                 source                    geolocation_source  \\\n",
       "0  National Renewable Energy Laboratory  National Renewable Energy Laboratory   \n",
       "1                  Ultratech Cement ltd                                   WRI   \n",
       "2                                   CDM                                   WRI   \n",
       "3         Central Electricity Authority                                   WRI   \n",
       "4         Central Electricity Authority                                   WRI   \n",
       "\n",
       "   generation_gwh_2013  generation_gwh_2014  generation_gwh_2015  \\\n",
       "0            60.000000            60.000000               60.000   \n",
       "1            60.000000            60.000000               60.000   \n",
       "2            60.000000            60.000000               60.000   \n",
       "3           631.777928           617.789264              843.747   \n",
       "4          1668.290000          3035.550000             5916.370   \n",
       "\n",
       "   generation_gwh_2016  generation_gwh_2017  \n",
       "0            60.000000            60.000000  \n",
       "1            60.000000            60.000000  \n",
       "2            60.000000            60.000000  \n",
       "3           886.004428           663.774500  \n",
       "4          6243.000000          5385.579736  "
      ]
     },
     "execution_count": 25,
     "metadata": {},
     "output_type": "execute_result"
    }
   ],
   "source": [
    "df.head()\n"
   ]
  },
  {
   "cell_type": "code",
   "execution_count": 26,
   "id": "f58a58eb",
   "metadata": {},
   "outputs": [
    {
     "data": {
      "text/plain": [
       "<AxesSubplot:>"
      ]
     },
     "execution_count": 26,
     "metadata": {},
     "output_type": "execute_result"
    },
    {
     "data": {
      "image/png": "[encoded data removed]",
      "text/plain": [
       "<Figure size 432x288 with 2 Axes>"
      ]
     },
     "metadata": {},
     "output_type": "display_data"
    }
   ],
   "source": [
    "dfcorr=df.corr()\n",
    "sns.heatmap(dfcorr,annot=True, linewidth=2)\n"
   ]
  },
  {
   "cell_type": "markdown",
   "id": "b2e36e5a",
   "metadata": {},
   "source": [
    "Here we can notice generation_gwh_2013,__2014,__2015,__2016 ,__2017 are positively correlated to capacity_mw and latitude is negative correlated"
   ]
  },
  {
   "cell_type": "code",
   "execution_count": 27,
   "id": "ec3d772c",
   "metadata": {},
   "outputs": [
    {
     "data": {
      "text/plain": [
       "<AxesSubplot:xlabel='capacity_mw', ylabel='generation_gwh_2013'>"
      ]
     },
     "execution_count": 27,
     "metadata": {},
     "output_type": "execute_result"
    },
    {
     "data": {
      "image/png": "[encoded data removed]",
      "text/plain": [
       "<Figure size 576x288 with 1 Axes>"
      ]
     },
     "metadata": {},
     "output_type": "display_data"
    }
   ],
   "source": [
    "plt.figure(figsize=(8,4))\n",
    "sns.scatterplot(x='capacity_mw',y='generation_gwh_2013',data=df)"
   ]
  },
  {
   "cell_type": "markdown",
   "id": "078b7602",
   "metadata": {},
   "source": [
    "we can notice here as electricity generation in gigawatt-hour increasing also increasing the no of electrical generating capacity in megawatts in 2013"
   ]
  },
  {
   "cell_type": "code",
   "execution_count": 28,
   "id": "27c55710",
   "metadata": {},
   "outputs": [
    {
     "data": {
      "text/plain": [
       "<AxesSubplot:xlabel='capacity_mw', ylabel='generation_gwh_2014'>"
      ]
     },
     "execution_count": 28,
     "metadata": {},
     "output_type": "execute_result"
    },
    {
     "data": {
      "image/png": "[encoded data removed]",
      "text/plain": [
       "<Figure size 576x288 with 1 Axes>"
      ]
     },
     "metadata": {},
     "output_type": "display_data"
    }
   ],
   "source": [
    "plt.figure(figsize=(8,4))\n",
    "sns.scatterplot(x='capacity_mw',y='generation_gwh_2014',data=df)\n"
   ]
  },
  {
   "cell_type": "markdown",
   "id": "2e420ace",
   "metadata": {},
   "source": [
    "In 2014 we can also notice here as electricity generation in gigawatt-hour increasing also increasing the no of electrical generating capacity in megawatts in 2014"
   ]
  },
  {
   "cell_type": "code",
   "execution_count": 29,
   "id": "fda55ce8",
   "metadata": {},
   "outputs": [
    {
     "data": {
      "text/plain": [
       "<AxesSubplot:xlabel='capacity_mw', ylabel='generation_gwh_2015'>"
      ]
     },
     "execution_count": 29,
     "metadata": {},
     "output_type": "execute_result"
    },
    {
     "data": {
      "image/png": "[encoded data removed]",
      "text/plain": [
       "<Figure size 576x288 with 1 Axes>"
      ]
     },
     "metadata": {},
     "output_type": "display_data"
    }
   ],
   "source": [
    "plt.figure(figsize=(8,4))\n",
    "sns.scatterplot(x='capacity_mw',y='generation_gwh_2015',data=df)"
   ]
  },
  {
   "cell_type": "markdown",
   "id": "edd8a63d",
   "metadata": {},
   "source": [
    "In 2015 we can also notice here as electricity generation in gigawatt-hour increasing also increasing the no of electrical generating capacity in megawatts in 2015"
   ]
  },
  {
   "cell_type": "code",
   "execution_count": 30,
   "id": "e76fa25b",
   "metadata": {},
   "outputs": [
    {
     "data": {
      "text/plain": [
       "<AxesSubplot:xlabel='capacity_mw', ylabel='generation_gwh_2016'>"
      ]
     },
     "execution_count": 30,
     "metadata": {},
     "output_type": "execute_result"
    },
    {
     "data": {
      "image/png": "[encoded data removed]",
      "text/plain": [
       "<Figure size 576x288 with 1 Axes>"
      ]
     },
     "metadata": {},
     "output_type": "display_data"
    }
   ],
   "source": [
    "plt.figure(figsize=(8,4))\n",
    "sns.scatterplot(x='capacity_mw',y='generation_gwh_2016',data=df)"
   ]
  },
  {
   "cell_type": "markdown",
   "id": "b07b13c5",
   "metadata": {},
   "source": [
    "In 2016 we can also notice here as electricity generation in gigawatt-hour increasing also increasing the no of electrical generating capacity in megawatts in 2016"
   ]
  },
  {
   "cell_type": "code",
   "execution_count": 31,
   "id": "27d149c0",
   "metadata": {},
   "outputs": [
    {
     "data": {
      "text/plain": [
       "<AxesSubplot:xlabel='capacity_mw', ylabel='generation_gwh_2017'>"
      ]
     },
     "execution_count": 31,
     "metadata": {},
     "output_type": "execute_result"
    },
    {
     "data": {
      "image/png": "[encoded data removed]",
      "text/plain": [
       "<Figure size 576x288 with 1 Axes>"
      ]
     },
     "metadata": {},
     "output_type": "display_data"
    }
   ],
   "source": [
    "plt.figure(figsize=(8,4))\n",
    "sns.scatterplot(x='capacity_mw',y='generation_gwh_2017',data=df)"
   ]
  },
  {
   "cell_type": "markdown",
   "id": "e636ae87",
   "metadata": {},
   "source": [
    "In 2017 we can also notice here as electricity generation in gigawatt-hour increasing also increasing the no of electrical generating capacity in megawatts in 2017"
   ]
  },
  {
   "cell_type": "code",
   "execution_count": 32,
   "id": "6ee127e6",
   "metadata": {},
   "outputs": [
    {
     "data": {
      "text/plain": [
       "<AxesSubplot:xlabel='capacity_mw', ylabel='latitude'>"
      ]
     },
     "execution_count": 32,
     "metadata": {},
     "output_type": "execute_result"
    },
    {
     "data": {
      "image/png": "[encoded data removed]",
      "text/plain": [
       "<Figure size 576x288 with 1 Axes>"
      ]
     },
     "metadata": {},
     "output_type": "display_data"
    }
   ],
   "source": [
    "plt.figure(figsize=(8,4))\n",
    "sns.scatterplot(x='capacity_mw',y='latitude',data=df)"
   ]
  },
  {
   "cell_type": "code",
   "execution_count": 33,
   "id": "95ad6b60",
   "metadata": {},
   "outputs": [
    {
     "data": {
      "text/plain": [
       "<AxesSubplot:xlabel='primary_fuel', ylabel='generation_gwh_2013'>"
      ]
     },
     "execution_count": 33,
     "metadata": {},
     "output_type": "execute_result"
    },
    {
     "data": {
      "image/png": "[encoded data removed]",
      "text/plain": [
       "<Figure size 576x288 with 1 Axes>"
      ]
     },
     "metadata": {},
     "output_type": "display_data"
    }
   ],
   "source": [
    "plt.figure(figsize=(8,4))\n",
    "sns.scatterplot(x='primary_fuel',y='generation_gwh_2013',data=df)"
   ]
  },
  {
   "cell_type": "markdown",
   "id": "3431950f",
   "metadata": {},
   "source": [
    "we can here the coal is most used fuel in 2013 and Nuclear,Gas and hydro on average use and Solar,Wind Bomass and oil was very less used"
   ]
  },
  {
   "cell_type": "code",
   "execution_count": 34,
   "id": "b67aa280",
   "metadata": {},
   "outputs": [
    {
     "data": {
      "text/plain": [
       "<AxesSubplot:xlabel='primary_fuel', ylabel='generation_gwh_2014'>"
      ]
     },
     "execution_count": 34,
     "metadata": {},
     "output_type": "execute_result"
    },
    {
     "data": {
      "image/png": "[encoded data removed]",
      "text/plain": [
       "<Figure size 576x288 with 1 Axes>"
      ]
     },
     "metadata": {},
     "output_type": "display_data"
    }
   ],
   "source": [
    "plt.figure(figsize=(8,4))\n",
    "sns.scatterplot(x='primary_fuel',y='generation_gwh_2014',data=df)"
   ]
  },
  {
   "cell_type": "code",
   "execution_count": 35,
   "id": "bd78025b",
   "metadata": {},
   "outputs": [
    {
     "data": {
      "text/plain": [
       "<AxesSubplot:xlabel='primary_fuel', ylabel='generation_gwh_2015'>"
      ]
     },
     "execution_count": 35,
     "metadata": {},
     "output_type": "execute_result"
    },
    {
     "data": {
      "image/png": "[encoded data removed]",
      "text/plain": [
       "<Figure size 576x288 with 1 Axes>"
      ]
     },
     "metadata": {},
     "output_type": "display_data"
    }
   ],
   "source": [
    "plt.figure(figsize=(8,4))\n",
    "sns.scatterplot(x='primary_fuel',y='generation_gwh_2015',data=df)"
   ]
  },
  {
   "cell_type": "code",
   "execution_count": 36,
   "id": "185bac3c",
   "metadata": {},
   "outputs": [
    {
     "data": {
      "text/plain": [
       "<AxesSubplot:xlabel='primary_fuel', ylabel='generation_gwh_2016'>"
      ]
     },
     "execution_count": 36,
     "metadata": {},
     "output_type": "execute_result"
    },
    {
     "data": {
      "image/png": "[encoded data removed]",
      "text/plain": [
       "<Figure size 576x288 with 1 Axes>"
      ]
     },
     "metadata": {},
     "output_type": "display_data"
    }
   ],
   "source": [
    "plt.figure(figsize=(8,4))\n",
    "sns.scatterplot(x='primary_fuel',y='generation_gwh_2016',data=df)"
   ]
  },
  {
   "cell_type": "code",
   "execution_count": 37,
   "id": "1c1acec3",
   "metadata": {},
   "outputs": [
    {
     "data": {
      "text/plain": [
       "<AxesSubplot:xlabel='primary_fuel', ylabel='generation_gwh_2017'>"
      ]
     },
     "execution_count": 37,
     "metadata": {},
     "output_type": "execute_result"
    },
    {
     "data": {
      "image/png": "[encoded data removed]",
      "text/plain": [
       "<Figure size 576x288 with 1 Axes>"
      ]
     },
     "metadata": {},
     "output_type": "display_data"
    }
   ],
   "source": [
    "plt.figure(figsize=(8,4))\n",
    "sns.scatterplot(x='primary_fuel',y='generation_gwh_2017',data=df)"
   ]
  },
  {
   "cell_type": "markdown",
   "id": "2080147d",
   "metadata": {},
   "source": [
    "Coal is the mostly used fuel in the entire series of years. whereas oil is used very less.\n"
   ]
  },
  {
   "cell_type": "code",
   "execution_count": 38,
   "id": "0608f1b7",
   "metadata": {},
   "outputs": [
    {
     "data": {
      "text/plain": [
       "<AxesSubplot:xlabel='primary_fuel', ylabel='latitude'>"
      ]
     },
     "execution_count": 38,
     "metadata": {},
     "output_type": "execute_result"
    },
    {
     "data": {
      "image/png": "[encoded data removed]",
      "text/plain": [
       "<Figure size 720x432 with 1 Axes>"
      ]
     },
     "metadata": {},
     "output_type": "display_data"
    }
   ],
   "source": [
    "plt.figure(figsize=(10,6))\n",
    "sns.scatterplot(x='primary_fuel',y='latitude',data=df)"
   ]
  },
  {
   "cell_type": "markdown",
   "id": "79814bb3",
   "metadata": {},
   "source": [
    "# Using LabelEncoder for convering categorical to numerical\n"
   ]
  },
  {
   "cell_type": "code",
   "execution_count": 39,
   "id": "4a7c9fd9",
   "metadata": {},
   "outputs": [
    {
     "name": "stdout",
     "output_type": "stream",
     "text": [
      "<class 'pandas.core.frame.DataFrame'>\n",
      "RangeIndex: 908 entries, 0 to 907\n",
      "Data columns (total 12 columns):\n",
      " #   Column               Non-Null Count  Dtype  \n",
      "---  ------               --------------  -----  \n",
      " 0   capacity_mw          908 non-null    float64\n",
      " 1   latitude             908 non-null    float64\n",
      " 2   longitude            908 non-null    float64\n",
      " 3   primary_fuel         908 non-null    object \n",
      " 4   commissioning_year   908 non-null    float64\n",
      " 5   source               908 non-null    object \n",
      " 6   geolocation_source   908 non-null    object \n",
      " 7   generation_gwh_2013  908 non-null    float64\n",
      " 8   generation_gwh_2014  908 non-null    float64\n",
      " 9   generation_gwh_2015  908 non-null    float64\n",
      " 10  generation_gwh_2016  908 non-null    float64\n",
      " 11  generation_gwh_2017  908 non-null    float64\n",
      "dtypes: float64(9), object(3)\n",
      "memory usage: 85.2+ KB\n"
     ]
    }
   ],
   "source": [
    "df.info()\n"
   ]
  },
  {
   "cell_type": "code",
   "execution_count": 40,
   "id": "ac7ae1b9",
   "metadata": {},
   "outputs": [
    {
     "data": {
      "text/plain": [
       "array(['Solar', 'Coal', 'Wind', 'Gas', 'Hydro', 'Biomass', 'Oil',\n",
       "       'Nuclear'], dtype=object)"
      ]
     },
     "execution_count": 40,
     "metadata": {},
     "output_type": "execute_result"
    }
   ],
   "source": [
    "df['primary_fuel'].unique()\n"
   ]
  },
  {
   "cell_type": "code",
   "execution_count": 41,
   "id": "906577e7",
   "metadata": {},
   "outputs": [
    {
     "data": {
      "text/plain": [
       "array(['National Renewable Energy Laboratory', 'WRI', 'Industry About'],\n",
       "      dtype=object)"
      ]
     },
     "execution_count": 41,
     "metadata": {},
     "output_type": "execute_result"
    }
   ],
   "source": [
    "df['geolocation_source'].unique()\n"
   ]
  },
  {
   "cell_type": "code",
   "execution_count": 42,
   "id": "94ecf3e5",
   "metadata": {},
   "outputs": [],
   "source": [
    "encoder = LabelEncoder()\n",
    "df['primary_fuel'] = encoder.fit_transform(df['primary_fuel'])\n",
    "df['geolocation_source'] = encoder.fit_transform(df['geolocation_source'])\n",
    "df['source'] = encoder.fit_transform(df['source'])"
   ]
  },
  {
   "cell_type": "code",
   "execution_count": 43,
   "id": "aad05dc8",
   "metadata": {},
   "outputs": [
    {
     "data": {
      "text/plain": [
       "array([1, 2, 0])"
      ]
     },
     "execution_count": 43,
     "metadata": {},
     "output_type": "execute_result"
    }
   ],
   "source": [
    "df['geolocation_source'].unique()\n"
   ]
  },
  {
   "cell_type": "code",
   "execution_count": 44,
   "id": "30e069a7",
   "metadata": {},
   "outputs": [
    {
     "name": "stdout",
     "output_type": "stream",
     "text": [
      "<class 'pandas.core.frame.DataFrame'>\n",
      "RangeIndex: 908 entries, 0 to 907\n",
      "Data columns (total 12 columns):\n",
      " #   Column               Non-Null Count  Dtype  \n",
      "---  ------               --------------  -----  \n",
      " 0   capacity_mw          908 non-null    float64\n",
      " 1   latitude             908 non-null    float64\n",
      " 2   longitude            908 non-null    float64\n",
      " 3   primary_fuel         908 non-null    int32  \n",
      " 4   commissioning_year   908 non-null    float64\n",
      " 5   source               908 non-null    int32  \n",
      " 6   geolocation_source   908 non-null    int32  \n",
      " 7   generation_gwh_2013  908 non-null    float64\n",
      " 8   generation_gwh_2014  908 non-null    float64\n",
      " 9   generation_gwh_2015  908 non-null    float64\n",
      " 10  generation_gwh_2016  908 non-null    float64\n",
      " 11  generation_gwh_2017  908 non-null    float64\n",
      "dtypes: float64(9), int32(3)\n",
      "memory usage: 74.6 KB\n"
     ]
    }
   ],
   "source": [
    "df.info()\n"
   ]
  },
  {
   "cell_type": "markdown",
   "id": "f41a8e05",
   "metadata": {},
   "source": [
    "# Removing outliers using zscore\n"
   ]
  },
  {
   "cell_type": "code",
   "execution_count": 45,
   "id": "86d3f367",
   "metadata": {},
   "outputs": [
    {
     "name": "stdout",
     "output_type": "stream",
     "text": [
      "(array([ 15,  15,  15,  15, 144, 144, 144, 144, 144, 144, 159, 159, 210,\n",
      "       210, 210, 210, 210, 210, 309, 309, 309, 309, 309, 309, 364, 365,\n",
      "       365, 365, 365, 365, 365, 376, 483, 494, 494, 494, 494, 494, 494,\n",
      "       495, 495, 495, 495, 495, 495, 533, 533, 624, 649, 649, 649, 649,\n",
      "       649, 649, 658, 658, 658, 658, 658, 658, 696, 696, 696, 696, 696,\n",
      "       722, 722, 722, 722, 722, 725, 725, 725, 725, 725, 727, 727, 727,\n",
      "       727, 727, 727, 787, 787, 787, 787, 787, 787, 789, 809, 809, 809,\n",
      "       809, 809, 809, 881, 881, 881, 881, 881, 881], dtype=int64), array([2, 3, 4, 5, 0, 1, 2, 3, 4, 5, 0, 1, 0, 1, 2, 3, 4, 5, 0, 1, 2, 3,\n",
      "       4, 5, 5, 0, 1, 2, 3, 4, 5, 5, 5, 0, 1, 2, 3, 4, 5, 0, 1, 2, 3, 4,\n",
      "       5, 0, 1, 1, 0, 1, 2, 3, 4, 5, 0, 1, 2, 3, 4, 5, 1, 2, 3, 4, 5, 0,\n",
      "       1, 2, 3, 4, 0, 1, 2, 3, 4, 0, 1, 2, 3, 4, 5, 0, 1, 2, 3, 4, 5, 5,\n",
      "       0, 1, 2, 3, 4, 5, 0, 1, 2, 3, 4, 5], dtype=int64))\n"
     ]
    }
   ],
   "source": [
    "z=np.abs(zscore(df[['generation_gwh_2013','generation_gwh_2014','generation_gwh_2015','generation_gwh_2016','generation_gwh_2017','capacity_mw']]))\n",
    "print(np.where(z>3))"
   ]
  },
  {
   "cell_type": "code",
   "execution_count": 47,
   "id": "8b5178de",
   "metadata": {},
   "outputs": [],
   "source": [
    "threshold = 3\n",
    "df1 = df[(z<3).all(axis = 1)]"
   ]
  },
  {
   "cell_type": "code",
   "execution_count": 48,
   "id": "e796c744",
   "metadata": {},
   "outputs": [
    {
     "name": "stdout",
     "output_type": "stream",
     "text": [
      "Shape of the dataframe before removing outliers:  (908, 12)\n",
      "Shape of the dataframe after removing outliers:  (885, 12)\n",
      "Percentage of data loss post outlier removal:  2.5330396475770924\n"
     ]
    }
   ],
   "source": [
    "print (\"Shape of the dataframe before removing outliers: \", df.shape)\n",
    "print (\"Shape of the dataframe after removing outliers: \", df1.shape)\n",
    "print (\"Percentage of data loss post outlier removal: \", (df.shape[0]-df1.shape[0])/df.shape[0]*100)\n",
    "\n",
    "df=df1.copy() # reassigning the changed dataframe name to our original dataframe name"
   ]
  },
  {
   "cell_type": "code",
   "execution_count": 49,
   "id": "befe9207",
   "metadata": {},
   "outputs": [
    {
     "data": {
      "text/plain": [
       "(885, 12)"
      ]
     },
     "execution_count": 49,
     "metadata": {},
     "output_type": "execute_result"
    }
   ],
   "source": [
    "df.shape\n"
   ]
  },
  {
   "cell_type": "markdown",
   "id": "fa9ee2fa",
   "metadata": {},
   "source": [
    "succesfully removed outliers"
   ]
  },
  {
   "cell_type": "markdown",
   "id": "2d8439c3",
   "metadata": {},
   "source": [
    "# Skewness Handling\n"
   ]
  },
  {
   "cell_type": "code",
   "execution_count": 51,
   "id": "924c3ab5",
   "metadata": {},
   "outputs": [
    {
     "data": {
      "image/png": "[encoded data removed]",
      "text/plain": [
       "<Figure size 1296x1440 with 12 Axes>"
      ]
     },
     "metadata": {},
     "output_type": "display_data"
    }
   ],
   "source": [
    "plt.figure(figsize=(18,20))\n",
    "for i in enumerate(df):\n",
    "    plt.subplot(8,4,i[0]+1)\n",
    "    sns.distplot(df[i[1]],color='b')"
   ]
  },
  {
   "cell_type": "code",
   "execution_count": 52,
   "id": "7250de7a",
   "metadata": {},
   "outputs": [
    {
     "data": {
      "text/plain": [
       "capacity_mw            2.052718\n",
       "latitude               1.965094\n",
       "longitude             -0.179399\n",
       "primary_fuel           0.430662\n",
       "commissioning_year    -0.285274\n",
       "source                 1.788010\n",
       "geolocation_source    -2.118329\n",
       "generation_gwh_2013    2.994575\n",
       "generation_gwh_2014    2.867788\n",
       "generation_gwh_2015    2.684811\n",
       "generation_gwh_2016    2.630710\n",
       "generation_gwh_2017    2.540274\n",
       "dtype: float64"
      ]
     },
     "execution_count": 52,
     "metadata": {},
     "output_type": "execute_result"
    }
   ],
   "source": [
    "df.skew()\n"
   ]
  },
  {
   "cell_type": "markdown",
   "id": "0f961b2e",
   "metadata": {},
   "source": [
    "lets treat the skewness more then (-/+0.5)"
   ]
  },
  {
   "cell_type": "code",
   "execution_count": 54,
   "id": "c61da7fc",
   "metadata": {},
   "outputs": [
    {
     "data": {
      "text/plain": [
       "capacity_mw           -0.024446\n",
       "latitude               1.965094\n",
       "longitude             -0.179399\n",
       "primary_fuel           0.430662\n",
       "commissioning_year    -0.285274\n",
       "source                 1.788010\n",
       "geolocation_source    -2.118329\n",
       "generation_gwh_2013   -0.333653\n",
       "generation_gwh_2014   -0.275178\n",
       "generation_gwh_2015   -0.258690\n",
       "generation_gwh_2016   -0.248297\n",
       "generation_gwh_2017   -0.229956\n",
       "dtype: float64"
      ]
     },
     "execution_count": 54,
     "metadata": {},
     "output_type": "execute_result"
    }
   ],
   "source": [
    "df[['capacity_mw',\"generation_gwh_2013\",'generation_gwh_2014','generation_gwh_2015','generation_gwh_2016','generation_gwh_2017']]=power_transform(df[['capacity_mw',\"generation_gwh_2013\",'generation_gwh_2014','generation_gwh_2015','generation_gwh_2016','generation_gwh_2017']])\n",
    "df.skew()"
   ]
  },
  {
   "cell_type": "code",
   "execution_count": 55,
   "id": "cbca2f42",
   "metadata": {},
   "outputs": [
    {
     "data": {
      "text/plain": [
       "capacity_mw            0\n",
       "latitude               0\n",
       "longitude              0\n",
       "primary_fuel           0\n",
       "commissioning_year     0\n",
       "source                 0\n",
       "geolocation_source     0\n",
       "generation_gwh_2013    0\n",
       "generation_gwh_2014    0\n",
       "generation_gwh_2015    0\n",
       "generation_gwh_2016    0\n",
       "generation_gwh_2017    0\n",
       "dtype: int64"
      ]
     },
     "execution_count": 55,
     "metadata": {},
     "output_type": "execute_result"
    }
   ],
   "source": [
    "pd.DataFrame(df).isnull().sum()\n"
   ]
  },
  {
   "cell_type": "markdown",
   "id": "20156f3e",
   "metadata": {},
   "source": [
    "# Regression model"
   ]
  },
  {
   "cell_type": "markdown",
   "id": "cb2c0728",
   "metadata": {},
   "source": [
    "Dividing data into X and Y"
   ]
  },
  {
   "cell_type": "code",
   "execution_count": 56,
   "id": "64f2c3f5",
   "metadata": {},
   "outputs": [],
   "source": [
    "x=df.drop(['capacity_mw'],axis=1)\n",
    "y=df['capacity_mw']# target variable"
   ]
  },
  {
   "cell_type": "code",
   "execution_count": 57,
   "id": "f935cda3",
   "metadata": {},
   "outputs": [
    {
     "data": {
      "text/plain": [
       "(885, 11)"
      ]
     },
     "execution_count": 57,
     "metadata": {},
     "output_type": "execute_result"
    }
   ],
   "source": [
    "x.shape\n"
   ]
  },
  {
   "cell_type": "code",
   "execution_count": 58,
   "id": "930f86b2",
   "metadata": {},
   "outputs": [
    {
     "data": {
      "text/plain": [
       "(885,)"
      ]
     },
     "execution_count": 58,
     "metadata": {},
     "output_type": "execute_result"
    }
   ],
   "source": [
    "y.shape\n"
   ]
  },
  {
   "cell_type": "markdown",
   "id": "d95d94b5",
   "metadata": {},
   "source": [
    " scaling X values"
   ]
  },
  {
   "cell_type": "code",
   "execution_count": 59,
   "id": "bcbefb86",
   "metadata": {},
   "outputs": [],
   "source": [
    "sc=MinMaxScaler()\n",
    "x=sc.fit_transform(x)"
   ]
  },
  {
   "cell_type": "code",
   "execution_count": 60,
   "id": "bac6e651",
   "metadata": {},
   "outputs": [
    {
     "data": {
      "text/html": [
       "<div>\n",
       "<style scoped>\n",
       "    .dataframe tbody tr th:only-of-type {\n",
       "        vertical-align: middle;\n",
       "    }\n",
       "\n",
       "    .dataframe tbody tr th {\n",
       "        vertical-align: top;\n",
       "    }\n",
       "\n",
       "    .dataframe thead th {\n",
       "        text-align: right;\n",
       "    }\n",
       "</style>\n",
       "<table border=\"1\" class=\"dataframe\">\n",
       "  <thead>\n",
       "    <tr style=\"text-align: right;\">\n",
       "      <th></th>\n",
       "      <th>0</th>\n",
       "      <th>1</th>\n",
       "      <th>2</th>\n",
       "      <th>3</th>\n",
       "      <th>4</th>\n",
       "      <th>5</th>\n",
       "      <th>6</th>\n",
       "      <th>7</th>\n",
       "      <th>8</th>\n",
       "      <th>9</th>\n",
       "      <th>10</th>\n",
       "    </tr>\n",
       "  </thead>\n",
       "  <tbody>\n",
       "    <tr>\n",
       "      <th>count</th>\n",
       "      <td>885.000000</td>\n",
       "      <td>885.000000</td>\n",
       "      <td>885.000000</td>\n",
       "      <td>885.000000</td>\n",
       "      <td>885.000000</td>\n",
       "      <td>885.000000</td>\n",
       "      <td>885.000000</td>\n",
       "      <td>885.000000</td>\n",
       "      <td>885.000000</td>\n",
       "      <td>885.000000</td>\n",
       "      <td>885.000000</td>\n",
       "    </tr>\n",
       "    <tr>\n",
       "      <th>mean</th>\n",
       "      <td>0.290048</td>\n",
       "      <td>0.464901</td>\n",
       "      <td>0.466182</td>\n",
       "      <td>0.564383</td>\n",
       "      <td>0.233637</td>\n",
       "      <td>0.863277</td>\n",
       "      <td>0.620486</td>\n",
       "      <td>0.595989</td>\n",
       "      <td>0.595707</td>\n",
       "      <td>0.593126</td>\n",
       "      <td>0.590408</td>\n",
       "    </tr>\n",
       "    <tr>\n",
       "      <th>std</th>\n",
       "      <td>0.204202</td>\n",
       "      <td>0.173085</td>\n",
       "      <td>0.326078</td>\n",
       "      <td>0.489898</td>\n",
       "      <td>0.237158</td>\n",
       "      <td>0.342100</td>\n",
       "      <td>0.179336</td>\n",
       "      <td>0.193143</td>\n",
       "      <td>0.196778</td>\n",
       "      <td>0.199455</td>\n",
       "      <td>0.206856</td>\n",
       "    </tr>\n",
       "    <tr>\n",
       "      <th>min</th>\n",
       "      <td>0.000000</td>\n",
       "      <td>0.000000</td>\n",
       "      <td>0.000000</td>\n",
       "      <td>0.000000</td>\n",
       "      <td>0.000000</td>\n",
       "      <td>0.000000</td>\n",
       "      <td>0.000000</td>\n",
       "      <td>0.000000</td>\n",
       "      <td>0.000000</td>\n",
       "      <td>0.000000</td>\n",
       "      <td>0.000000</td>\n",
       "    </tr>\n",
       "    <tr>\n",
       "      <th>25%</th>\n",
       "      <td>0.169119</td>\n",
       "      <td>0.388333</td>\n",
       "      <td>0.142857</td>\n",
       "      <td>0.000000</td>\n",
       "      <td>0.115789</td>\n",
       "      <td>1.000000</td>\n",
       "      <td>0.539975</td>\n",
       "      <td>0.511500</td>\n",
       "      <td>0.509888</td>\n",
       "      <td>0.502913</td>\n",
       "      <td>0.496622</td>\n",
       "    </tr>\n",
       "    <tr>\n",
       "      <th>50%</th>\n",
       "      <td>0.269591</td>\n",
       "      <td>0.463212</td>\n",
       "      <td>0.428571</td>\n",
       "      <td>0.978039</td>\n",
       "      <td>0.115789</td>\n",
       "      <td>1.000000</td>\n",
       "      <td>0.539975</td>\n",
       "      <td>0.511500</td>\n",
       "      <td>0.509888</td>\n",
       "      <td>0.502913</td>\n",
       "      <td>0.496622</td>\n",
       "    </tr>\n",
       "    <tr>\n",
       "      <th>75%</th>\n",
       "      <td>0.359508</td>\n",
       "      <td>0.539802</td>\n",
       "      <td>0.857143</td>\n",
       "      <td>0.991828</td>\n",
       "      <td>0.184211</td>\n",
       "      <td>1.000000</td>\n",
       "      <td>0.739237</td>\n",
       "      <td>0.728194</td>\n",
       "      <td>0.730465</td>\n",
       "      <td>0.727195</td>\n",
       "      <td>0.729361</td>\n",
       "    </tr>\n",
       "    <tr>\n",
       "      <th>max</th>\n",
       "      <td>1.000000</td>\n",
       "      <td>1.000000</td>\n",
       "      <td>1.000000</td>\n",
       "      <td>1.000000</td>\n",
       "      <td>1.000000</td>\n",
       "      <td>1.000000</td>\n",
       "      <td>1.000000</td>\n",
       "      <td>1.000000</td>\n",
       "      <td>1.000000</td>\n",
       "      <td>1.000000</td>\n",
       "      <td>1.000000</td>\n",
       "    </tr>\n",
       "  </tbody>\n",
       "</table>\n",
       "</div>"
      ],
      "text/plain": [
       "               0           1           2           3           4           5   \\\n",
       "count  885.000000  885.000000  885.000000  885.000000  885.000000  885.000000   \n",
       "mean     0.290048    0.464901    0.466182    0.564383    0.233637    0.863277   \n",
       "std      0.204202    0.173085    0.326078    0.489898    0.237158    0.342100   \n",
       "min      0.000000    0.000000    0.000000    0.000000    0.000000    0.000000   \n",
       "25%      0.169119    0.388333    0.142857    0.000000    0.115789    1.000000   \n",
       "50%      0.269591    0.463212    0.428571    0.978039    0.115789    1.000000   \n",
       "75%      0.359508    0.539802    0.857143    0.991828    0.184211    1.000000   \n",
       "max      1.000000    1.000000    1.000000    1.000000    1.000000    1.000000   \n",
       "\n",
       "               6           7           8           9           10  \n",
       "count  885.000000  885.000000  885.000000  885.000000  885.000000  \n",
       "mean     0.620486    0.595989    0.595707    0.593126    0.590408  \n",
       "std      0.179336    0.193143    0.196778    0.199455    0.206856  \n",
       "min      0.000000    0.000000    0.000000    0.000000    0.000000  \n",
       "25%      0.539975    0.511500    0.509888    0.502913    0.496622  \n",
       "50%      0.539975    0.511500    0.509888    0.502913    0.496622  \n",
       "75%      0.739237    0.728194    0.730465    0.727195    0.729361  \n",
       "max      1.000000    1.000000    1.000000    1.000000    1.000000  "
      ]
     },
     "execution_count": 60,
     "metadata": {},
     "output_type": "execute_result"
    }
   ],
   "source": [
    "pd.DataFrame(x).describe()\n"
   ]
  },
  {
   "cell_type": "markdown",
   "id": "3e72d252",
   "metadata": {},
   "source": [
    "# MODEL BUILDING:\n",
    "Linear Regression"
   ]
  },
  {
   "cell_type": "markdown",
   "id": "1b8354c6",
   "metadata": {},
   "source": [
    "CHECKING THE BEST RANDOM STATE FOR DATA SPLIT"
   ]
  },
  {
   "cell_type": "code",
   "execution_count": 61,
   "id": "b6c4f268",
   "metadata": {},
   "outputs": [
    {
     "name": "stdout",
     "output_type": "stream",
     "text": [
      "At random state 0, The training accuracy is: 0.5916398461215672\n",
      "At random state 0, The test accuracy is: 0.606747274010396\n",
      "\n",
      "\n",
      "At random state 1, The training accuracy is: 0.5958312648996071\n",
      "At random state 1, The test accuracy is: 0.5902792360762521\n",
      "\n",
      "\n",
      "At random state 2, The training accuracy is: 0.6230851577959062\n",
      "At random state 2, The test accuracy is: 0.4553096801617994\n",
      "\n",
      "\n",
      "At random state 3, The training accuracy is: 0.5993958141540201\n",
      "At random state 3, The test accuracy is: 0.5741639348755521\n",
      "\n",
      "\n",
      "At random state 4, The training accuracy is: 0.5966348615302028\n",
      "At random state 4, The test accuracy is: 0.5821800072411711\n",
      "\n",
      "\n",
      "At random state 5, The training accuracy is: 0.6084656246547293\n",
      "At random state 5, The test accuracy is: 0.5282793364968916\n",
      "\n",
      "\n",
      "At random state 6, The training accuracy is: 0.6052198009093626\n",
      "At random state 6, The test accuracy is: 0.5323798617661357\n",
      "\n",
      "\n",
      "At random state 7, The training accuracy is: 0.6043699401172393\n",
      "At random state 7, The test accuracy is: 0.5415065886791111\n",
      "\n",
      "\n",
      "At random state 8, The training accuracy is: 0.5959932693053515\n",
      "At random state 8, The test accuracy is: 0.5891638824156173\n",
      "\n",
      "\n",
      "At random state 9, The training accuracy is: 0.5716912682050399\n",
      "At random state 9, The test accuracy is: 0.6808840600676871\n",
      "\n",
      "\n",
      "At random state 10, The training accuracy is: 0.6039163739697309\n",
      "At random state 10, The test accuracy is: 0.5528153762216932\n",
      "\n",
      "\n",
      "At random state 11, The training accuracy is: 0.5965792865554418\n",
      "At random state 11, The test accuracy is: 0.5889765623729155\n",
      "\n",
      "\n",
      "At random state 12, The training accuracy is: 0.5968703993999998\n",
      "At random state 12, The test accuracy is: 0.578065880419959\n",
      "\n",
      "\n",
      "At random state 13, The training accuracy is: 0.5901915857549185\n",
      "At random state 13, The test accuracy is: 0.6054319706696849\n",
      "\n",
      "\n",
      "At random state 14, The training accuracy is: 0.5846278828461806\n",
      "At random state 14, The test accuracy is: 0.6332909818214674\n",
      "\n",
      "\n",
      "At random state 15, The training accuracy is: 0.6139450842017887\n",
      "At random state 15, The test accuracy is: 0.5150119415724965\n",
      "\n",
      "\n",
      "At random state 16, The training accuracy is: 0.5920313702048544\n",
      "At random state 16, The test accuracy is: 0.6025429873018413\n",
      "\n",
      "\n",
      "At random state 17, The training accuracy is: 0.5813094636622256\n",
      "At random state 17, The test accuracy is: 0.6404024880000045\n",
      "\n",
      "\n",
      "At random state 18, The training accuracy is: 0.6109724125661804\n",
      "At random state 18, The test accuracy is: 0.5242871328611454\n",
      "\n",
      "\n",
      "At random state 19, The training accuracy is: 0.6001018923659056\n",
      "At random state 19, The test accuracy is: 0.5742631228684405\n",
      "\n",
      "\n",
      "At random state 20, The training accuracy is: 0.6077214310573911\n",
      "At random state 20, The test accuracy is: 0.5244687920127551\n",
      "\n",
      "\n",
      "At random state 21, The training accuracy is: 0.5830006468782842\n",
      "At random state 21, The test accuracy is: 0.6158363692405864\n",
      "\n",
      "\n",
      "At random state 22, The training accuracy is: 0.6183323487015182\n",
      "At random state 22, The test accuracy is: 0.4859751108542293\n",
      "\n",
      "\n",
      "At random state 23, The training accuracy is: 0.5901704201503665\n",
      "At random state 23, The test accuracy is: 0.6055038718721765\n",
      "\n",
      "\n",
      "At random state 24, The training accuracy is: 0.6122776574453361\n",
      "At random state 24, The test accuracy is: 0.49946588126669633\n",
      "\n",
      "\n",
      "At random state 25, The training accuracy is: 0.5962096704434278\n",
      "At random state 25, The test accuracy is: 0.58053009723343\n",
      "\n",
      "\n",
      "At random state 26, The training accuracy is: 0.6036792737322476\n",
      "At random state 26, The test accuracy is: 0.5475212983983001\n",
      "\n",
      "\n",
      "At random state 27, The training accuracy is: 0.5951861022875877\n",
      "At random state 27, The test accuracy is: 0.5921311278625592\n",
      "\n",
      "\n",
      "At random state 28, The training accuracy is: 0.6129413336605769\n",
      "At random state 28, The test accuracy is: 0.5051448699997327\n",
      "\n",
      "\n",
      "At random state 29, The training accuracy is: 0.591130517062769\n",
      "At random state 29, The test accuracy is: 0.5952649340907659\n",
      "\n",
      "\n",
      "At random state 30, The training accuracy is: 0.6002288862324177\n",
      "At random state 30, The test accuracy is: 0.5693168505048674\n",
      "\n",
      "\n",
      "At random state 31, The training accuracy is: 0.5972038147443288\n",
      "At random state 31, The test accuracy is: 0.5775783896174516\n",
      "\n",
      "\n",
      "At random state 32, The training accuracy is: 0.6025157302809514\n",
      "At random state 32, The test accuracy is: 0.5541849146646659\n",
      "\n",
      "\n",
      "At random state 33, The training accuracy is: 0.5811312433352693\n",
      "At random state 33, The test accuracy is: 0.6351410551352192\n",
      "\n",
      "\n",
      "At random state 34, The training accuracy is: 0.5907667664078325\n",
      "At random state 34, The test accuracy is: 0.6039952773849053\n",
      "\n",
      "\n",
      "At random state 35, The training accuracy is: 0.5883787188401461\n",
      "At random state 35, The test accuracy is: 0.6198974840824929\n",
      "\n",
      "\n",
      "At random state 36, The training accuracy is: 0.5850210879105514\n",
      "At random state 36, The test accuracy is: 0.6296397352193353\n",
      "\n",
      "\n",
      "At random state 37, The training accuracy is: 0.590341421324246\n",
      "At random state 37, The test accuracy is: 0.6125602597055468\n",
      "\n",
      "\n",
      "At random state 38, The training accuracy is: 0.6060451741484987\n",
      "At random state 38, The test accuracy is: 0.5181599208900807\n",
      "\n",
      "\n",
      "At random state 39, The training accuracy is: 0.592207852159178\n",
      "At random state 39, The test accuracy is: 0.6019309874955756\n",
      "\n",
      "\n",
      "At random state 40, The training accuracy is: 0.601015488347441\n",
      "At random state 40, The test accuracy is: 0.567262459143745\n",
      "\n",
      "\n",
      "At random state 41, The training accuracy is: 0.6040256666858037\n",
      "At random state 41, The test accuracy is: 0.5490766008009662\n",
      "\n",
      "\n",
      "At random state 42, The training accuracy is: 0.5879793340799975\n",
      "At random state 42, The test accuracy is: 0.6202536368792921\n",
      "\n",
      "\n",
      "At random state 43, The training accuracy is: 0.5913256362241747\n",
      "At random state 43, The test accuracy is: 0.6059089053355522\n",
      "\n",
      "\n",
      "At random state 44, The training accuracy is: 0.6017247074372738\n",
      "At random state 44, The test accuracy is: 0.5599767662631545\n",
      "\n",
      "\n",
      "At random state 45, The training accuracy is: 0.5972313456056324\n",
      "At random state 45, The test accuracy is: 0.5834331911490416\n",
      "\n",
      "\n",
      "At random state 46, The training accuracy is: 0.6119390853904378\n",
      "At random state 46, The test accuracy is: 0.5085842238214031\n",
      "\n",
      "\n",
      "At random state 47, The training accuracy is: 0.6124181683534622\n",
      "At random state 47, The test accuracy is: 0.4951318032944746\n",
      "\n",
      "\n",
      "At random state 48, The training accuracy is: 0.6019645425250604\n",
      "At random state 48, The test accuracy is: 0.5601892587264188\n",
      "\n",
      "\n",
      "At random state 49, The training accuracy is: 0.6196131246258596\n",
      "At random state 49, The test accuracy is: 0.48698564785930476\n",
      "\n",
      "\n",
      "At random state 50, The training accuracy is: 0.6229251936877704\n",
      "At random state 50, The test accuracy is: 0.47791491321885904\n",
      "\n",
      "\n",
      "At random state 51, The training accuracy is: 0.6170819167175201\n",
      "At random state 51, The test accuracy is: 0.5102424758505002\n",
      "\n",
      "\n",
      "At random state 52, The training accuracy is: 0.5907079865206326\n",
      "At random state 52, The test accuracy is: 0.6075256758980971\n",
      "\n",
      "\n",
      "At random state 53, The training accuracy is: 0.5758045000819338\n",
      "At random state 53, The test accuracy is: 0.6459373852437797\n",
      "\n",
      "\n",
      "At random state 54, The training accuracy is: 0.6193649376627828\n",
      "At random state 54, The test accuracy is: 0.49456397640621086\n",
      "\n",
      "\n",
      "At random state 55, The training accuracy is: 0.5893653976645518\n",
      "At random state 55, The test accuracy is: 0.6096937306062631\n",
      "\n",
      "\n",
      "At random state 56, The training accuracy is: 0.5925800481792467\n",
      "At random state 56, The test accuracy is: 0.6023532774152324\n",
      "\n",
      "\n",
      "At random state 57, The training accuracy is: 0.5946292126223771\n",
      "At random state 57, The test accuracy is: 0.5902400669183419\n",
      "\n",
      "\n",
      "At random state 58, The training accuracy is: 0.5721337731778682\n",
      "At random state 58, The test accuracy is: 0.6777690184061005\n",
      "\n",
      "\n",
      "At random state 59, The training accuracy is: 0.605639423646113\n",
      "At random state 59, The test accuracy is: 0.5566524999922622\n",
      "\n",
      "\n",
      "At random state 60, The training accuracy is: 0.5784120194686068\n",
      "At random state 60, The test accuracy is: 0.658148537363077\n",
      "\n",
      "\n",
      "At random state 61, The training accuracy is: 0.5790374370570832\n",
      "At random state 61, The test accuracy is: 0.6543734348508481\n",
      "\n",
      "\n",
      "At random state 62, The training accuracy is: 0.5904564450553491\n",
      "At random state 62, The test accuracy is: 0.6069612981554253\n",
      "\n",
      "\n",
      "At random state 63, The training accuracy is: 0.5900663273160254\n",
      "At random state 63, The test accuracy is: 0.5932802012203967\n",
      "\n",
      "\n",
      "At random state 64, The training accuracy is: 0.608205861676413\n",
      "At random state 64, The test accuracy is: 0.5273173280210206\n",
      "\n",
      "\n",
      "At random state 65, The training accuracy is: 0.6022756763803114\n",
      "At random state 65, The test accuracy is: 0.5593961321123841\n",
      "\n",
      "\n",
      "At random state 66, The training accuracy is: 0.6148545658266089\n",
      "At random state 66, The test accuracy is: 0.5087477547593788\n",
      "\n",
      "\n",
      "At random state 67, The training accuracy is: 0.5757647913533839\n",
      "At random state 67, The test accuracy is: 0.6624631692084488\n",
      "\n",
      "\n",
      "At random state 68, The training accuracy is: 0.5861649575424588\n",
      "At random state 68, The test accuracy is: 0.6237298311821926\n",
      "\n",
      "\n",
      "At random state 69, The training accuracy is: 0.5868301279945676\n",
      "At random state 69, The test accuracy is: 0.6085969906658909\n",
      "\n",
      "\n",
      "At random state 70, The training accuracy is: 0.6000188508984332\n",
      "At random state 70, The test accuracy is: 0.5737094004469786\n",
      "\n",
      "\n",
      "At random state 71, The training accuracy is: 0.5759534620638286\n",
      "At random state 71, The test accuracy is: 0.6601740952798305\n",
      "\n",
      "\n",
      "At random state 72, The training accuracy is: 0.5989212413582866\n",
      "At random state 72, The test accuracy is: 0.5767328110190431\n",
      "\n",
      "\n",
      "At random state 73, The training accuracy is: 0.5809251004066862\n",
      "At random state 73, The test accuracy is: 0.6382555971969928\n",
      "\n",
      "\n",
      "At random state 74, The training accuracy is: 0.6076173438195157\n",
      "At random state 74, The test accuracy is: 0.5156721986246793\n",
      "\n",
      "\n",
      "At random state 75, The training accuracy is: 0.6100308921007936\n",
      "At random state 75, The test accuracy is: 0.528785783317991\n",
      "\n",
      "\n",
      "At random state 76, The training accuracy is: 0.6127565880679772\n",
      "At random state 76, The test accuracy is: 0.5161161257029825\n",
      "\n",
      "\n",
      "At random state 77, The training accuracy is: 0.597936096287641\n",
      "At random state 77, The test accuracy is: 0.5703054917831325\n",
      "\n",
      "\n",
      "At random state 78, The training accuracy is: 0.589469921147511\n",
      "At random state 78, The test accuracy is: 0.6122194476733654\n",
      "\n",
      "\n",
      "At random state 79, The training accuracy is: 0.6062300564383395\n",
      "At random state 79, The test accuracy is: 0.5424565171088394\n",
      "\n",
      "\n",
      "At random state 80, The training accuracy is: 0.6119863294424228\n",
      "At random state 80, The test accuracy is: 0.5032821571555012\n",
      "\n",
      "\n",
      "At random state 81, The training accuracy is: 0.5909638263506317\n",
      "At random state 81, The test accuracy is: 0.6025992613088289\n",
      "\n",
      "\n",
      "At random state 82, The training accuracy is: 0.6193150023466443\n",
      "At random state 82, The test accuracy is: 0.4640473019680723\n",
      "\n",
      "\n",
      "At random state 83, The training accuracy is: 0.5954729540420938\n",
      "At random state 83, The test accuracy is: 0.5918194498568918\n",
      "\n",
      "\n",
      "At random state 84, The training accuracy is: 0.5876665161340957\n",
      "At random state 84, The test accuracy is: 0.6133494222792237\n",
      "\n",
      "\n",
      "At random state 85, The training accuracy is: 0.6094680583721178\n",
      "At random state 85, The test accuracy is: 0.52757876250106\n",
      "\n",
      "\n",
      "At random state 86, The training accuracy is: 0.5853283930692978\n",
      "At random state 86, The test accuracy is: 0.6352121531734525\n",
      "\n",
      "\n",
      "At random state 87, The training accuracy is: 0.6146660084006736\n",
      "At random state 87, The test accuracy is: 0.49312959856079075\n",
      "\n",
      "\n",
      "At random state 88, The training accuracy is: 0.5985077207053131\n",
      "At random state 88, The test accuracy is: 0.5768852042706752\n",
      "\n",
      "\n",
      "At random state 89, The training accuracy is: 0.6008451129911936\n",
      "At random state 89, The test accuracy is: 0.5696651418659882\n",
      "\n",
      "\n",
      "At random state 90, The training accuracy is: 0.6050117638546229\n",
      "At random state 90, The test accuracy is: 0.555162838666118\n",
      "\n",
      "\n",
      "At random state 91, The training accuracy is: 0.5886439120656092\n",
      "At random state 91, The test accuracy is: 0.6192313850408144\n",
      "\n",
      "\n",
      "At random state 92, The training accuracy is: 0.5964815685393001\n",
      "At random state 92, The test accuracy is: 0.5858378948512162\n",
      "\n",
      "\n",
      "At random state 93, The training accuracy is: 0.6216317008911016\n",
      "At random state 93, The test accuracy is: 0.4724302451984672\n",
      "\n",
      "\n",
      "At random state 94, The training accuracy is: 0.5864324727035255\n",
      "At random state 94, The test accuracy is: 0.6249551543887497\n",
      "\n",
      "\n",
      "At random state 95, The training accuracy is: 0.5786184638901656\n",
      "At random state 95, The test accuracy is: 0.6521044072471012\n",
      "\n",
      "\n",
      "At random state 96, The training accuracy is: 0.6160334696583187\n",
      "At random state 96, The test accuracy is: 0.4972821960969014\n",
      "\n",
      "\n",
      "At random state 97, The training accuracy is: 0.577390529625665\n",
      "At random state 97, The test accuracy is: 0.656966611048588\n",
      "\n",
      "\n",
      "At random state 98, The training accuracy is: 0.5711468057413833\n",
      "At random state 98, The test accuracy is: 0.6797832847011651\n",
      "\n",
      "\n",
      "At random state 99, The training accuracy is: 0.5985171396184537\n",
      "At random state 99, The test accuracy is: 0.571279209820432\n",
      "\n",
      "\n"
     ]
    }
   ],
   "source": [
    "LR=LinearRegression()\n",
    "\n",
    "for i in range(0,100):\n",
    "    x_train,x_test,y_train,y_test=train_test_split(x,y,test_size=0.2,random_state=i)\n",
    "    LR.fit(x_train,y_train)\n",
    "    LR_predict_train=LR.predict(x_train)\n",
    "    LR_predict_test=LR.predict(x_test)\n",
    "    print(f'At random state {i}, The training accuracy is: {r2_score(y_train,LR_predict_train)}')\n",
    "    print(f'At random state {i}, The test accuracy is: {r2_score(y_test,LR_predict_test)}')\n",
    "    print('\\n')"
   ]
  },
  {
   "cell_type": "markdown",
   "id": "c1f95870",
   "metadata": {},
   "source": [
    "SPLITTING THE DATA WITH RANDOM STATE =98"
   ]
  },
  {
   "cell_type": "code",
   "execution_count": 62,
   "id": "5d207fb8",
   "metadata": {},
   "outputs": [],
   "source": [
    "#splitting the data into 73% training and 27% testing\n",
    "x_train,x_test,y_train,y_test=train_test_split(x,y,test_size=0.27,random_state=98)"
   ]
  },
  {
   "cell_type": "code",
   "execution_count": 63,
   "id": "30b677c3",
   "metadata": {},
   "outputs": [
    {
     "data": {
      "text/plain": [
       "(646, 11)"
      ]
     },
     "execution_count": 63,
     "metadata": {},
     "output_type": "execute_result"
    }
   ],
   "source": [
    "x_train.shape\n"
   ]
  },
  {
   "cell_type": "code",
   "execution_count": 64,
   "id": "eab9e595",
   "metadata": {},
   "outputs": [
    {
     "data": {
      "text/plain": [
       "(239, 11)"
      ]
     },
     "execution_count": 64,
     "metadata": {},
     "output_type": "execute_result"
    }
   ],
   "source": [
    "x_test.shape\n"
   ]
  },
  {
   "cell_type": "code",
   "execution_count": 65,
   "id": "3112d6c9",
   "metadata": {},
   "outputs": [
    {
     "data": {
      "text/plain": [
       "(646,)"
      ]
     },
     "execution_count": 65,
     "metadata": {},
     "output_type": "execute_result"
    }
   ],
   "source": [
    "y_train.shape\n"
   ]
  },
  {
   "cell_type": "code",
   "execution_count": 66,
   "id": "0dd11583",
   "metadata": {},
   "outputs": [
    {
     "data": {
      "text/plain": [
       "(239,)"
      ]
     },
     "execution_count": 66,
     "metadata": {},
     "output_type": "execute_result"
    }
   ],
   "source": [
    "y_test.shape\n"
   ]
  },
  {
   "cell_type": "code",
   "execution_count": 67,
   "id": "0a0de2b8",
   "metadata": {},
   "outputs": [
    {
     "name": "stdout",
     "output_type": "stream",
     "text": [
      "0.5713139766057092\n"
     ]
    }
   ],
   "source": [
    "LR=LinearRegression()\n",
    "LR.fit(x_train,y_train)\n",
    "print(LR.score(x_train,y_train))\n",
    "LR_predict=LR.predict(x_test)"
   ]
  },
  {
   "cell_type": "code",
   "execution_count": 68,
   "id": "d31ab13a",
   "metadata": {},
   "outputs": [
    {
     "name": "stdout",
     "output_type": "stream",
     "text": [
      "MSE: 0.36903129488094144\n",
      "MAE: 0.4839999122303364\n",
      "r2_score: 0.39570691029867644\n"
     ]
    }
   ],
   "source": [
    "print('MSE:',mean_squared_error(LR_predict,y_test))\n",
    "print('MAE:',mean_absolute_error(LR_predict,y_test))\n",
    "print('r2_score:',r2_score(LR_predict,y_test))"
   ]
  },
  {
   "cell_type": "markdown",
   "id": "384a5033",
   "metadata": {},
   "source": [
    "# Ridge"
   ]
  },
  {
   "cell_type": "code",
   "execution_count": 69,
   "id": "61f2ce89",
   "metadata": {},
   "outputs": [
    {
     "name": "stdout",
     "output_type": "stream",
     "text": [
      "0.5712138648690942\n"
     ]
    }
   ],
   "source": [
    "R=Ridge()\n",
    "R.fit(x_train,y_train)\n",
    "print(R.score(x_train,y_train))\n",
    "R_predict=R.predict(x_test)\n"
   ]
  },
  {
   "cell_type": "code",
   "execution_count": 70,
   "id": "fc5d78c2",
   "metadata": {},
   "outputs": [
    {
     "name": "stdout",
     "output_type": "stream",
     "text": [
      "MSE: 0.3683310338741951\n",
      "MAE: 0.48460046374050403\n",
      "r2_score: 0.38961555206867804\n"
     ]
    }
   ],
   "source": [
    "print('MSE:',mean_squared_error(R_predict,y_test))\n",
    "print('MAE:',mean_absolute_error(R_predict,y_test))\n",
    "print('r2_score:',r2_score(R_predict,y_test))\n"
   ]
  },
  {
   "cell_type": "markdown",
   "id": "43a593e2",
   "metadata": {},
   "source": [
    "# SVR"
   ]
  },
  {
   "cell_type": "code",
   "execution_count": 71,
   "id": "331c7248",
   "metadata": {},
   "outputs": [
    {
     "name": "stdout",
     "output_type": "stream",
     "text": [
      "0.5276791570600463\n"
     ]
    }
   ],
   "source": [
    "svr=SVR(kernel='linear')#kernel linear\n",
    "svr.fit(x_train,y_train)\n",
    "print(svr.score(x_train,y_train))\n",
    "svr_predict=svr.predict(x_test)"
   ]
  },
  {
   "cell_type": "code",
   "execution_count": 72,
   "id": "703023dc",
   "metadata": {},
   "outputs": [
    {
     "name": "stdout",
     "output_type": "stream",
     "text": [
      "MSE: 0.36270277225100434\n",
      "MAE: 0.4410878635247736\n",
      "r2_score: 0.5214830255568015\n"
     ]
    }
   ],
   "source": [
    "print('MSE:',mean_squared_error(svr_predict,y_test))\n",
    "print('MAE:',mean_absolute_error(svr_predict,y_test))\n",
    "print('r2_score:',r2_score(svr_predict,y_test))"
   ]
  },
  {
   "cell_type": "code",
   "execution_count": 73,
   "id": "3129dc2c",
   "metadata": {},
   "outputs": [
    {
     "name": "stdout",
     "output_type": "stream",
     "text": [
      "0.7815333102479143\n"
     ]
    }
   ],
   "source": [
    "svr_p=SVR(kernel='poly')#kernel poly\n",
    "svr_p.fit(x_train,y_train)\n",
    "print(svr_p.score(x_train,y_train))\n",
    "svrpred_p=svr_p.predict(x_test)"
   ]
  },
  {
   "cell_type": "code",
   "execution_count": 74,
   "id": "016fe415",
   "metadata": {},
   "outputs": [
    {
     "name": "stdout",
     "output_type": "stream",
     "text": [
      "MSE: 0.19668225069693826\n",
      "MAE: 0.3270048998554594\n",
      "r2_score: 0.7435816273483156\n"
     ]
    }
   ],
   "source": [
    "print('MSE:',mean_squared_error(svrpred_p,y_test))\n",
    "print('MAE:',mean_absolute_error(svrpred_p,y_test))\n",
    "print('r2_score:',r2_score(svrpred_p,y_test))\n"
   ]
  },
  {
   "cell_type": "code",
   "execution_count": 75,
   "id": "9d333fc3",
   "metadata": {},
   "outputs": [
    {
     "name": "stdout",
     "output_type": "stream",
     "text": [
      "0.7825731871707287\n"
     ]
    }
   ],
   "source": [
    "svr_r=SVR(kernel='rbf')#kernel 'rbf'\n",
    "svr_r.fit(x_train,y_train)\n",
    "print(svr_r.score(x_train,y_train))\n",
    "svrpred_r=svr_r.predict(x_test)"
   ]
  },
  {
   "cell_type": "code",
   "execution_count": 76,
   "id": "aebc39fb",
   "metadata": {},
   "outputs": [
    {
     "name": "stdout",
     "output_type": "stream",
     "text": [
      "MSE: 0.20203999019026828\n",
      "MAE: 0.33007466501995475\n",
      "r2_score: 0.7303406534268757\n"
     ]
    }
   ],
   "source": [
    "print('MSE:',mean_squared_error(svrpred_r,y_test))\n",
    "print('MAE:',mean_absolute_error(svrpred_r,y_test))\n",
    "print('r2_score:',r2_score(svrpred_r,y_test))"
   ]
  },
  {
   "cell_type": "markdown",
   "id": "d2bcb819",
   "metadata": {},
   "source": [
    "# RandomForestRegressor"
   ]
  },
  {
   "cell_type": "code",
   "execution_count": 77,
   "id": "7d6de9e1",
   "metadata": {},
   "outputs": [
    {
     "name": "stdout",
     "output_type": "stream",
     "text": [
      "0.9646642701587224\n"
     ]
    }
   ],
   "source": [
    "RF=RandomForestRegressor()\n",
    "RF.fit(x_train,y_train)\n",
    "print(RF.score(x_train,y_train))\n",
    "RF_PRED=RF.predict(x_test)\n"
   ]
  },
  {
   "cell_type": "code",
   "execution_count": 78,
   "id": "cac16dc0",
   "metadata": {},
   "outputs": [
    {
     "name": "stdout",
     "output_type": "stream",
     "text": [
      "MSE: 0.17146478865406917\n",
      "MAE: 0.2998641921406044\n",
      "r2_score: 0.7994727187357972\n"
     ]
    }
   ],
   "source": [
    "print('MSE:',mean_squared_error(RF_PRED,y_test))\n",
    "print('MAE:',mean_absolute_error(RF_PRED,y_test))\n",
    "print('r2_score:',r2_score(RF_PRED,y_test))\n"
   ]
  },
  {
   "cell_type": "markdown",
   "id": "d9711247",
   "metadata": {},
   "source": [
    "# DecisionTreeRegressor"
   ]
  },
  {
   "cell_type": "code",
   "execution_count": 79,
   "id": "8580b050",
   "metadata": {},
   "outputs": [
    {
     "name": "stdout",
     "output_type": "stream",
     "text": [
      "0.9927559457107207\n"
     ]
    }
   ],
   "source": [
    "DTR=DecisionTreeRegressor()\n",
    "DTR.fit(x_train,y_train)\n",
    "print(DTR.score(x_train,y_train))\n",
    "DTR_PRED=DTR.predict(x_test)"
   ]
  },
  {
   "cell_type": "code",
   "execution_count": 80,
   "id": "d3b55dd8",
   "metadata": {},
   "outputs": [
    {
     "name": "stdout",
     "output_type": "stream",
     "text": [
      "MSE: 0.2767702236534215\n",
      "MAE: 0.369433298494727\n",
      "r2_score: 0.7243810882229449\n"
     ]
    }
   ],
   "source": [
    "print('MSE:',mean_squared_error(DTR_PRED,y_test))\n",
    "print('MAE:',mean_absolute_error(DTR_PRED,y_test))\n",
    "print('r2_score:',r2_score(DTR_PRED,y_test))"
   ]
  },
  {
   "cell_type": "markdown",
   "id": "61ff53a5",
   "metadata": {},
   "source": [
    "# GradientBoostingRegressor"
   ]
  },
  {
   "cell_type": "code",
   "execution_count": 81,
   "id": "c34a0312",
   "metadata": {},
   "outputs": [
    {
     "name": "stdout",
     "output_type": "stream",
     "text": [
      "0.8883093157888198\n"
     ]
    }
   ],
   "source": [
    "GBR=GradientBoostingRegressor()\n",
    "GBR.fit(x_train,y_train)\n",
    "print(GBR.score(x_train,y_train))\n",
    "GBR_PRED=GBR.predict(x_test)"
   ]
  },
  {
   "cell_type": "code",
   "execution_count": 82,
   "id": "24285aff",
   "metadata": {},
   "outputs": [
    {
     "name": "stdout",
     "output_type": "stream",
     "text": [
      "MSE: 0.16527436337523585\n",
      "MAE: 0.30061074619820843\n",
      "r2_score: 0.8040840105821658\n"
     ]
    }
   ],
   "source": [
    "print('MSE:',mean_squared_error(GBR_PRED,y_test))\n",
    "print('MAE:',mean_absolute_error(GBR_PRED,y_test))\n",
    "print('r2_score:',r2_score(GBR_PRED,y_test))"
   ]
  },
  {
   "cell_type": "markdown",
   "id": "fbffc90d",
   "metadata": {},
   "source": [
    "# cross validation\n"
   ]
  },
  {
   "cell_type": "code",
   "execution_count": 88,
   "id": "e32eb136",
   "metadata": {},
   "outputs": [
    {
     "name": "stdout",
     "output_type": "stream",
     "text": [
      "LR    : 0.418087, 0.064830\n",
      "R    : 0.416718, 0.064420\n",
      "svr    : 0.464957, 0.079086\n",
      "svr_p    : 0.253832, 0.056291\n",
      "svr_r    : 0.234815, 0.066162\n",
      "RF    : 0.214284, 0.061380\n",
      "DTR    : 0.311695, 0.092199\n",
      "GBR    : 0.204845, 0.066740\n"
     ]
    }
   ],
   "source": [
    "np.random.seed(10)\n",
    "def rmse_cv(model, x,y):\n",
    "    rmse =- (cross_val_score(model, x,y, scoring='neg_mean_squared_error', cv=10))\n",
    "    return(rmse)\n",
    "\n",
    "\n",
    "models = [LinearRegression(),\n",
    "             Ridge(),\n",
    "             SVR(kernel='linear'),\n",
    "             SVR(kernel='poly'),\n",
    "             SVR(kernel='rbf'),\n",
    "             RandomForestRegressor(),\n",
    "             DecisionTreeRegressor(),  \n",
    "             GradientBoostingRegressor(),]\n",
    "            \n",
    "\n",
    "\n",
    "names = ['LR','R','svr','svr_p','svr_r','RF','DTR','GBR']\n",
    "\n",
    "for model,name in zip(models,names):\n",
    "    score = rmse_cv(model,x,y)\n",
    "    print(\"{}    : {:.6f}, {:2f}\".format(name,score.mean(),score.std()))"
   ]
  },
  {
   "cell_type": "markdown",
   "id": "4477a53b",
   "metadata": {},
   "source": [
    "According to all metrics score selecting the GradientBoostingRegressoras for GridSeachCV\n",
    "\n"
   ]
  },
  {
   "cell_type": "markdown",
   "id": "1a1d95f5",
   "metadata": {},
   "source": [
    "# HYPER PARAMETER TUNING\n",
    "GridSearchCV"
   ]
  },
  {
   "cell_type": "markdown",
   "id": "5144d6a1",
   "metadata": {},
   "source": [
    "GradientBoostingRegressor"
   ]
  },
  {
   "cell_type": "code",
   "execution_count": 89,
   "id": "b71ce6ae",
   "metadata": {},
   "outputs": [],
   "source": [
    "GF=GradientBoostingRegressor()\n",
    "param={\n",
    "     'criterion':['mse','mae'],\n",
    "     'n_estimators':[100, 200],\n",
    "    }"
   ]
  },
  {
   "cell_type": "code",
   "execution_count": 90,
   "id": "dbc657a0",
   "metadata": {},
   "outputs": [],
   "source": [
    "GF_grid=GridSearchCV(RandomForestRegressor(),param,cv=10,scoring='accuracy',n_jobs=-1,verbose=2)\n"
   ]
  },
  {
   "cell_type": "code",
   "execution_count": 91,
   "id": "7fe80e21",
   "metadata": {},
   "outputs": [
    {
     "name": "stdout",
     "output_type": "stream",
     "text": [
      "Fitting 10 folds for each of 4 candidates, totalling 40 fits\n"
     ]
    }
   ],
   "source": [
    "GF_grid.fit(x_train,y_train)\n",
    "GF_grid_pred=GF_grid.best_estimator_.predict(x_test)"
   ]
  },
  {
   "cell_type": "code",
   "execution_count": 92,
   "id": "84d71dd3",
   "metadata": {},
   "outputs": [
    {
     "data": {
      "text/plain": [
       "{'criterion': 'mse', 'n_estimators': 100}"
      ]
     },
     "execution_count": 92,
     "metadata": {},
     "output_type": "execute_result"
    }
   ],
   "source": [
    "GF_grid.best_params_\n"
   ]
  },
  {
   "cell_type": "code",
   "execution_count": 93,
   "id": "de51267b",
   "metadata": {},
   "outputs": [
    {
     "name": "stdout",
     "output_type": "stream",
     "text": [
      "MSE: 0.17401400493672003\n",
      "MAE: 0.30330881154100836\n",
      "r2_score: 0.7965228904362998\n"
     ]
    }
   ],
   "source": [
    "print('MSE:',mean_squared_error(GF_grid_pred,y_test))\n",
    "print('MAE:',mean_absolute_error(GF_grid_pred,y_test))\n",
    "print('r2_score:',r2_score(GF_grid_pred,y_test))"
   ]
  },
  {
   "cell_type": "code",
   "execution_count": 94,
   "id": "4b0f760d",
   "metadata": {},
   "outputs": [
    {
     "data": {
      "text/plain": [
       "<AxesSubplot:xlabel='capacity_mw', ylabel='Density'>"
      ]
     },
     "execution_count": 94,
     "metadata": {},
     "output_type": "execute_result"
    },
    {
     "data": {
      "image/png": "[encoded data removed]",
      "text/plain": [
       "<Figure size 432x288 with 1 Axes>"
      ]
     },
     "metadata": {},
     "output_type": "display_data"
    }
   ],
   "source": [
    "sns.distplot(GF_grid_pred-y_test)\n"
   ]
  },
  {
   "cell_type": "code",
   "execution_count": 95,
   "id": "04e781b3",
   "metadata": {},
   "outputs": [
    {
     "data": {
      "text/plain": [
       "[<matplotlib.lines.Line2D at 0x1dfbe35d040>]"
      ]
     },
     "execution_count": 95,
     "metadata": {},
     "output_type": "execute_result"
    },
    {
     "data": {
      "image/png": "[encoded data removed]",
      "text/plain": [
       "<Figure size 432x288 with 1 Axes>"
      ]
     },
     "metadata": {},
     "output_type": "display_data"
    }
   ],
   "source": [
    "plt.scatter(GF_grid_pred,y_test)\n",
    "plt.plot(y_test,y_test,linewidth=2,color='Red')"
   ]
  },
  {
   "cell_type": "markdown",
   "id": "38ac5bf5",
   "metadata": {},
   "source": [
    "Choosing GradientBoostingRegressor as the best model"
   ]
  },
  {
   "cell_type": "markdown",
   "id": "b417453f",
   "metadata": {},
   "source": [
    "# Saving the model"
   ]
  },
  {
   "cell_type": "code",
   "execution_count": 96,
   "id": "48b09cdd",
   "metadata": {},
   "outputs": [
    {
     "data": {
      "text/plain": [
       "['Global_Power_Plant_Regression.pkl']"
      ]
     },
     "execution_count": 96,
     "metadata": {},
     "output_type": "execute_result"
    }
   ],
   "source": [
    "import joblib\n",
    "joblib.dump(GF_grid.best_estimator_,'Global_Power_Plant_Regression.pkl')\n",
    "   "
   ]
  },
  {
   "cell_type": "markdown",
   "id": "12c04d9b",
   "metadata": {},
   "source": [
    "# TAKING 'primary_fuel' AS TARGET , CREATING CLASSIFICATION MODEL\n",
    "Dividing data into X and Y"
   ]
  },
  {
   "cell_type": "code",
   "execution_count": 97,
   "id": "877df314",
   "metadata": {},
   "outputs": [],
   "source": [
    "x=df.drop(['primary_fuel'],axis=1)\n",
    "y=df['primary_fuel']"
   ]
  },
  {
   "cell_type": "code",
   "execution_count": 98,
   "id": "216cdd9e",
   "metadata": {},
   "outputs": [
    {
     "data": {
      "text/plain": [
       "(885, 11)"
      ]
     },
     "execution_count": 98,
     "metadata": {},
     "output_type": "execute_result"
    }
   ],
   "source": [
    "x.shape"
   ]
  },
  {
   "cell_type": "code",
   "execution_count": 99,
   "id": "fad8777f",
   "metadata": {},
   "outputs": [
    {
     "data": {
      "text/plain": [
       "(885,)"
      ]
     },
     "execution_count": 99,
     "metadata": {},
     "output_type": "execute_result"
    }
   ],
   "source": [
    "y.shape"
   ]
  },
  {
   "cell_type": "markdown",
   "id": "8a0c3258",
   "metadata": {},
   "source": [
    "# Spliting Train and Test data\n"
   ]
  },
  {
   "cell_type": "code",
   "execution_count": 103,
   "id": "f0848f0b",
   "metadata": {},
   "outputs": [],
   "source": [
    "# x_train,x_test,y_train,y_test=train_test_split(x,y,test_size=.27,random_state=42)\n",
    "x_train,x_test,y_train,y_test=train_test_split(x,y,test_size=.20,random_state=20)"
   ]
  },
  {
   "cell_type": "code",
   "execution_count": 104,
   "id": "16d3a993",
   "metadata": {},
   "outputs": [
    {
     "data": {
      "text/plain": [
       "(708, 11)"
      ]
     },
     "execution_count": 104,
     "metadata": {},
     "output_type": "execute_result"
    }
   ],
   "source": [
    "x_train.shape\n"
   ]
  },
  {
   "cell_type": "code",
   "execution_count": 105,
   "id": "83341a48",
   "metadata": {},
   "outputs": [
    {
     "data": {
      "text/plain": [
       "(177, 11)"
      ]
     },
     "execution_count": 105,
     "metadata": {},
     "output_type": "execute_result"
    }
   ],
   "source": [
    "x_test.shape"
   ]
  },
  {
   "cell_type": "code",
   "execution_count": 106,
   "id": "c2d0f20c",
   "metadata": {},
   "outputs": [
    {
     "data": {
      "text/plain": [
       "(708,)"
      ]
     },
     "execution_count": 106,
     "metadata": {},
     "output_type": "execute_result"
    }
   ],
   "source": [
    "y_train.shape\n"
   ]
  },
  {
   "cell_type": "code",
   "execution_count": 107,
   "id": "1201fc7d",
   "metadata": {},
   "outputs": [
    {
     "data": {
      "text/plain": [
       "(177,)"
      ]
     },
     "execution_count": 107,
     "metadata": {},
     "output_type": "execute_result"
    }
   ],
   "source": [
    "y_test.shape\n"
   ]
  },
  {
   "cell_type": "markdown",
   "id": "8280f3f1",
   "metadata": {},
   "source": [
    "# MODEL BUILDING"
   ]
  },
  {
   "cell_type": "markdown",
   "id": "2582a982",
   "metadata": {},
   "source": [
    "# LogisticRegression\n"
   ]
  },
  {
   "cell_type": "code",
   "execution_count": 108,
   "id": "a19ce56d",
   "metadata": {},
   "outputs": [
    {
     "name": "stdout",
     "output_type": "stream",
     "text": [
      "cross validation score: 0.5322286572286572\n"
     ]
    }
   ],
   "source": [
    "# logreg=LogisticRegression()\n",
    "# logreg_score=cross_val_score(logreg,x,y,cv=5,scoring='accuracy')\n",
    "# print(\"cross validation score:\",np.mean(logreg_score)\n",
    "logrg=LogisticRegression()\n",
    "logrg_score=cross_val_score(logrg,x,y,cv=6,scoring='accuracy')\n",
    "print(\"cross validation score:\",np.mean(logrg_score))      \n",
    "      "
   ]
  },
  {
   "cell_type": "code",
   "execution_count": 109,
   "id": "baa453ca",
   "metadata": {},
   "outputs": [
    {
     "name": "stdout",
     "output_type": "stream",
     "text": [
      "0.519774011299435\n",
      "[[ 0  2  0  0  0  0 10  1]\n",
      " [ 0  5  0 34  0  0  7  0]\n",
      " [ 0  1  0 13  0  0  2  2]\n",
      " [ 0  1  0 48  0  0  0  0]\n",
      " [ 0  0  0  1  0  0  0  0]\n",
      " [ 0  0  0  4  0  0  1  1]\n",
      " [ 0  1  0  0  0  0 22  4]\n",
      " [ 0  0  0  0  0  0  0 17]]\n",
      "              precision    recall  f1-score   support\n",
      "\n",
      "           0       0.00      0.00      0.00        13\n",
      "           1       0.50      0.11      0.18        46\n",
      "           2       0.00      0.00      0.00        18\n",
      "           3       0.48      0.98      0.64        49\n",
      "           4       0.00      0.00      0.00         1\n",
      "           5       0.00      0.00      0.00         6\n",
      "           6       0.52      0.81      0.64        27\n",
      "           7       0.68      1.00      0.81        17\n",
      "\n",
      "    accuracy                           0.52       177\n",
      "   macro avg       0.27      0.36      0.28       177\n",
      "weighted avg       0.41      0.52      0.40       177\n",
      "\n",
      "Training accuracy:: 0.53954802259887\n",
      "Test accuracy:: 0.519774011299435\n"
     ]
    }
   ],
   "source": [
    "logrg.fit(x_train,y_train)\n",
    "LR_predicted=logrg.predict(x_test)\n",
    "\n",
    "print(accuracy_score(y_test,LR_predicted))\n",
    "print(confusion_matrix(y_test,LR_predicted))\n",
    "print(classification_report(y_test,LR_predicted))\n",
    "print(\"Training accuracy::\",logrg.score(x_train,y_train))\n",
    "print(\"Test accuracy::\",logrg.score(x_test,y_test))"
   ]
  },
  {
   "cell_type": "markdown",
   "id": "48420f2f",
   "metadata": {},
   "source": [
    "# DECISION TREE CLASSIFIER\n"
   ]
  },
  {
   "cell_type": "code",
   "execution_count": 110,
   "id": "fb649748",
   "metadata": {},
   "outputs": [
    {
     "name": "stdout",
     "output_type": "stream",
     "text": [
      "cross validation score for svm: 0.7864406779661017\n"
     ]
    }
   ],
   "source": [
    "dtc=DecisionTreeClassifier()\n",
    "dtc_score=cross_val_score(dtc,x,y,cv=5,scoring='accuracy')\n",
    "print(\"cross validation score for svm:\",np.mean(dtc_score))\n"
   ]
  },
  {
   "cell_type": "code",
   "execution_count": 111,
   "id": "d90aa782",
   "metadata": {},
   "outputs": [
    {
     "name": "stdout",
     "output_type": "stream",
     "text": [
      "0.7457627118644068\n",
      "[[10  3  0  0  0  0  0  0]\n",
      " [ 1 29  6  8  1  1  0  0]\n",
      " [ 1  4  6  4  0  3  0  0]\n",
      " [ 0  5  0 42  0  2  0  0]\n",
      " [ 0  1  0  0  0  0  0  0]\n",
      " [ 0  2  1  2  0  1  0  0]\n",
      " [ 0  0  0  0  0  0 27  0]\n",
      " [ 0  0  0  0  0  0  0 17]]\n",
      "              precision    recall  f1-score   support\n",
      "\n",
      "           0       0.83      0.77      0.80        13\n",
      "           1       0.66      0.63      0.64        46\n",
      "           2       0.46      0.33      0.39        18\n",
      "           3       0.75      0.86      0.80        49\n",
      "           4       0.00      0.00      0.00         1\n",
      "           5       0.14      0.17      0.15         6\n",
      "           6       1.00      1.00      1.00        27\n",
      "           7       1.00      1.00      1.00        17\n",
      "\n",
      "    accuracy                           0.75       177\n",
      "   macro avg       0.61      0.59      0.60       177\n",
      "weighted avg       0.74      0.75      0.74       177\n",
      "\n",
      "Training accuracy:: 1.0\n",
      "Test accuracy:: 0.7457627118644068\n"
     ]
    }
   ],
   "source": [
    "dtc.fit(x_train,y_train)\n",
    "predicted_dtc=dtc.predict(x_test)\n",
    "print(accuracy_score(y_test,predicted_dtc))\n",
    "print(confusion_matrix(y_test,predicted_dtc))\n",
    "print(classification_report(y_test,predicted_dtc))\n",
    "print(\"Training accuracy::\",dtc.score(x_train,y_train))\n",
    "print(\"Test accuracy::\",dtc.score(x_test,y_test))"
   ]
  },
  {
   "cell_type": "markdown",
   "id": "00348770",
   "metadata": {},
   "source": [
    "# KNeighborsClassifier\n"
   ]
  },
  {
   "cell_type": "code",
   "execution_count": 112,
   "id": "9891f577",
   "metadata": {},
   "outputs": [
    {
     "name": "stdout",
     "output_type": "stream",
     "text": [
      "cross validation score for knn: 0.7265536723163841\n"
     ]
    }
   ],
   "source": [
    "knn=KNeighborsClassifier()\n",
    "knn_score=cross_val_score(knn,x,y,cv=5,scoring='accuracy')\n",
    "print(\"cross validation score for knn:\",np.mean(knn_score))"
   ]
  },
  {
   "cell_type": "code",
   "execution_count": 113,
   "id": "12b967c3",
   "metadata": {},
   "outputs": [
    {
     "name": "stdout",
     "output_type": "stream",
     "text": [
      "0.6892655367231638\n",
      "[[ 7  2  2  0  0  0  2  0]\n",
      " [ 2 35  2  5  0  0  2  0]\n",
      " [ 2  6  4  4  0  0  0  2]\n",
      " [ 0  6  2 41  0  0  0  0]\n",
      " [ 0  0  0  1  0  0  0  0]\n",
      " [ 0  0  1  4  0  0  0  1]\n",
      " [ 4  4  0  0  0  0 18  1]\n",
      " [ 0  0  0  0  0  0  0 17]]\n",
      "              precision    recall  f1-score   support\n",
      "\n",
      "           0       0.47      0.54      0.50        13\n",
      "           1       0.66      0.76      0.71        46\n",
      "           2       0.36      0.22      0.28        18\n",
      "           3       0.75      0.84      0.79        49\n",
      "           4       0.00      0.00      0.00         1\n",
      "           5       0.00      0.00      0.00         6\n",
      "           6       0.82      0.67      0.73        27\n",
      "           7       0.81      1.00      0.89        17\n",
      "\n",
      "    accuracy                           0.69       177\n",
      "   macro avg       0.48      0.50      0.49       177\n",
      "weighted avg       0.65      0.69      0.66       177\n",
      "\n",
      "Training accuracy:: 0.8163841807909604\n",
      "Test accuracy:: 0.6892655367231638\n"
     ]
    }
   ],
   "source": [
    "knn.fit(x_train,y_train)\n",
    "predicted_knn=knn.predict(x_test)\n",
    "print(accuracy_score(y_test,predicted_knn))\n",
    "print(confusion_matrix(y_test,predicted_knn))\n",
    "print(classification_report(y_test,predicted_knn))\n",
    "print(\"Training accuracy::\",knn.score(x_train,y_train))\n",
    "print(\"Test accuracy::\",knn.score(x_test,y_test))"
   ]
  },
  {
   "cell_type": "markdown",
   "id": "80de279b",
   "metadata": {},
   "source": [
    "# RandomForestClassifier"
   ]
  },
  {
   "cell_type": "code",
   "execution_count": 114,
   "id": "04c2e7e9",
   "metadata": {},
   "outputs": [
    {
     "name": "stdout",
     "output_type": "stream",
     "text": [
      "cross validation score for rfc: 0.8474576271186441\n"
     ]
    }
   ],
   "source": [
    "rfc=RandomForestClassifier()\n",
    "rfc_score=cross_val_score(rfc,x,y,cv=5,scoring='accuracy')\n",
    "print(\"cross validation score for rfc:\",np.mean(rfc_score))\n"
   ]
  },
  {
   "cell_type": "code",
   "execution_count": 115,
   "id": "055cc1ed",
   "metadata": {},
   "outputs": [
    {
     "name": "stdout",
     "output_type": "stream",
     "text": [
      "0.807909604519774\n",
      "[[10  3  0  0  0  0  0  0]\n",
      " [ 2 39  0  4  0  1  0  0]\n",
      " [ 1  6  5  4  0  2  0  0]\n",
      " [ 0  6  0 43  0  0  0  0]\n",
      " [ 0  0  1  0  0  0  0  0]\n",
      " [ 0  1  2  1  0  2  0  0]\n",
      " [ 0  0  0  0  0  0 27  0]\n",
      " [ 0  0  0  0  0  0  0 17]]\n",
      "              precision    recall  f1-score   support\n",
      "\n",
      "           0       0.77      0.77      0.77        13\n",
      "           1       0.71      0.85      0.77        46\n",
      "           2       0.62      0.28      0.38        18\n",
      "           3       0.83      0.88      0.85        49\n",
      "           4       0.00      0.00      0.00         1\n",
      "           5       0.40      0.33      0.36         6\n",
      "           6       1.00      1.00      1.00        27\n",
      "           7       1.00      1.00      1.00        17\n",
      "\n",
      "    accuracy                           0.81       177\n",
      "   macro avg       0.67      0.64      0.64       177\n",
      "weighted avg       0.80      0.81      0.79       177\n",
      "\n",
      "Training accuracy:: 1.0\n",
      "Test accuracy:: 0.807909604519774\n"
     ]
    }
   ],
   "source": [
    "rfc.fit(x_train,y_train)\n",
    "predicted_rfc=rfc.predict(x_test)\n",
    "print(accuracy_score(y_test,predicted_rfc))\n",
    "print(confusion_matrix(y_test,predicted_rfc))\n",
    "print(classification_report(y_test,predicted_rfc))\n",
    "print(\"Training accuracy::\",rfc.score(x_train,y_train))\n",
    "print(\"Test accuracy::\",rfc.score(x_test,y_test))"
   ]
  },
  {
   "cell_type": "markdown",
   "id": "3df678d3",
   "metadata": {},
   "source": [
    "# ENSEMBLE TECHNIQUES\n",
    "\n",
    "ADA BOOST CLASSIFIER"
   ]
  },
  {
   "cell_type": "code",
   "execution_count": 116,
   "id": "72fd8288",
   "metadata": {},
   "outputs": [
    {
     "name": "stdout",
     "output_type": "stream",
     "text": [
      "cross validation score for Ada boost: 0.5458503575076609\n"
     ]
    }
   ],
   "source": [
    "adb=AdaBoostClassifier()\n",
    "adb_score=cross_val_score(adb,x,y,cv=10,scoring='accuracy')\n",
    "print(\"cross validation score for Ada boost:\",np.mean(adb_score))"
   ]
  },
  {
   "cell_type": "code",
   "execution_count": 117,
   "id": "3b318262",
   "metadata": {},
   "outputs": [
    {
     "name": "stdout",
     "output_type": "stream",
     "text": [
      "0.5254237288135594\n",
      "[[ 0  0  0 13  0  0  0  0]\n",
      " [ 0  0  0 46  0  0  0  0]\n",
      " [ 0  0  0 17  0  0  0  1]\n",
      " [ 0  0  0 49  0  0  0  0]\n",
      " [ 0  0  0  1  0  0  0  0]\n",
      " [ 0  0  0  5  0  0  0  1]\n",
      " [ 0  0  0  0  0  0 27  0]\n",
      " [ 0  0  0  0  0  0  0 17]]\n",
      "              precision    recall  f1-score   support\n",
      "\n",
      "           0       0.00      0.00      0.00        13\n",
      "           1       0.00      0.00      0.00        46\n",
      "           2       0.00      0.00      0.00        18\n",
      "           3       0.37      1.00      0.54        49\n",
      "           4       0.00      0.00      0.00         1\n",
      "           5       0.00      0.00      0.00         6\n",
      "           6       1.00      1.00      1.00        27\n",
      "           7       0.89      1.00      0.94        17\n",
      "\n",
      "    accuracy                           0.53       177\n",
      "   macro avg       0.28      0.38      0.31       177\n",
      "weighted avg       0.34      0.53      0.39       177\n",
      "\n",
      "Training accuracy:: 0.5692090395480226\n",
      "Test accuracy:: 0.5254237288135594\n"
     ]
    }
   ],
   "source": [
    "adb.fit(x_train,y_train)\n",
    "predicted_adb=adb.predict(x_test)\n",
    "print(accuracy_score(y_test,predicted_adb))\n",
    "print(confusion_matrix(y_test,predicted_adb))\n",
    "print(classification_report(y_test,predicted_adb))\n",
    "print(\"Training accuracy::\",adb.score(x_train,y_train))\n",
    "print(\"Test accuracy::\",adb.score(x_test,y_test))"
   ]
  },
  {
   "cell_type": "markdown",
   "id": "903030c7",
   "metadata": {},
   "source": [
    "# BAGGING CLASSIFIER\n"
   ]
  },
  {
   "cell_type": "code",
   "execution_count": 118,
   "id": "357abcc1",
   "metadata": {},
   "outputs": [
    {
     "name": "stdout",
     "output_type": "stream",
     "text": [
      "cross validation score for BAGGING Classifier: 0.8327247191011236\n"
     ]
    }
   ],
   "source": [
    "bgc=BaggingClassifier()\n",
    "bgc_score=cross_val_score(bgc,x,y,cv=10,scoring='accuracy')\n",
    "print(\"cross validation score for BAGGING Classifier:\",np.mean(bgc_score))"
   ]
  },
  {
   "cell_type": "code",
   "execution_count": 119,
   "id": "06e18b96",
   "metadata": {},
   "outputs": [
    {
     "name": "stdout",
     "output_type": "stream",
     "text": [
      "0.8022598870056498\n",
      "[[10  3  0  0  0  0  0  0]\n",
      " [ 1 38  1  4  0  2  0  0]\n",
      " [ 1  6  5  5  0  1  0  0]\n",
      " [ 0  5  0 44  0  0  0  0]\n",
      " [ 0  0  1  0  0  0  0  0]\n",
      " [ 0  1  2  2  0  1  0  0]\n",
      " [ 0  0  0  0  0  0 27  0]\n",
      " [ 0  0  0  0  0  0  0 17]]\n",
      "              precision    recall  f1-score   support\n",
      "\n",
      "           0       0.83      0.77      0.80        13\n",
      "           1       0.72      0.83      0.77        46\n",
      "           2       0.56      0.28      0.37        18\n",
      "           3       0.80      0.90      0.85        49\n",
      "           4       0.00      0.00      0.00         1\n",
      "           5       0.25      0.17      0.20         6\n",
      "           6       1.00      1.00      1.00        27\n",
      "           7       1.00      1.00      1.00        17\n",
      "\n",
      "    accuracy                           0.80       177\n",
      "   macro avg       0.64      0.62      0.62       177\n",
      "weighted avg       0.78      0.80      0.79       177\n",
      "\n",
      "Training accuracy:: 0.9915254237288136\n",
      "Test accuracy:: 0.8022598870056498\n"
     ]
    }
   ],
   "source": [
    "bgc.fit(x_train,y_train)\n",
    "predicted_bgc=bgc.predict(x_test)\n",
    "print(accuracy_score(y_test,predicted_bgc))\n",
    "print(confusion_matrix(y_test,predicted_bgc))\n",
    "print(classification_report(y_test,predicted_bgc))\n",
    "print(\"Training accuracy::\",bgc.score(x_train,y_train))\n",
    "print(\"Test accuracy::\",bgc.score(x_test,y_test))"
   ]
  },
  {
   "cell_type": "markdown",
   "id": "8dda800d",
   "metadata": {},
   "source": [
    "# Gradient Boosting classifier\n"
   ]
  },
  {
   "cell_type": "code",
   "execution_count": 120,
   "id": "a9ec8e65",
   "metadata": {},
   "outputs": [
    {
     "name": "stdout",
     "output_type": "stream",
     "text": [
      "cross validation score for Gradient Boosting Classifier: 0.8530643513789581\n"
     ]
    }
   ],
   "source": [
    "grbc=GradientBoostingClassifier()\n",
    "grbc_score=cross_val_score(grbc,x,y,cv=10,scoring='accuracy')\n",
    "print(\"cross validation score for Gradient Boosting Classifier:\",np.mean(grbc_score))"
   ]
  },
  {
   "cell_type": "code",
   "execution_count": 121,
   "id": "0e0e4940",
   "metadata": {},
   "outputs": [
    {
     "name": "stdout",
     "output_type": "stream",
     "text": [
      "0.8248587570621468\n",
      "[[10  3  0  0  0  0  0  0]\n",
      " [ 2 37  1  4  1  1  0  0]\n",
      " [ 1  5  9  1  0  2  0  0]\n",
      " [ 0  4  1 44  0  0  0  0]\n",
      " [ 0  1  0  0  0  0  0  0]\n",
      " [ 0  0  3  1  0  2  0  0]\n",
      " [ 0  0  0  0  0  0 27  0]\n",
      " [ 0  0  0  0  0  0  0 17]]\n",
      "              precision    recall  f1-score   support\n",
      "\n",
      "           0       0.77      0.77      0.77        13\n",
      "           1       0.74      0.80      0.77        46\n",
      "           2       0.64      0.50      0.56        18\n",
      "           3       0.88      0.90      0.89        49\n",
      "           4       0.00      0.00      0.00         1\n",
      "           5       0.40      0.33      0.36         6\n",
      "           6       1.00      1.00      1.00        27\n",
      "           7       1.00      1.00      1.00        17\n",
      "\n",
      "    accuracy                           0.82       177\n",
      "   macro avg       0.68      0.66      0.67       177\n",
      "weighted avg       0.82      0.82      0.82       177\n",
      "\n",
      "Training accuracy:: 1.0\n",
      "Test accuracy:: 0.8248587570621468\n"
     ]
    }
   ],
   "source": [
    "grbc.fit(x_train,y_train)\n",
    "predicted_grbc=grbc.predict(x_test)\n",
    "print(accuracy_score(y_test,predicted_grbc))\n",
    "print(confusion_matrix(y_test,predicted_grbc))\n",
    "print(classification_report(y_test,predicted_grbc))\n",
    "print(\"Training accuracy::\",grbc.score(x_train,y_train))\n",
    "print(\"Test accuracy::\",grbc.score(x_test,y_test))"
   ]
  },
  {
   "cell_type": "markdown",
   "id": "007f5f30",
   "metadata": {},
   "source": [
    "# HYPER PARAMETER TUNING\n"
   ]
  },
  {
   "cell_type": "code",
   "execution_count": 122,
   "id": "30d94af2",
   "metadata": {},
   "outputs": [],
   "source": [
    "rfc=RandomForestClassifier()\n",
    "param_grid={\n",
    "    'criterion' : [\"gini\", \"entropy\"],\n",
    "    'n_estimators':[200,50],\n",
    "    'min_samples_split':[2,3],\n",
    "     'random_state':[10]              \n",
    "}"
   ]
  },
  {
   "cell_type": "code",
   "execution_count": 123,
   "id": "688808fa",
   "metadata": {},
   "outputs": [],
   "source": [
    "rfc_grid=GridSearchCV(RandomForestClassifier(),param_grid,cv=4,scoring='accuracy',n_jobs=-1,verbose=2)\n"
   ]
  },
  {
   "cell_type": "code",
   "execution_count": 124,
   "id": "ff689d01",
   "metadata": {},
   "outputs": [
    {
     "name": "stdout",
     "output_type": "stream",
     "text": [
      "Fitting 4 folds for each of 8 candidates, totalling 32 fits\n",
      "Accuracy after parameter tuning:: 0.8135593220338984\n"
     ]
    }
   ],
   "source": [
    "rfc_grid.fit(x_train,y_train)\n",
    "rfc_pred=rfc_grid.best_estimator_.predict(x_test)\n",
    "print(\"Accuracy after parameter tuning::\",accuracy_score(y_test,rfc_pred))"
   ]
  },
  {
   "cell_type": "code",
   "execution_count": 125,
   "id": "ab8e6c12",
   "metadata": {},
   "outputs": [
    {
     "data": {
      "text/plain": [
       "{'criterion': 'gini',\n",
       " 'min_samples_split': 3,\n",
       " 'n_estimators': 200,\n",
       " 'random_state': 10}"
      ]
     },
     "execution_count": 125,
     "metadata": {},
     "output_type": "execute_result"
    }
   ],
   "source": [
    "rfc_grid.best_params_\n"
   ]
  },
  {
   "cell_type": "markdown",
   "id": "8ee00ead",
   "metadata": {},
   "source": [
    "model training with best parameters\n"
   ]
  },
  {
   "cell_type": "code",
   "execution_count": 126,
   "id": "d884c249",
   "metadata": {},
   "outputs": [],
   "source": [
    "best_param={\n",
    "    'criterion' : ['gini'],\n",
    "    'n_estimators':[200],\n",
    "    'min_samples_split':[2],\n",
    "     'random_state':[10]    }"
   ]
  },
  {
   "cell_type": "code",
   "execution_count": 127,
   "id": "b25229d0",
   "metadata": {},
   "outputs": [],
   "source": [
    "best_rfc_grid=GridSearchCV(RandomForestClassifier(),best_param,cv=4,scoring='accuracy',n_jobs=-1,verbose=2)\n"
   ]
  },
  {
   "cell_type": "code",
   "execution_count": 128,
   "id": "388e37d7",
   "metadata": {},
   "outputs": [
    {
     "name": "stdout",
     "output_type": "stream",
     "text": [
      "Fitting 4 folds for each of 1 candidates, totalling 4 fits\n",
      "Accuracy after parameter tuning:: 0.8022598870056498\n"
     ]
    }
   ],
   "source": [
    "best_rfc_grid.fit(x_train,y_train)\n",
    "best_rfc_pred=best_rfc_grid.best_estimator_.predict(x_test)\n",
    "print(\"Accuracy after parameter tuning::\",accuracy_score(y_test,best_rfc_pred))"
   ]
  },
  {
   "cell_type": "markdown",
   "id": "0d0ec63e",
   "metadata": {},
   "source": [
    "# Report of RandomForestClassifier\n"
   ]
  },
  {
   "cell_type": "code",
   "execution_count": 129,
   "id": "205aacab",
   "metadata": {},
   "outputs": [
    {
     "name": "stdout",
     "output_type": "stream",
     "text": [
      "CLASSIFICATION REPORT::\n",
      "               precision    recall  f1-score   support\n",
      "\n",
      "           0       0.77      0.77      0.77        13\n",
      "           1       0.72      0.83      0.77        46\n",
      "           2       0.57      0.22      0.32        18\n",
      "           3       0.79      0.90      0.84        49\n",
      "           4       0.00      0.00      0.00         1\n",
      "           5       0.50      0.33      0.40         6\n",
      "           6       1.00      1.00      1.00        27\n",
      "           7       1.00      1.00      1.00        17\n",
      "\n",
      "    accuracy                           0.80       177\n",
      "   macro avg       0.67      0.63      0.64       177\n",
      "weighted avg       0.78      0.80      0.78       177\n",
      "\n"
     ]
    }
   ],
   "source": [
    "print(\"CLASSIFICATION REPORT::\\n\",classification_report(y_test,best_rfc_pred))\n"
   ]
  },
  {
   "cell_type": "code",
   "execution_count": 130,
   "id": "9e5fba34",
   "metadata": {},
   "outputs": [
    {
     "data": {
      "text/plain": [
       "<AxesSubplot:>"
      ]
     },
     "execution_count": 130,
     "metadata": {},
     "output_type": "execute_result"
    },
    {
     "data": {
      "image/png": "[encoded data removed]",
      "text/plain": [
       "<Figure size 432x288 with 2 Axes>"
      ]
     },
     "metadata": {},
     "output_type": "display_data"
    }
   ],
   "source": [
    "clsf_repo = classification_report(y_test,best_rfc_pred,output_dict=True)\n",
    "sns.heatmap(pd.DataFrame(clsf_repo).T, annot=True)"
   ]
  },
  {
   "cell_type": "code",
   "execution_count": 133,
   "id": "4c1d89a7",
   "metadata": {},
   "outputs": [
    {
     "name": "stdout",
     "output_type": "stream",
     "text": [
      "Fitting 4 folds for each of 1 candidates, totalling 4 fits\n",
      "One-vs-One ROC AUC scores:\n",
      "0.923515 (macro),\n",
      "0.943476 (weighted by prevalence)\n",
      "========================================\n",
      "One-vs-Rest ROC AUC scores:\n",
      "0.945420 (macro),\n",
      "0.958463 (weighted by prevalence)\n"
     ]
    }
   ],
   "source": [
    "y_prob = best_rfc_grid.fit(x_train,y_train).predict_proba(x_test)\n",
    "\n",
    "macro_roc_auc_ovo = roc_auc_score(y_test, y_prob, multi_class=\"ovo\", average=\"macro\")\n",
    "weighted_roc_auc_ovo = roc_auc_score(y_test, y_prob, multi_class=\"ovo\", average=\"weighted\")\n",
    "macro_roc_auc_ovr = roc_auc_score(y_test, y_prob, multi_class=\"ovr\", average=\"macro\")\n",
    "weighted_roc_auc_ovr = roc_auc_score(y_test, y_prob, multi_class=\"ovr\", average=\"weighted\")\n",
    "print(\"One-vs-One ROC AUC scores:\\n{:.6f} (macro),\\n{:.6f} \"\n",
    "      \"(weighted by prevalence)\"\n",
    "      .format(macro_roc_auc_ovo, weighted_roc_auc_ovo))\n",
    "print(\"=\"*40)\n",
    "print(\"One-vs-Rest ROC AUC scores:\\n{:.6f} (macro),\\n{:.6f} \"\n",
    "      \"(weighted by prevalence)\"\n",
    "      .format(macro_roc_auc_ovr, weighted_roc_auc_ovr))"
   ]
  },
  {
   "cell_type": "markdown",
   "id": "f6f8cb6b",
   "metadata": {},
   "source": [
    "# Saving Model\n"
   ]
  },
  {
   "cell_type": "code",
   "execution_count": 134,
   "id": "3471e922",
   "metadata": {},
   "outputs": [
    {
     "data": {
      "text/plain": [
       "['Global_Power_Plant_Classification.pkl']"
      ]
     },
     "execution_count": 134,
     "metadata": {},
     "output_type": "execute_result"
    }
   ],
   "source": [
    "import joblib\n",
    "joblib.dump(best_rfc_grid.best_estimator_,'Global_Power_Plant_Classification.pkl')\n"
   ]
  },
  {
   "cell_type": "code",
   "execution_count": null,
   "id": "e8815ab4",
   "metadata": {},
   "outputs": [],
   "source": []
  }
 ],
 "metadata": {
  "kernelspec": {
   "display_name": "Python 3 (ipykernel)",
   "language": "python",
   "name": "python3"
  },
  "language_info": {
   "codemirror_mode": {
    "name": "ipython",
    "version": 3
   },
   "file_extension": ".py",
   "mimetype": "text/x-python",
   "name": "python",
   "nbconvert_exporter": "python",
   "pygments_lexer": "ipython3",
   "version": "3.9.7"
  }
 },
 "nbformat": 4,
 "nbformat_minor": 5
}
