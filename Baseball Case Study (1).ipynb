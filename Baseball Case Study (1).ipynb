{
 "cells": [
  {
   "cell_type": "markdown",
   "id": "00d56406",
   "metadata": {},
   "source": [
    "# Baseball Case Study\n",
    "\n",
    "This dataset utilizes data from 2014 Major League Baseball seasons in order to develop an algorithm that predicts the number of wins for a given team in the 2015 season based on several different indicators of success. There are 16 different features that will be used as the inputs to the machine learning and the output will be a value that represents the number of wins. \n",
    "\n",
    "-- Input features: Runs, At Bats, Hits, Doubles, Triples, Homeruns, Walks, Strikeouts, Stolen Bases, Runs Allowed, Earned Runs, Earned Run Average (ERA), Shutouts, Saves, Complete Games and Errors\n",
    "\n",
    "-- Output: Number of predicted wins (W)"
   ]
  },
  {
   "cell_type": "markdown",
   "id": "488e2784",
   "metadata": {},
   "source": [
    "# Import libreries"
   ]
  },
  {
   "cell_type": "code",
   "execution_count": 1,
   "id": "f929188e",
   "metadata": {},
   "outputs": [],
   "source": [
    "import pandas as pd\n",
    "import numpy as np\n",
    "import matplotlib.pyplot as plt\n",
    "import seaborn as sns\n",
    "from scipy.stats import zscore\n",
    "from sklearn.preprocessing import StandardScaler\n",
    "from sklearn.model_selection import train_test_split\n",
    "from sklearn.linear_model import LinearRegression\n",
    "from sklearn.metrics import r2_score\n",
    "from sklearn.metrics import mean_squared_error\n",
    "from sklearn.svm import SVR\n",
    "from sklearn.tree import DecisionTreeRegressor\n",
    "from sklearn.ensemble import AdaBoostRegressor\n",
    "from sklearn.model_selection import cross_val_score\n",
    "from sklearn.model_selection import GridSearchCV\n",
    "from sklearn.linear_model import Lasso\n",
    "import warnings\n",
    "warnings.filterwarnings('ignore')"
   ]
  },
  {
   "cell_type": "code",
   "execution_count": 2,
   "id": "044591a4",
   "metadata": {},
   "outputs": [
    {
     "data": {
      "text/html": [
       "<div>\n",
       "<style scoped>\n",
       "    .dataframe tbody tr th:only-of-type {\n",
       "        vertical-align: middle;\n",
       "    }\n",
       "\n",
       "    .dataframe tbody tr th {\n",
       "        vertical-align: top;\n",
       "    }\n",
       "\n",
       "    .dataframe thead th {\n",
       "        text-align: right;\n",
       "    }\n",
       "</style>\n",
       "<table border=\"1\" class=\"dataframe\">\n",
       "  <thead>\n",
       "    <tr style=\"text-align: right;\">\n",
       "      <th></th>\n",
       "      <th>W</th>\n",
       "      <th>R</th>\n",
       "      <th>AB</th>\n",
       "      <th>H</th>\n",
       "      <th>2B</th>\n",
       "      <th>3B</th>\n",
       "      <th>HR</th>\n",
       "      <th>BB</th>\n",
       "      <th>SO</th>\n",
       "      <th>SB</th>\n",
       "      <th>RA</th>\n",
       "      <th>ER</th>\n",
       "      <th>ERA</th>\n",
       "      <th>CG</th>\n",
       "      <th>SHO</th>\n",
       "      <th>SV</th>\n",
       "      <th>E</th>\n",
       "    </tr>\n",
       "  </thead>\n",
       "  <tbody>\n",
       "    <tr>\n",
       "      <th>0</th>\n",
       "      <td>95</td>\n",
       "      <td>724</td>\n",
       "      <td>5575</td>\n",
       "      <td>1497</td>\n",
       "      <td>300</td>\n",
       "      <td>42</td>\n",
       "      <td>139</td>\n",
       "      <td>383</td>\n",
       "      <td>973</td>\n",
       "      <td>104</td>\n",
       "      <td>641</td>\n",
       "      <td>601</td>\n",
       "      <td>3.73</td>\n",
       "      <td>2</td>\n",
       "      <td>8</td>\n",
       "      <td>56</td>\n",
       "      <td>88</td>\n",
       "    </tr>\n",
       "    <tr>\n",
       "      <th>1</th>\n",
       "      <td>83</td>\n",
       "      <td>696</td>\n",
       "      <td>5467</td>\n",
       "      <td>1349</td>\n",
       "      <td>277</td>\n",
       "      <td>44</td>\n",
       "      <td>156</td>\n",
       "      <td>439</td>\n",
       "      <td>1264</td>\n",
       "      <td>70</td>\n",
       "      <td>700</td>\n",
       "      <td>653</td>\n",
       "      <td>4.07</td>\n",
       "      <td>2</td>\n",
       "      <td>12</td>\n",
       "      <td>45</td>\n",
       "      <td>86</td>\n",
       "    </tr>\n",
       "    <tr>\n",
       "      <th>2</th>\n",
       "      <td>81</td>\n",
       "      <td>669</td>\n",
       "      <td>5439</td>\n",
       "      <td>1395</td>\n",
       "      <td>303</td>\n",
       "      <td>29</td>\n",
       "      <td>141</td>\n",
       "      <td>533</td>\n",
       "      <td>1157</td>\n",
       "      <td>86</td>\n",
       "      <td>640</td>\n",
       "      <td>584</td>\n",
       "      <td>3.67</td>\n",
       "      <td>11</td>\n",
       "      <td>10</td>\n",
       "      <td>38</td>\n",
       "      <td>79</td>\n",
       "    </tr>\n",
       "    <tr>\n",
       "      <th>3</th>\n",
       "      <td>76</td>\n",
       "      <td>622</td>\n",
       "      <td>5533</td>\n",
       "      <td>1381</td>\n",
       "      <td>260</td>\n",
       "      <td>27</td>\n",
       "      <td>136</td>\n",
       "      <td>404</td>\n",
       "      <td>1231</td>\n",
       "      <td>68</td>\n",
       "      <td>701</td>\n",
       "      <td>643</td>\n",
       "      <td>3.98</td>\n",
       "      <td>7</td>\n",
       "      <td>9</td>\n",
       "      <td>37</td>\n",
       "      <td>101</td>\n",
       "    </tr>\n",
       "    <tr>\n",
       "      <th>4</th>\n",
       "      <td>74</td>\n",
       "      <td>689</td>\n",
       "      <td>5605</td>\n",
       "      <td>1515</td>\n",
       "      <td>289</td>\n",
       "      <td>49</td>\n",
       "      <td>151</td>\n",
       "      <td>455</td>\n",
       "      <td>1259</td>\n",
       "      <td>83</td>\n",
       "      <td>803</td>\n",
       "      <td>746</td>\n",
       "      <td>4.64</td>\n",
       "      <td>7</td>\n",
       "      <td>12</td>\n",
       "      <td>35</td>\n",
       "      <td>86</td>\n",
       "    </tr>\n",
       "    <tr>\n",
       "      <th>5</th>\n",
       "      <td>93</td>\n",
       "      <td>891</td>\n",
       "      <td>5509</td>\n",
       "      <td>1480</td>\n",
       "      <td>308</td>\n",
       "      <td>17</td>\n",
       "      <td>232</td>\n",
       "      <td>570</td>\n",
       "      <td>1151</td>\n",
       "      <td>88</td>\n",
       "      <td>670</td>\n",
       "      <td>609</td>\n",
       "      <td>3.80</td>\n",
       "      <td>7</td>\n",
       "      <td>10</td>\n",
       "      <td>34</td>\n",
       "      <td>88</td>\n",
       "    </tr>\n",
       "    <tr>\n",
       "      <th>6</th>\n",
       "      <td>87</td>\n",
       "      <td>764</td>\n",
       "      <td>5567</td>\n",
       "      <td>1397</td>\n",
       "      <td>272</td>\n",
       "      <td>19</td>\n",
       "      <td>212</td>\n",
       "      <td>554</td>\n",
       "      <td>1227</td>\n",
       "      <td>63</td>\n",
       "      <td>698</td>\n",
       "      <td>652</td>\n",
       "      <td>4.03</td>\n",
       "      <td>3</td>\n",
       "      <td>4</td>\n",
       "      <td>48</td>\n",
       "      <td>93</td>\n",
       "    </tr>\n",
       "    <tr>\n",
       "      <th>7</th>\n",
       "      <td>81</td>\n",
       "      <td>713</td>\n",
       "      <td>5485</td>\n",
       "      <td>1370</td>\n",
       "      <td>246</td>\n",
       "      <td>20</td>\n",
       "      <td>217</td>\n",
       "      <td>418</td>\n",
       "      <td>1331</td>\n",
       "      <td>44</td>\n",
       "      <td>693</td>\n",
       "      <td>646</td>\n",
       "      <td>4.05</td>\n",
       "      <td>0</td>\n",
       "      <td>10</td>\n",
       "      <td>43</td>\n",
       "      <td>77</td>\n",
       "    </tr>\n",
       "    <tr>\n",
       "      <th>8</th>\n",
       "      <td>80</td>\n",
       "      <td>644</td>\n",
       "      <td>5485</td>\n",
       "      <td>1383</td>\n",
       "      <td>278</td>\n",
       "      <td>32</td>\n",
       "      <td>167</td>\n",
       "      <td>436</td>\n",
       "      <td>1310</td>\n",
       "      <td>87</td>\n",
       "      <td>642</td>\n",
       "      <td>604</td>\n",
       "      <td>3.74</td>\n",
       "      <td>1</td>\n",
       "      <td>12</td>\n",
       "      <td>60</td>\n",
       "      <td>95</td>\n",
       "    </tr>\n",
       "    <tr>\n",
       "      <th>9</th>\n",
       "      <td>78</td>\n",
       "      <td>748</td>\n",
       "      <td>5640</td>\n",
       "      <td>1495</td>\n",
       "      <td>294</td>\n",
       "      <td>33</td>\n",
       "      <td>161</td>\n",
       "      <td>478</td>\n",
       "      <td>1148</td>\n",
       "      <td>71</td>\n",
       "      <td>753</td>\n",
       "      <td>694</td>\n",
       "      <td>4.31</td>\n",
       "      <td>3</td>\n",
       "      <td>10</td>\n",
       "      <td>40</td>\n",
       "      <td>97</td>\n",
       "    </tr>\n",
       "    <tr>\n",
       "      <th>10</th>\n",
       "      <td>88</td>\n",
       "      <td>751</td>\n",
       "      <td>5511</td>\n",
       "      <td>1419</td>\n",
       "      <td>279</td>\n",
       "      <td>32</td>\n",
       "      <td>172</td>\n",
       "      <td>503</td>\n",
       "      <td>1233</td>\n",
       "      <td>101</td>\n",
       "      <td>733</td>\n",
       "      <td>680</td>\n",
       "      <td>4.24</td>\n",
       "      <td>5</td>\n",
       "      <td>9</td>\n",
       "      <td>45</td>\n",
       "      <td>119</td>\n",
       "    </tr>\n",
       "    <tr>\n",
       "      <th>11</th>\n",
       "      <td>86</td>\n",
       "      <td>729</td>\n",
       "      <td>5459</td>\n",
       "      <td>1363</td>\n",
       "      <td>278</td>\n",
       "      <td>26</td>\n",
       "      <td>230</td>\n",
       "      <td>486</td>\n",
       "      <td>1392</td>\n",
       "      <td>121</td>\n",
       "      <td>618</td>\n",
       "      <td>572</td>\n",
       "      <td>3.57</td>\n",
       "      <td>5</td>\n",
       "      <td>13</td>\n",
       "      <td>39</td>\n",
       "      <td>85</td>\n",
       "    </tr>\n",
       "    <tr>\n",
       "      <th>12</th>\n",
       "      <td>85</td>\n",
       "      <td>661</td>\n",
       "      <td>5417</td>\n",
       "      <td>1331</td>\n",
       "      <td>243</td>\n",
       "      <td>21</td>\n",
       "      <td>176</td>\n",
       "      <td>435</td>\n",
       "      <td>1150</td>\n",
       "      <td>52</td>\n",
       "      <td>675</td>\n",
       "      <td>630</td>\n",
       "      <td>3.94</td>\n",
       "      <td>2</td>\n",
       "      <td>12</td>\n",
       "      <td>46</td>\n",
       "      <td>93</td>\n",
       "    </tr>\n",
       "    <tr>\n",
       "      <th>13</th>\n",
       "      <td>76</td>\n",
       "      <td>656</td>\n",
       "      <td>5544</td>\n",
       "      <td>1379</td>\n",
       "      <td>262</td>\n",
       "      <td>22</td>\n",
       "      <td>198</td>\n",
       "      <td>478</td>\n",
       "      <td>1336</td>\n",
       "      <td>69</td>\n",
       "      <td>726</td>\n",
       "      <td>677</td>\n",
       "      <td>4.16</td>\n",
       "      <td>6</td>\n",
       "      <td>12</td>\n",
       "      <td>45</td>\n",
       "      <td>94</td>\n",
       "    </tr>\n",
       "    <tr>\n",
       "      <th>14</th>\n",
       "      <td>68</td>\n",
       "      <td>694</td>\n",
       "      <td>5600</td>\n",
       "      <td>1405</td>\n",
       "      <td>277</td>\n",
       "      <td>46</td>\n",
       "      <td>146</td>\n",
       "      <td>475</td>\n",
       "      <td>1119</td>\n",
       "      <td>78</td>\n",
       "      <td>729</td>\n",
       "      <td>664</td>\n",
       "      <td>4.14</td>\n",
       "      <td>5</td>\n",
       "      <td>15</td>\n",
       "      <td>28</td>\n",
       "      <td>126</td>\n",
       "    </tr>\n",
       "    <tr>\n",
       "      <th>15</th>\n",
       "      <td>100</td>\n",
       "      <td>647</td>\n",
       "      <td>5484</td>\n",
       "      <td>1386</td>\n",
       "      <td>288</td>\n",
       "      <td>39</td>\n",
       "      <td>137</td>\n",
       "      <td>506</td>\n",
       "      <td>1267</td>\n",
       "      <td>69</td>\n",
       "      <td>525</td>\n",
       "      <td>478</td>\n",
       "      <td>2.94</td>\n",
       "      <td>1</td>\n",
       "      <td>15</td>\n",
       "      <td>62</td>\n",
       "      <td>96</td>\n",
       "    </tr>\n",
       "    <tr>\n",
       "      <th>16</th>\n",
       "      <td>98</td>\n",
       "      <td>697</td>\n",
       "      <td>5631</td>\n",
       "      <td>1462</td>\n",
       "      <td>292</td>\n",
       "      <td>27</td>\n",
       "      <td>140</td>\n",
       "      <td>461</td>\n",
       "      <td>1322</td>\n",
       "      <td>98</td>\n",
       "      <td>596</td>\n",
       "      <td>532</td>\n",
       "      <td>3.21</td>\n",
       "      <td>0</td>\n",
       "      <td>13</td>\n",
       "      <td>54</td>\n",
       "      <td>122</td>\n",
       "    </tr>\n",
       "    <tr>\n",
       "      <th>17</th>\n",
       "      <td>97</td>\n",
       "      <td>689</td>\n",
       "      <td>5491</td>\n",
       "      <td>1341</td>\n",
       "      <td>272</td>\n",
       "      <td>30</td>\n",
       "      <td>171</td>\n",
       "      <td>567</td>\n",
       "      <td>1518</td>\n",
       "      <td>95</td>\n",
       "      <td>608</td>\n",
       "      <td>546</td>\n",
       "      <td>3.36</td>\n",
       "      <td>6</td>\n",
       "      <td>21</td>\n",
       "      <td>48</td>\n",
       "      <td>111</td>\n",
       "    </tr>\n",
       "    <tr>\n",
       "      <th>18</th>\n",
       "      <td>68</td>\n",
       "      <td>655</td>\n",
       "      <td>5480</td>\n",
       "      <td>1378</td>\n",
       "      <td>274</td>\n",
       "      <td>34</td>\n",
       "      <td>145</td>\n",
       "      <td>412</td>\n",
       "      <td>1299</td>\n",
       "      <td>84</td>\n",
       "      <td>737</td>\n",
       "      <td>682</td>\n",
       "      <td>4.28</td>\n",
       "      <td>1</td>\n",
       "      <td>7</td>\n",
       "      <td>40</td>\n",
       "      <td>116</td>\n",
       "    </tr>\n",
       "    <tr>\n",
       "      <th>19</th>\n",
       "      <td>64</td>\n",
       "      <td>640</td>\n",
       "      <td>5571</td>\n",
       "      <td>1382</td>\n",
       "      <td>257</td>\n",
       "      <td>27</td>\n",
       "      <td>167</td>\n",
       "      <td>496</td>\n",
       "      <td>1255</td>\n",
       "      <td>134</td>\n",
       "      <td>754</td>\n",
       "      <td>700</td>\n",
       "      <td>4.33</td>\n",
       "      <td>2</td>\n",
       "      <td>8</td>\n",
       "      <td>35</td>\n",
       "      <td>90</td>\n",
       "    </tr>\n",
       "    <tr>\n",
       "      <th>20</th>\n",
       "      <td>90</td>\n",
       "      <td>683</td>\n",
       "      <td>5527</td>\n",
       "      <td>1351</td>\n",
       "      <td>295</td>\n",
       "      <td>17</td>\n",
       "      <td>177</td>\n",
       "      <td>488</td>\n",
       "      <td>1290</td>\n",
       "      <td>51</td>\n",
       "      <td>613</td>\n",
       "      <td>557</td>\n",
       "      <td>3.43</td>\n",
       "      <td>1</td>\n",
       "      <td>14</td>\n",
       "      <td>50</td>\n",
       "      <td>88</td>\n",
       "    </tr>\n",
       "    <tr>\n",
       "      <th>21</th>\n",
       "      <td>83</td>\n",
       "      <td>703</td>\n",
       "      <td>5428</td>\n",
       "      <td>1363</td>\n",
       "      <td>265</td>\n",
       "      <td>13</td>\n",
       "      <td>177</td>\n",
       "      <td>539</td>\n",
       "      <td>1344</td>\n",
       "      <td>57</td>\n",
       "      <td>635</td>\n",
       "      <td>577</td>\n",
       "      <td>3.62</td>\n",
       "      <td>4</td>\n",
       "      <td>13</td>\n",
       "      <td>41</td>\n",
       "      <td>90</td>\n",
       "    </tr>\n",
       "    <tr>\n",
       "      <th>22</th>\n",
       "      <td>71</td>\n",
       "      <td>613</td>\n",
       "      <td>5463</td>\n",
       "      <td>1420</td>\n",
       "      <td>236</td>\n",
       "      <td>40</td>\n",
       "      <td>120</td>\n",
       "      <td>375</td>\n",
       "      <td>1150</td>\n",
       "      <td>112</td>\n",
       "      <td>678</td>\n",
       "      <td>638</td>\n",
       "      <td>4.02</td>\n",
       "      <td>0</td>\n",
       "      <td>12</td>\n",
       "      <td>35</td>\n",
       "      <td>77</td>\n",
       "    </tr>\n",
       "    <tr>\n",
       "      <th>23</th>\n",
       "      <td>67</td>\n",
       "      <td>573</td>\n",
       "      <td>5420</td>\n",
       "      <td>1361</td>\n",
       "      <td>251</td>\n",
       "      <td>18</td>\n",
       "      <td>100</td>\n",
       "      <td>471</td>\n",
       "      <td>1107</td>\n",
       "      <td>69</td>\n",
       "      <td>760</td>\n",
       "      <td>698</td>\n",
       "      <td>4.41</td>\n",
       "      <td>3</td>\n",
       "      <td>10</td>\n",
       "      <td>44</td>\n",
       "      <td>90</td>\n",
       "    </tr>\n",
       "    <tr>\n",
       "      <th>24</th>\n",
       "      <td>63</td>\n",
       "      <td>626</td>\n",
       "      <td>5529</td>\n",
       "      <td>1374</td>\n",
       "      <td>272</td>\n",
       "      <td>37</td>\n",
       "      <td>130</td>\n",
       "      <td>387</td>\n",
       "      <td>1274</td>\n",
       "      <td>88</td>\n",
       "      <td>809</td>\n",
       "      <td>749</td>\n",
       "      <td>4.69</td>\n",
       "      <td>1</td>\n",
       "      <td>7</td>\n",
       "      <td>35</td>\n",
       "      <td>117</td>\n",
       "    </tr>\n",
       "    <tr>\n",
       "      <th>25</th>\n",
       "      <td>92</td>\n",
       "      <td>667</td>\n",
       "      <td>5385</td>\n",
       "      <td>1346</td>\n",
       "      <td>263</td>\n",
       "      <td>26</td>\n",
       "      <td>187</td>\n",
       "      <td>563</td>\n",
       "      <td>1258</td>\n",
       "      <td>59</td>\n",
       "      <td>595</td>\n",
       "      <td>553</td>\n",
       "      <td>3.44</td>\n",
       "      <td>6</td>\n",
       "      <td>21</td>\n",
       "      <td>47</td>\n",
       "      <td>75</td>\n",
       "    </tr>\n",
       "    <tr>\n",
       "      <th>26</th>\n",
       "      <td>84</td>\n",
       "      <td>696</td>\n",
       "      <td>5565</td>\n",
       "      <td>1486</td>\n",
       "      <td>288</td>\n",
       "      <td>39</td>\n",
       "      <td>136</td>\n",
       "      <td>457</td>\n",
       "      <td>1159</td>\n",
       "      <td>93</td>\n",
       "      <td>627</td>\n",
       "      <td>597</td>\n",
       "      <td>3.72</td>\n",
       "      <td>7</td>\n",
       "      <td>18</td>\n",
       "      <td>41</td>\n",
       "      <td>78</td>\n",
       "    </tr>\n",
       "    <tr>\n",
       "      <th>27</th>\n",
       "      <td>79</td>\n",
       "      <td>720</td>\n",
       "      <td>5649</td>\n",
       "      <td>1494</td>\n",
       "      <td>289</td>\n",
       "      <td>48</td>\n",
       "      <td>154</td>\n",
       "      <td>490</td>\n",
       "      <td>1312</td>\n",
       "      <td>132</td>\n",
       "      <td>713</td>\n",
       "      <td>659</td>\n",
       "      <td>4.04</td>\n",
       "      <td>1</td>\n",
       "      <td>12</td>\n",
       "      <td>44</td>\n",
       "      <td>86</td>\n",
       "    </tr>\n",
       "    <tr>\n",
       "      <th>28</th>\n",
       "      <td>74</td>\n",
       "      <td>650</td>\n",
       "      <td>5457</td>\n",
       "      <td>1324</td>\n",
       "      <td>260</td>\n",
       "      <td>36</td>\n",
       "      <td>148</td>\n",
       "      <td>426</td>\n",
       "      <td>1327</td>\n",
       "      <td>82</td>\n",
       "      <td>731</td>\n",
       "      <td>655</td>\n",
       "      <td>4.09</td>\n",
       "      <td>1</td>\n",
       "      <td>6</td>\n",
       "      <td>41</td>\n",
       "      <td>92</td>\n",
       "    </tr>\n",
       "    <tr>\n",
       "      <th>29</th>\n",
       "      <td>68</td>\n",
       "      <td>737</td>\n",
       "      <td>5572</td>\n",
       "      <td>1479</td>\n",
       "      <td>274</td>\n",
       "      <td>49</td>\n",
       "      <td>186</td>\n",
       "      <td>388</td>\n",
       "      <td>1283</td>\n",
       "      <td>97</td>\n",
       "      <td>844</td>\n",
       "      <td>799</td>\n",
       "      <td>5.04</td>\n",
       "      <td>4</td>\n",
       "      <td>4</td>\n",
       "      <td>36</td>\n",
       "      <td>95</td>\n",
       "    </tr>\n",
       "  </tbody>\n",
       "</table>\n",
       "</div>"
      ],
      "text/plain": [
       "      W    R    AB     H   2B  3B   HR   BB    SO   SB   RA   ER   ERA  CG  \\\n",
       "0    95  724  5575  1497  300  42  139  383   973  104  641  601  3.73   2   \n",
       "1    83  696  5467  1349  277  44  156  439  1264   70  700  653  4.07   2   \n",
       "2    81  669  5439  1395  303  29  141  533  1157   86  640  584  3.67  11   \n",
       "3    76  622  5533  1381  260  27  136  404  1231   68  701  643  3.98   7   \n",
       "4    74  689  5605  1515  289  49  151  455  1259   83  803  746  4.64   7   \n",
       "5    93  891  5509  1480  308  17  232  570  1151   88  670  609  3.80   7   \n",
       "6    87  764  5567  1397  272  19  212  554  1227   63  698  652  4.03   3   \n",
       "7    81  713  5485  1370  246  20  217  418  1331   44  693  646  4.05   0   \n",
       "8    80  644  5485  1383  278  32  167  436  1310   87  642  604  3.74   1   \n",
       "9    78  748  5640  1495  294  33  161  478  1148   71  753  694  4.31   3   \n",
       "10   88  751  5511  1419  279  32  172  503  1233  101  733  680  4.24   5   \n",
       "11   86  729  5459  1363  278  26  230  486  1392  121  618  572  3.57   5   \n",
       "12   85  661  5417  1331  243  21  176  435  1150   52  675  630  3.94   2   \n",
       "13   76  656  5544  1379  262  22  198  478  1336   69  726  677  4.16   6   \n",
       "14   68  694  5600  1405  277  46  146  475  1119   78  729  664  4.14   5   \n",
       "15  100  647  5484  1386  288  39  137  506  1267   69  525  478  2.94   1   \n",
       "16   98  697  5631  1462  292  27  140  461  1322   98  596  532  3.21   0   \n",
       "17   97  689  5491  1341  272  30  171  567  1518   95  608  546  3.36   6   \n",
       "18   68  655  5480  1378  274  34  145  412  1299   84  737  682  4.28   1   \n",
       "19   64  640  5571  1382  257  27  167  496  1255  134  754  700  4.33   2   \n",
       "20   90  683  5527  1351  295  17  177  488  1290   51  613  557  3.43   1   \n",
       "21   83  703  5428  1363  265  13  177  539  1344   57  635  577  3.62   4   \n",
       "22   71  613  5463  1420  236  40  120  375  1150  112  678  638  4.02   0   \n",
       "23   67  573  5420  1361  251  18  100  471  1107   69  760  698  4.41   3   \n",
       "24   63  626  5529  1374  272  37  130  387  1274   88  809  749  4.69   1   \n",
       "25   92  667  5385  1346  263  26  187  563  1258   59  595  553  3.44   6   \n",
       "26   84  696  5565  1486  288  39  136  457  1159   93  627  597  3.72   7   \n",
       "27   79  720  5649  1494  289  48  154  490  1312  132  713  659  4.04   1   \n",
       "28   74  650  5457  1324  260  36  148  426  1327   82  731  655  4.09   1   \n",
       "29   68  737  5572  1479  274  49  186  388  1283   97  844  799  5.04   4   \n",
       "\n",
       "    SHO  SV    E  \n",
       "0     8  56   88  \n",
       "1    12  45   86  \n",
       "2    10  38   79  \n",
       "3     9  37  101  \n",
       "4    12  35   86  \n",
       "5    10  34   88  \n",
       "6     4  48   93  \n",
       "7    10  43   77  \n",
       "8    12  60   95  \n",
       "9    10  40   97  \n",
       "10    9  45  119  \n",
       "11   13  39   85  \n",
       "12   12  46   93  \n",
       "13   12  45   94  \n",
       "14   15  28  126  \n",
       "15   15  62   96  \n",
       "16   13  54  122  \n",
       "17   21  48  111  \n",
       "18    7  40  116  \n",
       "19    8  35   90  \n",
       "20   14  50   88  \n",
       "21   13  41   90  \n",
       "22   12  35   77  \n",
       "23   10  44   90  \n",
       "24    7  35  117  \n",
       "25   21  47   75  \n",
       "26   18  41   78  \n",
       "27   12  44   86  \n",
       "28    6  41   92  \n",
       "29    4  36   95  "
      ]
     },
     "execution_count": 2,
     "metadata": {},
     "output_type": "execute_result"
    }
   ],
   "source": [
    "#Import the dataset\n",
    "df=pd.read_csv(\"https://raw.githubusercontent.com/dsrscientist/Data-Science-ML-Capstone-Projects/master/baseball.csv\")\n",
    "df"
   ]
  },
  {
   "cell_type": "code",
   "execution_count": 3,
   "id": "f27c6bc4",
   "metadata": {},
   "outputs": [
    {
     "data": {
      "text/plain": [
       "68     3\n",
       "81     2\n",
       "76     2\n",
       "74     2\n",
       "83     2\n",
       "98     1\n",
       "84     1\n",
       "92     1\n",
       "63     1\n",
       "67     1\n",
       "71     1\n",
       "90     1\n",
       "64     1\n",
       "97     1\n",
       "95     1\n",
       "100    1\n",
       "85     1\n",
       "86     1\n",
       "88     1\n",
       "78     1\n",
       "80     1\n",
       "87     1\n",
       "93     1\n",
       "79     1\n",
       "Name: W, dtype: int64"
      ]
     },
     "execution_count": 3,
     "metadata": {},
     "output_type": "execute_result"
    }
   ],
   "source": [
    "df[\"W\"].value_counts()"
   ]
  },
  {
   "cell_type": "markdown",
   "id": "bdfed04b",
   "metadata": {},
   "source": [
    "Number of predicted wins(w) is our target column. When we check the value_counts of column 'w' ,we can understand that it is a regression type dataset."
   ]
  },
  {
   "cell_type": "code",
   "execution_count": 4,
   "id": "38b2b8ae",
   "metadata": {},
   "outputs": [
    {
     "data": {
      "text/html": [
       "<div>\n",
       "<style scoped>\n",
       "    .dataframe tbody tr th:only-of-type {\n",
       "        vertical-align: middle;\n",
       "    }\n",
       "\n",
       "    .dataframe tbody tr th {\n",
       "        vertical-align: top;\n",
       "    }\n",
       "\n",
       "    .dataframe thead th {\n",
       "        text-align: right;\n",
       "    }\n",
       "</style>\n",
       "<table border=\"1\" class=\"dataframe\">\n",
       "  <thead>\n",
       "    <tr style=\"text-align: right;\">\n",
       "      <th></th>\n",
       "      <th>W</th>\n",
       "      <th>R</th>\n",
       "      <th>AB</th>\n",
       "      <th>H</th>\n",
       "      <th>2B</th>\n",
       "      <th>3B</th>\n",
       "      <th>HR</th>\n",
       "      <th>BB</th>\n",
       "      <th>SO</th>\n",
       "      <th>SB</th>\n",
       "      <th>RA</th>\n",
       "      <th>ER</th>\n",
       "      <th>ERA</th>\n",
       "      <th>CG</th>\n",
       "      <th>SHO</th>\n",
       "      <th>SV</th>\n",
       "      <th>E</th>\n",
       "    </tr>\n",
       "  </thead>\n",
       "  <tbody>\n",
       "    <tr>\n",
       "      <th>count</th>\n",
       "      <td>30.000000</td>\n",
       "      <td>30.000000</td>\n",
       "      <td>30.000000</td>\n",
       "      <td>30.000000</td>\n",
       "      <td>30.000000</td>\n",
       "      <td>30.000000</td>\n",
       "      <td>30.000000</td>\n",
       "      <td>30.000000</td>\n",
       "      <td>30.00000</td>\n",
       "      <td>30.000000</td>\n",
       "      <td>30.000000</td>\n",
       "      <td>30.000000</td>\n",
       "      <td>30.000000</td>\n",
       "      <td>30.000000</td>\n",
       "      <td>30.000000</td>\n",
       "      <td>30.000000</td>\n",
       "      <td>30.000000</td>\n",
       "    </tr>\n",
       "    <tr>\n",
       "      <th>mean</th>\n",
       "      <td>80.966667</td>\n",
       "      <td>688.233333</td>\n",
       "      <td>5516.266667</td>\n",
       "      <td>1403.533333</td>\n",
       "      <td>274.733333</td>\n",
       "      <td>31.300000</td>\n",
       "      <td>163.633333</td>\n",
       "      <td>469.100000</td>\n",
       "      <td>1248.20000</td>\n",
       "      <td>83.500000</td>\n",
       "      <td>688.233333</td>\n",
       "      <td>635.833333</td>\n",
       "      <td>3.956333</td>\n",
       "      <td>3.466667</td>\n",
       "      <td>11.300000</td>\n",
       "      <td>43.066667</td>\n",
       "      <td>94.333333</td>\n",
       "    </tr>\n",
       "    <tr>\n",
       "      <th>std</th>\n",
       "      <td>10.453455</td>\n",
       "      <td>58.761754</td>\n",
       "      <td>70.467372</td>\n",
       "      <td>57.140923</td>\n",
       "      <td>18.095405</td>\n",
       "      <td>10.452355</td>\n",
       "      <td>31.823309</td>\n",
       "      <td>57.053725</td>\n",
       "      <td>103.75947</td>\n",
       "      <td>22.815225</td>\n",
       "      <td>72.108005</td>\n",
       "      <td>70.140786</td>\n",
       "      <td>0.454089</td>\n",
       "      <td>2.763473</td>\n",
       "      <td>4.120177</td>\n",
       "      <td>7.869335</td>\n",
       "      <td>13.958889</td>\n",
       "    </tr>\n",
       "    <tr>\n",
       "      <th>min</th>\n",
       "      <td>63.000000</td>\n",
       "      <td>573.000000</td>\n",
       "      <td>5385.000000</td>\n",
       "      <td>1324.000000</td>\n",
       "      <td>236.000000</td>\n",
       "      <td>13.000000</td>\n",
       "      <td>100.000000</td>\n",
       "      <td>375.000000</td>\n",
       "      <td>973.00000</td>\n",
       "      <td>44.000000</td>\n",
       "      <td>525.000000</td>\n",
       "      <td>478.000000</td>\n",
       "      <td>2.940000</td>\n",
       "      <td>0.000000</td>\n",
       "      <td>4.000000</td>\n",
       "      <td>28.000000</td>\n",
       "      <td>75.000000</td>\n",
       "    </tr>\n",
       "    <tr>\n",
       "      <th>25%</th>\n",
       "      <td>74.000000</td>\n",
       "      <td>651.250000</td>\n",
       "      <td>5464.000000</td>\n",
       "      <td>1363.000000</td>\n",
       "      <td>262.250000</td>\n",
       "      <td>23.000000</td>\n",
       "      <td>140.250000</td>\n",
       "      <td>428.250000</td>\n",
       "      <td>1157.50000</td>\n",
       "      <td>69.000000</td>\n",
       "      <td>636.250000</td>\n",
       "      <td>587.250000</td>\n",
       "      <td>3.682500</td>\n",
       "      <td>1.000000</td>\n",
       "      <td>9.000000</td>\n",
       "      <td>37.250000</td>\n",
       "      <td>86.000000</td>\n",
       "    </tr>\n",
       "    <tr>\n",
       "      <th>50%</th>\n",
       "      <td>81.000000</td>\n",
       "      <td>689.000000</td>\n",
       "      <td>5510.000000</td>\n",
       "      <td>1382.500000</td>\n",
       "      <td>275.500000</td>\n",
       "      <td>31.000000</td>\n",
       "      <td>158.500000</td>\n",
       "      <td>473.000000</td>\n",
       "      <td>1261.50000</td>\n",
       "      <td>83.500000</td>\n",
       "      <td>695.500000</td>\n",
       "      <td>644.500000</td>\n",
       "      <td>4.025000</td>\n",
       "      <td>3.000000</td>\n",
       "      <td>12.000000</td>\n",
       "      <td>42.000000</td>\n",
       "      <td>91.000000</td>\n",
       "    </tr>\n",
       "    <tr>\n",
       "      <th>75%</th>\n",
       "      <td>87.750000</td>\n",
       "      <td>718.250000</td>\n",
       "      <td>5570.000000</td>\n",
       "      <td>1451.500000</td>\n",
       "      <td>288.750000</td>\n",
       "      <td>39.000000</td>\n",
       "      <td>177.000000</td>\n",
       "      <td>501.250000</td>\n",
       "      <td>1311.50000</td>\n",
       "      <td>96.500000</td>\n",
       "      <td>732.500000</td>\n",
       "      <td>679.250000</td>\n",
       "      <td>4.220000</td>\n",
       "      <td>5.750000</td>\n",
       "      <td>13.000000</td>\n",
       "      <td>46.750000</td>\n",
       "      <td>96.750000</td>\n",
       "    </tr>\n",
       "    <tr>\n",
       "      <th>max</th>\n",
       "      <td>100.000000</td>\n",
       "      <td>891.000000</td>\n",
       "      <td>5649.000000</td>\n",
       "      <td>1515.000000</td>\n",
       "      <td>308.000000</td>\n",
       "      <td>49.000000</td>\n",
       "      <td>232.000000</td>\n",
       "      <td>570.000000</td>\n",
       "      <td>1518.00000</td>\n",
       "      <td>134.000000</td>\n",
       "      <td>844.000000</td>\n",
       "      <td>799.000000</td>\n",
       "      <td>5.040000</td>\n",
       "      <td>11.000000</td>\n",
       "      <td>21.000000</td>\n",
       "      <td>62.000000</td>\n",
       "      <td>126.000000</td>\n",
       "    </tr>\n",
       "  </tbody>\n",
       "</table>\n",
       "</div>"
      ],
      "text/plain": [
       "                W           R           AB            H          2B  \\\n",
       "count   30.000000   30.000000    30.000000    30.000000   30.000000   \n",
       "mean    80.966667  688.233333  5516.266667  1403.533333  274.733333   \n",
       "std     10.453455   58.761754    70.467372    57.140923   18.095405   \n",
       "min     63.000000  573.000000  5385.000000  1324.000000  236.000000   \n",
       "25%     74.000000  651.250000  5464.000000  1363.000000  262.250000   \n",
       "50%     81.000000  689.000000  5510.000000  1382.500000  275.500000   \n",
       "75%     87.750000  718.250000  5570.000000  1451.500000  288.750000   \n",
       "max    100.000000  891.000000  5649.000000  1515.000000  308.000000   \n",
       "\n",
       "              3B          HR          BB          SO          SB          RA  \\\n",
       "count  30.000000   30.000000   30.000000    30.00000   30.000000   30.000000   \n",
       "mean   31.300000  163.633333  469.100000  1248.20000   83.500000  688.233333   \n",
       "std    10.452355   31.823309   57.053725   103.75947   22.815225   72.108005   \n",
       "min    13.000000  100.000000  375.000000   973.00000   44.000000  525.000000   \n",
       "25%    23.000000  140.250000  428.250000  1157.50000   69.000000  636.250000   \n",
       "50%    31.000000  158.500000  473.000000  1261.50000   83.500000  695.500000   \n",
       "75%    39.000000  177.000000  501.250000  1311.50000   96.500000  732.500000   \n",
       "max    49.000000  232.000000  570.000000  1518.00000  134.000000  844.000000   \n",
       "\n",
       "               ER        ERA         CG        SHO         SV           E  \n",
       "count   30.000000  30.000000  30.000000  30.000000  30.000000   30.000000  \n",
       "mean   635.833333   3.956333   3.466667  11.300000  43.066667   94.333333  \n",
       "std     70.140786   0.454089   2.763473   4.120177   7.869335   13.958889  \n",
       "min    478.000000   2.940000   0.000000   4.000000  28.000000   75.000000  \n",
       "25%    587.250000   3.682500   1.000000   9.000000  37.250000   86.000000  \n",
       "50%    644.500000   4.025000   3.000000  12.000000  42.000000   91.000000  \n",
       "75%    679.250000   4.220000   5.750000  13.000000  46.750000   96.750000  \n",
       "max    799.000000   5.040000  11.000000  21.000000  62.000000  126.000000  "
      ]
     },
     "execution_count": 4,
     "metadata": {},
     "output_type": "execute_result"
    }
   ],
   "source": [
    "df.describe()"
   ]
  },
  {
   "cell_type": "markdown",
   "id": "a74aa06e",
   "metadata": {},
   "source": [
    "We can see the detailed description of all the rows and columns like count, mean value, standard deviation, minimum and maximum values.\n",
    "\n",
    "1-There is no missing value.\n",
    "\n",
    "2-Here we can see that mean is higher than the standard deviation in all the columns so datas are highly spreaded.\n",
    "\n",
    "3- Relationship between mean and median(50%):\n",
    "\n",
    "column w : median is little bit higher than maen ( left skewed).\n",
    "\n",
    "column R : Here also median is higher than mean( left skewed).\n",
    "\n",
    "columns AB : mean is higher (right skewed).\n",
    "\n",
    "column H : mean is higher(right skewed).\n",
    "\n",
    "column 2B: median is higher( left skewed).\n",
    "\n",
    "column 3B :normal.\n",
    "\n",
    "column HR : mean is higher( right skewed).\n",
    "\n",
    "column BB : median is higher.\n",
    "\n",
    "column SO : median is higher.\n",
    "\n",
    "column SB : normal.\n",
    "\n",
    "column RA: median is higher.\n",
    "\n",
    "column ER: median is higher.\n",
    "\n",
    "column ERA : median is higher.\n",
    "\n",
    "column CG : mean is littile bit higher.\n",
    "\n",
    "column SHO : median is higher.\n",
    "\n",
    "column SV : mean is higher.\n",
    "\n",
    "column E : mean is higher.\n",
    "\n",
    "4-There is difference in 75% percentile and max in all the columns but higher difference can see columns(R,AB,H,BB,SO,RA,ER) 5 . Through with these above observation we can conclude that there is outlier in some columns."
   ]
  },
  {
   "cell_type": "code",
   "execution_count": 6,
   "id": "82df0e6c",
   "metadata": {},
   "outputs": [
    {
     "data": {
      "text/plain": [
       "(30, 17)"
      ]
     },
     "execution_count": 6,
     "metadata": {},
     "output_type": "execute_result"
    }
   ],
   "source": [
    "df.shape# checking data shape"
   ]
  },
  {
   "cell_type": "code",
   "execution_count": 8,
   "id": "125e130d",
   "metadata": {},
   "outputs": [
    {
     "data": {
      "text/plain": [
       "W      0\n",
       "R      0\n",
       "AB     0\n",
       "H      0\n",
       "2B     0\n",
       "3B     0\n",
       "HR     0\n",
       "BB     0\n",
       "SO     0\n",
       "SB     0\n",
       "RA     0\n",
       "ER     0\n",
       "ERA    0\n",
       "CG     0\n",
       "SHO    0\n",
       "SV     0\n",
       "E      0\n",
       "dtype: int64"
      ]
     },
     "execution_count": 8,
     "metadata": {},
     "output_type": "execute_result"
    }
   ],
   "source": [
    "#check is there any null value present in any column\n",
    "\n",
    "df.isnull().sum()"
   ]
  },
  {
   "cell_type": "markdown",
   "id": "16ab1d31",
   "metadata": {},
   "source": [
    "There is no null values."
   ]
  },
  {
   "cell_type": "code",
   "execution_count": 9,
   "id": "966a7af3",
   "metadata": {},
   "outputs": [
    {
     "data": {
      "text/plain": [
       "W        int64\n",
       "R        int64\n",
       "AB       int64\n",
       "H        int64\n",
       "2B       int64\n",
       "3B       int64\n",
       "HR       int64\n",
       "BB       int64\n",
       "SO       int64\n",
       "SB       int64\n",
       "RA       int64\n",
       "ER       int64\n",
       "ERA    float64\n",
       "CG       int64\n",
       "SHO      int64\n",
       "SV       int64\n",
       "E        int64\n",
       "dtype: object"
      ]
     },
     "execution_count": 9,
     "metadata": {},
     "output_type": "execute_result"
    }
   ],
   "source": [
    "df.dtypes #checking data type"
   ]
  },
  {
   "cell_type": "markdown",
   "id": "fa41f5b3",
   "metadata": {},
   "source": [
    "As we can see only \"ERA\" contains float values"
   ]
  },
  {
   "cell_type": "code",
   "execution_count": 10,
   "id": "5c6e1427",
   "metadata": {},
   "outputs": [
    {
     "data": {
      "text/plain": [
       "W      24\n",
       "R      28\n",
       "AB     29\n",
       "H      29\n",
       "2B     22\n",
       "3B     23\n",
       "HR     27\n",
       "BB     29\n",
       "SO     29\n",
       "SB     27\n",
       "RA     30\n",
       "ER     30\n",
       "ERA    30\n",
       "CG      9\n",
       "SHO    12\n",
       "SV     20\n",
       "E      21\n",
       "dtype: int64"
      ]
     },
     "execution_count": 10,
     "metadata": {},
     "output_type": "execute_result"
    }
   ],
   "source": [
    "# lets check unique value\n",
    "df.apply(lambda x: len(x.unique()))\n"
   ]
  },
  {
   "cell_type": "markdown",
   "id": "5653218c",
   "metadata": {},
   "source": [
    "In the dataset only Column CG is categorical"
   ]
  },
  {
   "cell_type": "code",
   "execution_count": 11,
   "id": "39fcff7e",
   "metadata": {},
   "outputs": [
    {
     "data": {
      "text/plain": [
       "<AxesSubplot:>"
      ]
     },
     "execution_count": 11,
     "metadata": {},
     "output_type": "execute_result"
    },
    {
     "data": {
      "image/png": "[encoded data removed]",
      "text/plain": [
       "<Figure size 1152x432 with 2 Axes>"
      ]
     },
     "metadata": {
      "needs_background": "light"
     },
     "output_type": "display_data"
    }
   ],
   "source": [
    "plt.figure(figsize=(16,6))\n",
    "sns.heatmap(df.corr(),annot=True,linewidths = 0.5,linecolor=\"black\",fmt = '.2f')"
   ]
  },
  {
   "cell_type": "markdown",
   "id": "da680824",
   "metadata": {},
   "source": [
    "Here we can see that winner(W) and saves(SV)are highly correlated.Runs Allowed(RA), Earned Runs(ER), Earned Run Average (ERA) these three columns are highly negative correlated with target column.At Bats(AB), Hits(H) these two columns are highly correlated with each other."
   ]
  },
  {
   "cell_type": "code",
   "execution_count": 12,
   "id": "80e3373c",
   "metadata": {},
   "outputs": [],
   "source": [
    "# lets drop negative correlated features\n",
    "df.drop(columns=['RA','ER','ERA'],axis=1,inplace=True)"
   ]
  },
  {
   "cell_type": "code",
   "execution_count": 16,
   "id": "8024ce38",
   "metadata": {},
   "outputs": [
    {
     "data": {
      "text/plain": [
       "array([[<AxesSubplot:title={'center':'W'}>,\n",
       "        <AxesSubplot:title={'center':'R'}>,\n",
       "        <AxesSubplot:title={'center':'AB'}>,\n",
       "        <AxesSubplot:title={'center':'H'}>],\n",
       "       [<AxesSubplot:title={'center':'2B'}>,\n",
       "        <AxesSubplot:title={'center':'3B'}>,\n",
       "        <AxesSubplot:title={'center':'HR'}>,\n",
       "        <AxesSubplot:title={'center':'BB'}>],\n",
       "       [<AxesSubplot:title={'center':'SO'}>,\n",
       "        <AxesSubplot:title={'center':'SB'}>,\n",
       "        <AxesSubplot:title={'center':'CG'}>,\n",
       "        <AxesSubplot:title={'center':'SHO'}>],\n",
       "       [<AxesSubplot:title={'center':'SV'}>,\n",
       "        <AxesSubplot:title={'center':'E'}>, <AxesSubplot:>,\n",
       "        <AxesSubplot:>]], dtype=object)"
      ]
     },
     "execution_count": 16,
     "metadata": {},
     "output_type": "execute_result"
    },
    {
     "data": {
      "image/png": "[encoded data removed]",
      "text/plain": [
       "<Figure size 1440x1440 with 16 Axes>"
      ]
     },
     "metadata": {
      "needs_background": "light"
     },
     "output_type": "display_data"
    }
   ],
   "source": [
    "df.hist(figsize=(20,20),grid = True, layout =(4,4),bins=30,color=('red'))"
   ]
  },
  {
   "cell_type": "code",
   "execution_count": 23,
   "id": "afdea04b",
   "metadata": {},
   "outputs": [
    {
     "data": {
      "image/png": "[encoded data removed]",
      "text/plain": [
       "<Figure size 1440x1080 with 1 Axes>"
      ]
     },
     "metadata": {
      "needs_background": "light"
     },
     "output_type": "display_data"
    }
   ],
   "source": [
    "df.boxplot(figsize=(20,15))\n",
    "plt.subplots_adjust(bottom=0.1)\n",
    "plt.show()"
   ]
  },
  {
   "cell_type": "markdown",
   "id": "291e2b88",
   "metadata": {},
   "source": [
    "we have some outliers in 3 columns(i.e \"SHO\",\"SV\",\"E\")"
   ]
  },
  {
   "cell_type": "code",
   "execution_count": 24,
   "id": "0bde1a50",
   "metadata": {},
   "outputs": [
    {
     "data": {
      "image/png": "[encoded data removed]",
      "text/plain": [
       "<Figure size 1080x576 with 1 Axes>"
      ]
     },
     "metadata": {
      "needs_background": "light"
     },
     "output_type": "display_data"
    }
   ],
   "source": [
    "df[[\"W\",\"SHO\",\"SV\",\"E\"]].boxplot(figsize=(15,8))\n",
    "plt.subplots_adjust(bottom=0.25)\n",
    "plt.show()"
   ]
  },
  {
   "cell_type": "markdown",
   "id": "4a627496",
   "metadata": {},
   "source": [
    "# Removal of outlier"
   ]
  },
  {
   "cell_type": "code",
   "execution_count": 25,
   "id": "dada72c6",
   "metadata": {},
   "outputs": [
    {
     "name": "stdout",
     "output_type": "stream",
     "text": [
      "(array([5], dtype=int64), array([1], dtype=int64))\n"
     ]
    }
   ],
   "source": [
    "# zscore value measurment\n",
    "zscr=np.abs(zscore(df))\n",
    "\n",
    "threshold=3\n",
    "print(np.where(zscr>3))"
   ]
  },
  {
   "cell_type": "code",
   "execution_count": 26,
   "id": "8752fe9b",
   "metadata": {},
   "outputs": [
    {
     "name": "stdout",
     "output_type": "stream",
     "text": [
      "shape before removing the outlier: (30, 14)\n",
      "shape after removing the outlier: (29, 14)\n"
     ]
    }
   ],
   "source": [
    "# lets check the presence of outlier\n",
    "\n",
    "print('shape before removing the outlier:',df.shape)\n",
    "\n",
    "df_new=df[(zscr<3).all (axis=1)]#removing the outlier \n",
    "\n",
    "print(\"shape after removing the outlier:\",df_new.shape)"
   ]
  },
  {
   "cell_type": "markdown",
   "id": "d4a615be",
   "metadata": {},
   "source": [
    "Succesfully removed outliers"
   ]
  },
  {
   "cell_type": "markdown",
   "id": "c3468fd7",
   "metadata": {},
   "source": [
    "# Skewness"
   ]
  },
  {
   "cell_type": "code",
   "execution_count": 27,
   "id": "3cde2e3b",
   "metadata": {},
   "outputs": [
    {
     "data": {
      "text/plain": [
       "W      0.119013\n",
       "R     -0.215364\n",
       "AB     0.169573\n",
       "H      0.783772\n",
       "2B    -0.335304\n",
       "3B     0.090124\n",
       "HR     0.450862\n",
       "BB     0.151193\n",
       "SO    -0.233815\n",
       "SB     0.494966\n",
       "CG     0.854980\n",
       "SHO    0.526943\n",
       "SV     0.627480\n",
       "E      0.840271\n",
       "dtype: float64"
      ]
     },
     "execution_count": 27,
     "metadata": {},
     "output_type": "execute_result"
    }
   ],
   "source": [
    "df_new.skew()"
   ]
  },
  {
   "cell_type": "markdown",
   "id": "85bc77e0",
   "metadata": {},
   "source": [
    "features H,CG,SV and E have some skewness .lets remove the skewness"
   ]
  },
  {
   "cell_type": "code",
   "execution_count": 29,
   "id": "e3ab75a7",
   "metadata": {},
   "outputs": [],
   "source": [
    "df_new[\"H\"]=np.sqrt(df_new[\"H\"])\n",
    "df_new[\"CG\"]=np.sqrt(df_new[\"CG\"])\n",
    "df_new[\"SV\"]=np.sqrt(df_new[\"SV\"])\n",
    "df_new[\"E\"]=np.sqrt(df_new[\"E\"])"
   ]
  },
  {
   "cell_type": "code",
   "execution_count": 30,
   "id": "2bb2d666",
   "metadata": {},
   "outputs": [
    {
     "data": {
      "text/plain": [
       "W      0.119013\n",
       "R     -0.215364\n",
       "AB     0.169573\n",
       "H      0.761274\n",
       "2B    -0.335304\n",
       "3B     0.090124\n",
       "HR     0.450862\n",
       "BB     0.151193\n",
       "SO    -0.233815\n",
       "SB     0.494966\n",
       "CG    -0.260678\n",
       "SHO    0.526943\n",
       "SV     0.370280\n",
       "E      0.714966\n",
       "dtype: float64"
      ]
     },
     "execution_count": 30,
     "metadata": {},
     "output_type": "execute_result"
    }
   ],
   "source": [
    "df_new.skew()"
   ]
  },
  {
   "cell_type": "markdown",
   "id": "c9ee7807",
   "metadata": {},
   "source": [
    "We have managed to remove skewness"
   ]
  },
  {
   "cell_type": "code",
   "execution_count": 32,
   "id": "3ac0e0ff",
   "metadata": {},
   "outputs": [],
   "source": [
    "df2=df_new"
   ]
  },
  {
   "cell_type": "code",
   "execution_count": 34,
   "id": "19efc361",
   "metadata": {},
   "outputs": [],
   "source": [
    "# split the data as input and output\n",
    "x = df2.drop(columns=[\"W\"],axis=1)\n",
    "y =df2[\"W\"]"
   ]
  },
  {
   "cell_type": "code",
   "execution_count": 35,
   "id": "63ef6707",
   "metadata": {},
   "outputs": [],
   "source": [
    "scal = StandardScaler()\n",
    "x = scal.fit_transform(x)"
   ]
  },
  {
   "cell_type": "markdown",
   "id": "e47bc554",
   "metadata": {},
   "source": [
    "now the datatype in single format using standard scaler"
   ]
  },
  {
   "cell_type": "markdown",
   "id": "493c81c5",
   "metadata": {},
   "source": [
    "# Seperating the columns into featuers and target:"
   ]
  },
  {
   "cell_type": "code",
   "execution_count": 36,
   "id": "2be08a8d",
   "metadata": {},
   "outputs": [
    {
     "name": "stdout",
     "output_type": "stream",
     "text": [
      "r2_score corresponding to random state:  1  is:  0.4678547592660576\n",
      "r2_score corresponding to random state:  2  is:  -1.0569164169264265\n",
      "r2_score corresponding to random state:  3  is:  0.7604351224800987\n",
      "r2_score corresponding to random state:  4  is:  0.38296152101166125\n",
      "r2_score corresponding to random state:  5  is:  -0.03531598233456412\n",
      "r2_score corresponding to random state:  6  is:  0.6316446093824138\n",
      "r2_score corresponding to random state:  7  is:  0.36857786412552707\n",
      "r2_score corresponding to random state:  8  is:  0.4031644101799856\n",
      "r2_score corresponding to random state:  9  is:  -0.17090211140219846\n",
      "r2_score corresponding to random state:  10  is:  -0.49273888923112197\n",
      "r2_score corresponding to random state:  11  is:  -0.8379157831791257\n",
      "r2_score corresponding to random state:  12  is:  -0.6191065731793772\n",
      "r2_score corresponding to random state:  13  is:  -0.2005282522850922\n",
      "r2_score corresponding to random state:  14  is:  0.14014810035179248\n",
      "r2_score corresponding to random state:  15  is:  0.7404070079764666\n",
      "r2_score corresponding to random state:  16  is:  -0.21108277658350505\n",
      "r2_score corresponding to random state:  17  is:  0.5096798837471515\n",
      "r2_score corresponding to random state:  18  is:  0.5126056813938564\n",
      "r2_score corresponding to random state:  19  is:  0.3230951223881745\n",
      "r2_score corresponding to random state:  20  is:  -0.07972495143712655\n",
      "r2_score corresponding to random state:  21  is:  -0.09940793467328812\n",
      "r2_score corresponding to random state:  22  is:  0.3481474525085293\n",
      "r2_score corresponding to random state:  23  is:  0.2750855228378484\n",
      "r2_score corresponding to random state:  24  is:  -0.9108503694839594\n",
      "r2_score corresponding to random state:  25  is:  0.3544871819353568\n",
      "r2_score corresponding to random state:  26  is:  0.06121121444500033\n",
      "r2_score corresponding to random state:  27  is:  0.27256844041540695\n",
      "r2_score corresponding to random state:  28  is:  0.7391109190221059\n",
      "r2_score corresponding to random state:  29  is:  0.4351207562720686\n",
      "r2_score corresponding to random state:  30  is:  0.6774905786739294\n",
      "r2_score corresponding to random state:  31  is:  -0.3347394132469337\n",
      "r2_score corresponding to random state:  32  is:  0.34677403957628283\n",
      "r2_score corresponding to random state:  33  is:  0.49922036238163525\n",
      "r2_score corresponding to random state:  34  is:  -0.14711737779047618\n",
      "r2_score corresponding to random state:  35  is:  0.6808557354933636\n",
      "r2_score corresponding to random state:  36  is:  -0.7274361751996405\n",
      "r2_score corresponding to random state:  37  is:  -0.333465178039847\n",
      "r2_score corresponding to random state:  38  is:  0.5062216636239629\n",
      "r2_score corresponding to random state:  39  is:  -0.7371782123268535\n",
      "r2_score corresponding to random state:  40  is:  -0.03829921346478349\n",
      "r2_score corresponding to random state:  41  is:  -0.2564852218425753\n",
      "r2_score corresponding to random state:  42  is:  0.6052966785363256\n",
      "r2_score corresponding to random state:  43  is:  -0.17098310220142277\n",
      "r2_score corresponding to random state:  44  is:  0.3339435714771811\n",
      "r2_score corresponding to random state:  45  is:  0.1949106215730778\n",
      "r2_score corresponding to random state:  46  is:  0.12373138062084876\n",
      "r2_score corresponding to random state:  47  is:  0.5948437384480635\n",
      "r2_score corresponding to random state:  48  is:  -0.380476317917428\n",
      "r2_score corresponding to random state:  49  is:  -1.1274111427395361\n",
      "r2_score corresponding to random state:  50  is:  0.6415640554374946\n",
      "r2_score corresponding to random state:  51  is:  0.30025447768218905\n",
      "r2_score corresponding to random state:  52  is:  -0.2202998175145714\n",
      "r2_score corresponding to random state:  53  is:  0.18648674512273467\n",
      "r2_score corresponding to random state:  54  is:  -0.1886704699195787\n",
      "r2_score corresponding to random state:  55  is:  -0.6663337119798072\n",
      "r2_score corresponding to random state:  56  is:  -0.007985255813116154\n",
      "r2_score corresponding to random state:  57  is:  0.5681542985242283\n",
      "r2_score corresponding to random state:  58  is:  0.4814855394819012\n",
      "r2_score corresponding to random state:  59  is:  0.27995957725135656\n",
      "r2_score corresponding to random state:  60  is:  0.5017331630767992\n",
      "r2_score corresponding to random state:  61  is:  0.43655035488570626\n",
      "r2_score corresponding to random state:  62  is:  0.021563729927374986\n",
      "r2_score corresponding to random state:  63  is:  0.051262532304708563\n",
      "r2_score corresponding to random state:  64  is:  0.34740251898388286\n",
      "r2_score corresponding to random state:  65  is:  0.6893632777035745\n",
      "r2_score corresponding to random state:  66  is:  0.7467330022288506\n",
      "r2_score corresponding to random state:  67  is:  0.8213886753099906\n",
      "r2_score corresponding to random state:  68  is:  0.6586872605842027\n",
      "r2_score corresponding to random state:  69  is:  -0.07357345345375688\n",
      "r2_score corresponding to random state:  70  is:  0.0890619245738884\n",
      "r2_score corresponding to random state:  71  is:  -5.452938713352975\n",
      "r2_score corresponding to random state:  72  is:  -1.1202198208435483\n",
      "r2_score corresponding to random state:  73  is:  0.7478806567326884\n",
      "r2_score corresponding to random state:  74  is:  0.22906592628536548\n",
      "r2_score corresponding to random state:  75  is:  0.6970999300603384\n",
      "r2_score corresponding to random state:  76  is:  0.6658314329849895\n",
      "r2_score corresponding to random state:  77  is:  -0.10902308375678071\n",
      "r2_score corresponding to random state:  78  is:  0.002980008185961669\n",
      "r2_score corresponding to random state:  79  is:  0.5128433286699667\n",
      "r2_score corresponding to random state:  80  is:  0.551725936038765\n",
      "r2_score corresponding to random state:  81  is:  0.42622433035454843\n",
      "r2_score corresponding to random state:  82  is:  -0.16878668536194041\n",
      "r2_score corresponding to random state:  83  is:  0.2678264351395675\n",
      "r2_score corresponding to random state:  84  is:  -0.26914005365332994\n",
      "r2_score corresponding to random state:  85  is:  0.720008851320044\n",
      "r2_score corresponding to random state:  86  is:  0.11565382916862443\n",
      "r2_score corresponding to random state:  87  is:  0.10617115901024021\n",
      "r2_score corresponding to random state:  88  is:  -2.1939658181031865\n",
      "r2_score corresponding to random state:  89  is:  0.2752941585269577\n",
      "r2_score corresponding to random state:  90  is:  0.6149136498464234\n",
      "r2_score corresponding to random state:  91  is:  0.2950006749638744\n",
      "r2_score corresponding to random state:  92  is:  -0.1458379097782172\n",
      "r2_score corresponding to random state:  93  is:  -2.262945291054297\n",
      "r2_score corresponding to random state:  94  is:  0.4384413783514758\n",
      "r2_score corresponding to random state:  95  is:  0.3807824688662108\n",
      "r2_score corresponding to random state:  96  is:  0.7134210590431449\n",
      "r2_score corresponding to random state:  97  is:  0.8115988052594171\n",
      "r2_score corresponding to random state:  98  is:  0.06383294850730847\n",
      "r2_score corresponding to random state:  99  is:  0.6942961509553816\n",
      "\n",
      "\n",
      "max r2 score corresponding to  67  is  0.8213886753099906\n"
     ]
    }
   ],
   "source": [
    "max_r_score=0\n",
    "for r_state in range(1,100):\n",
    "    x_train, x_test, y_train, y_test = train_test_split(x, y,random_state = r_state,test_size=0.20)\n",
    "    lr = LinearRegression()\n",
    "    lr.fit(x_train,y_train)\n",
    "    y_pred = lr.predict(x_test)\n",
    "    r2_scr=r2_score(y_test,y_pred)\n",
    "    print(\"r2_score corresponding to random state: \",r_state,\" is: \",r2_scr)\n",
    "    if r2_scr>max_r_score:\n",
    "        max_r_score=r2_scr\n",
    "        final_r_state=r_state\n",
    "print()\n",
    "print()\n",
    "print(\"max r2 score corresponding to \",final_r_state,\" is \",max_r_score)"
   ]
  },
  {
   "cell_type": "code",
   "execution_count": 37,
   "id": "5f9c086b",
   "metadata": {},
   "outputs": [],
   "source": [
    "x_train,x_test,y_train,y_test = train_test_split(x,y,random_state=67,test_size=0.20)"
   ]
  },
  {
   "cell_type": "markdown",
   "id": "ab63da75",
   "metadata": {},
   "source": [
    "# Lasso"
   ]
  },
  {
   "cell_type": "code",
   "execution_count": 38,
   "id": "07babf9e",
   "metadata": {},
   "outputs": [
    {
     "data": {
      "text/plain": [
       "0.7463751885541585"
      ]
     },
     "execution_count": 38,
     "metadata": {},
     "output_type": "execute_result"
    }
   ],
   "source": [
    "ls=Lasso(alpha=0.0001)\n",
    "ls=Lasso(alpha=1.0) #default\n",
    "ls.fit(x_train,y_train)\n",
    "ls.score(x_train,y_train)"
   ]
  },
  {
   "cell_type": "code",
   "execution_count": 39,
   "id": "5e1a227f",
   "metadata": {},
   "outputs": [
    {
     "data": {
      "text/plain": [
       "array([ 2.1319263 , -0.        , -0.        ,  0.45447633, -0.08689013,\n",
       "        0.        ,  0.47449073,  0.        , -0.        , -0.        ,\n",
       "        2.24601476,  5.20146557,  0.        ])"
      ]
     },
     "execution_count": 39,
     "metadata": {},
     "output_type": "execute_result"
    }
   ],
   "source": [
    "ls.coef_"
   ]
  },
  {
   "cell_type": "markdown",
   "id": "38553002",
   "metadata": {},
   "source": [
    "Lasso minimised the co-efficient value to zero"
   ]
  },
  {
   "cell_type": "markdown",
   "id": "eb67e57d",
   "metadata": {},
   "source": [
    "# Linear Regression"
   ]
  },
  {
   "cell_type": "code",
   "execution_count": 40,
   "id": "0b2fe01b",
   "metadata": {},
   "outputs": [
    {
     "name": "stdout",
     "output_type": "stream",
     "text": [
      "r2_score: 0.8213886753099906\n",
      "MSE: 5.35694746724863\n"
     ]
    }
   ],
   "source": [
    "lr=LinearRegression()\n",
    "lr.fit(x_train,y_train)\n",
    "pred=lr.predict(x_test)\n",
    "print(\"r2_score:\",r2_score(y_test,pred))\n",
    "print('MSE:',np.sqrt(mean_squared_error(y_test,pred)))"
   ]
  },
  {
   "cell_type": "code",
   "execution_count": 41,
   "id": "58e3fb45",
   "metadata": {},
   "outputs": [
    {
     "data": {
      "text/plain": [
       "{'fit_intercept': 'bool', 'n_jobs': 2}"
      ]
     },
     "execution_count": 41,
     "metadata": {},
     "output_type": "execute_result"
    }
   ],
   "source": [
    "parameter={'fit_intercept':['bool'],\n",
    "          'n_jobs':np.arange(2,10),}\n",
    "gcv=GridSearchCV(LinearRegression(),parameter,cv=3)\n",
    "gcv.fit(x_train,y_train)\n",
    "gcv.best_params_"
   ]
  },
  {
   "cell_type": "code",
   "execution_count": 42,
   "id": "2eb02563",
   "metadata": {},
   "outputs": [
    {
     "name": "stdout",
     "output_type": "stream",
     "text": [
      "82.13886753099906\n"
     ]
    }
   ],
   "source": [
    "final_mod =LinearRegression(n_jobs=2,fit_intercept='bool')\n",
    "final_mod.fit(x_train,y_train)\n",
    "pred=final_mod.predict(x_test)\n",
    "acc=r2_score(y_test,pred)\n",
    "print(acc*100)"
   ]
  },
  {
   "cell_type": "markdown",
   "id": "a1189f68",
   "metadata": {},
   "source": [
    "LR is a good Accuracy score (82%)"
   ]
  },
  {
   "cell_type": "markdown",
   "id": "be2775d9",
   "metadata": {},
   "source": [
    "Cross Validation of Linear Regression"
   ]
  },
  {
   "cell_type": "code",
   "execution_count": 43,
   "id": "8ac5235c",
   "metadata": {},
   "outputs": [
    {
     "data": {
      "text/plain": [
       "-0.1497835158368919"
      ]
     },
     "execution_count": 43,
     "metadata": {},
     "output_type": "execute_result"
    }
   ],
   "source": [
    "crs = cross_val_score(final_mod,x,y,cv=5,scoring='r2').mean()\n",
    "crs"
   ]
  },
  {
   "cell_type": "markdown",
   "id": "258a476a",
   "metadata": {},
   "source": [
    "# SVR"
   ]
  },
  {
   "cell_type": "code",
   "execution_count": 61,
   "id": "44510601",
   "metadata": {},
   "outputs": [
    {
     "name": "stdout",
     "output_type": "stream",
     "text": [
      "r2_score: 0.8213886753099906\n",
      "MSE: 5.35694746724863\n"
     ]
    }
   ],
   "source": [
    "def svrkernel(ker):\n",
    "    svr = SVR(kernel=ker)\n",
    "    svr.fit(x_train,y_train)\n",
    "    svr.score(x_train,y_train)\n",
    "    pred=svr.predict(x_test)\n",
    "print(\"r2_score:\",r2_score(y_test,pred))\n",
    "print('MSE:',np.sqrt(mean_squared_error(y_test,pred)))\n",
    "    "
   ]
  },
  {
   "cell_type": "code",
   "execution_count": 58,
   "id": "d723903d",
   "metadata": {},
   "outputs": [
    {
     "name": "stdout",
     "output_type": "stream",
     "text": [
      "r2_score: 0.6927102080198109\n",
      "MSE: 7.026466151498233\n"
     ]
    }
   ],
   "source": [
    "svrkernel (\"linear\")"
   ]
  },
  {
   "cell_type": "code",
   "execution_count": 59,
   "id": "1750e651",
   "metadata": {},
   "outputs": [
    {
     "name": "stdout",
     "output_type": "stream",
     "text": [
      "r2_score: 0.012209944110222692\n",
      "MSE: 12.59781471709641\n"
     ]
    }
   ],
   "source": [
    "svrkernel('poly')"
   ]
  },
  {
   "cell_type": "code",
   "execution_count": 60,
   "id": "144a4f15",
   "metadata": {},
   "outputs": [
    {
     "name": "stdout",
     "output_type": "stream",
     "text": [
      "r2_score: 0.05494363633991273\n",
      "MSE: 12.32229912643689\n"
     ]
    }
   ],
   "source": [
    "svrkernel('rbf')"
   ]
  },
  {
   "cell_type": "markdown",
   "id": "ed86cb5b",
   "metadata": {},
   "source": [
    "so in this svr model kernel= linear is the best parameter"
   ]
  },
  {
   "cell_type": "code",
   "execution_count": 71,
   "id": "528e7a56",
   "metadata": {},
   "outputs": [
    {
     "data": {
      "text/plain": [
       "{'epsilon': 1.0, 'gamma': 'scale', 'kernel': 'linear'}"
      ]
     },
     "execution_count": 71,
     "metadata": {},
     "output_type": "execute_result"
    }
   ],
   "source": [
    "parameter ={'kernel':[\"linear\",\"rbf\",\"poly\",\"sigmoid\"],\n",
    "          'gamma':[\"scale\",\"auto\"],\n",
    "           'epsilon':[0.001,0.0001,0.1,0.11,1.0,0.01]}\n",
    "gcv=GridSearchCV(SVR(),parameter,cv=3)\n",
    "gcv.fit(x_train,y_train)\n",
    "gcv.best_params_"
   ]
  },
  {
   "cell_type": "code",
   "execution_count": 62,
   "id": "3e89e079",
   "metadata": {},
   "outputs": [
    {
     "name": "stdout",
     "output_type": "stream",
     "text": [
      "70.68767523669518\n"
     ]
    }
   ],
   "source": [
    "final_mod =SVR(epsilon=1.0,gamma='scale',kernel='linear')\n",
    "final_mod.fit(x_train,y_train)\n",
    "pred=final_mod.predict(x_test)\n",
    "acc=r2_score(y_test,pred)\n",
    "print(acc*100)\n"
   ]
  },
  {
   "cell_type": "code",
   "execution_count": 63,
   "id": "c7b2bcb7",
   "metadata": {},
   "outputs": [
    {
     "data": {
      "text/plain": [
       "-0.29662814339539945"
      ]
     },
     "execution_count": 63,
     "metadata": {},
     "output_type": "execute_result"
    }
   ],
   "source": [
    "crs = cross_val_score(final_mod,x,y,cv=5,scoring='r2').mean()\n",
    "crs"
   ]
  },
  {
   "cell_type": "markdown",
   "id": "d5d47ca2",
   "metadata": {},
   "source": [
    "# DecisionTreeRegressor"
   ]
  },
  {
   "cell_type": "code",
   "execution_count": 67,
   "id": "7a50efdb",
   "metadata": {},
   "outputs": [],
   "source": [
    "def treespliter(split):\n",
    "    tree = DecisionTreeRegressor(splitter=split)\n",
    "    tree.fit(x_train,y_train)\n",
    "    tree.score(x_train,y_train)\n",
    "    pred=tree.predict(x_test)\n",
    "    print(\"r2_score:\",r2_score(y_test,pred))\n",
    "    print('MSE:',np.sqrt(mean_squared_error(y_test,pred)))"
   ]
  },
  {
   "cell_type": "code",
   "execution_count": 68,
   "id": "b6f3a5a2",
   "metadata": {},
   "outputs": [
    {
     "name": "stdout",
     "output_type": "stream",
     "text": [
      "r2_score: 0.803941908713693\n",
      "MSE: 5.612486080160912\n"
     ]
    }
   ],
   "source": [
    "treespliter('best')"
   ]
  },
  {
   "cell_type": "code",
   "execution_count": 69,
   "id": "3d1a6855",
   "metadata": {},
   "outputs": [
    {
     "name": "stdout",
     "output_type": "stream",
     "text": [
      "r2_score: 0.3205394190871369\n",
      "MSE: 10.448285345771653\n"
     ]
    }
   ],
   "source": [
    "treespliter('random')"
   ]
  },
  {
   "cell_type": "code",
   "execution_count": 70,
   "id": "c4d8fdea",
   "metadata": {},
   "outputs": [
    {
     "data": {
      "text/plain": [
       "{'criterion': 'friedman_mse', 'max_depth': 13, 'splitter': 'random'}"
      ]
     },
     "execution_count": 70,
     "metadata": {},
     "output_type": "execute_result"
    }
   ],
   "source": [
    "parameter = {\"criterion\":[\"mse\",\"friedman_mse\",\"mae\",\"poisson\"],\n",
    "           \"splitter\":[\"best\",\"random\"],\n",
    "            \"max_depth\" :np.arange(2,20)}\n",
    "gcv=GridSearchCV(DecisionTreeRegressor(),parameter,cv=3)\n",
    "gcv.fit(x_train,y_train)\n",
    "gcv.best_params_"
   ]
  },
  {
   "cell_type": "code",
   "execution_count": 72,
   "id": "e20a53c2",
   "metadata": {},
   "outputs": [
    {
     "name": "stdout",
     "output_type": "stream",
     "text": [
      "69.50639695712309\n"
     ]
    }
   ],
   "source": [
    "final_mod =DecisionTreeRegressor(criterion='mse',max_depth=2,splitter='random')\n",
    "final_mod.fit(x_train,y_train)\n",
    "pred=final_mod.predict(x_test)\n",
    "acc=r2_score(y_test,pred)\n",
    "print(acc*100)"
   ]
  },
  {
   "cell_type": "code",
   "execution_count": 73,
   "id": "05cfd597",
   "metadata": {},
   "outputs": [
    {
     "data": {
      "text/plain": [
       "-1.7485257758620012"
      ]
     },
     "execution_count": 73,
     "metadata": {},
     "output_type": "execute_result"
    }
   ],
   "source": [
    "crs = cross_val_score(final_mod,x,y,cv=5,scoring='r2').mean()\n",
    "crs"
   ]
  },
  {
   "cell_type": "markdown",
   "id": "1dc9d2a2",
   "metadata": {},
   "source": [
    "# Ensample Technic\n",
    "Bagging"
   ]
  },
  {
   "cell_type": "code",
   "execution_count": 76,
   "id": "65e238c9",
   "metadata": {},
   "outputs": [
    {
     "name": "stdout",
     "output_type": "stream",
     "text": [
      "0.6950639695712308\n"
     ]
    }
   ],
   "source": [
    "from sklearn.ensemble import RandomForestRegressor\n",
    "rf=RandomForestRegressor(n_estimators=100,random_state=42)\n",
    "rf.fit(x_train,y_train)\n",
    "predrf=rf.predict(x_test)\n",
    "print(r2_score(y_test,pred))"
   ]
  },
  {
   "cell_type": "markdown",
   "id": "90bfa362",
   "metadata": {},
   "source": [
    "Boosting"
   ]
  },
  {
   "cell_type": "code",
   "execution_count": 77,
   "id": "687e35ba",
   "metadata": {},
   "outputs": [
    {
     "name": "stdout",
     "output_type": "stream",
     "text": [
      "0.7316331690871369\n"
     ]
    }
   ],
   "source": [
    "from sklearn.ensemble import AdaBoostRegressor\n",
    "ab=AdaBoostRegressor(n_estimators=100)\n",
    "ab.fit(x_train,y_train)\n",
    "predrf=ab.predict(x_test)\n",
    "print(r2_score(y_test,predrf))"
   ]
  },
  {
   "cell_type": "markdown",
   "id": "eac6e476",
   "metadata": {},
   "source": [
    "Linear Regression is the best model.\n",
    "\n",
    "r2 score is 82.\n",
    "\n",
    "After that to improve the performense of the model try to use gridsearchcv with parameters but can't notice any more\n",
    "improvment\n",
    "\n",
    "try to boosting the performance also try to ensemble method."
   ]
  },
  {
   "cell_type": "markdown",
   "id": "abc408ae",
   "metadata": {},
   "source": [
    "# Saving the model"
   ]
  },
  {
   "cell_type": "code",
   "execution_count": 78,
   "id": "8394c4f6",
   "metadata": {},
   "outputs": [
    {
     "data": {
      "text/plain": [
       "['Pred_win.obj']"
      ]
     },
     "execution_count": 78,
     "metadata": {},
     "output_type": "execute_result"
    }
   ],
   "source": [
    "import joblib\n",
    "joblib.dump(LinearRegression(),\"Pred_win.obj\")"
   ]
  }
 ],
 "metadata": {
  "kernelspec": {
   "display_name": "Python 3 (ipykernel)",
   "language": "python",
   "name": "python3"
  },
  "language_info": {
   "codemirror_mode": {
    "name": "ipython",
    "version": 3
   },
   "file_extension": ".py",
   "mimetype": "text/x-python",
   "name": "python",
   "nbconvert_exporter": "python",
   "pygments_lexer": "ipython3",
   "version": "3.9.7"
  }
 },
 "nbformat": 4,
 "nbformat_minor": 5
}
